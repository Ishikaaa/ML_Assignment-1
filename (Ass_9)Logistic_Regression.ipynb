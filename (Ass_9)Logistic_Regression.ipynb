{
  "nbformat": 4,
  "nbformat_minor": 0,
  "metadata": {
    "colab": {
      "name": "(Ass-9)Logistic_Regression.ipynb",
      "version": "0.3.2",
      "provenance": [],
      "collapsed_sections": [],
      "include_colab_link": true
    },
    "kernelspec": {
      "name": "python3",
      "display_name": "Python 3"
    }
  },
  "cells": [
    {
      "cell_type": "markdown",
      "metadata": {
        "id": "view-in-github",
        "colab_type": "text"
      },
      "source": [
        "<a href=\"https://colab.research.google.com/github/Ishikaaa/Machine-Learning-Assignments/blob/master/(Ass_9)Logistic_Regression.ipynb\" target=\"_parent\"><img src=\"https://colab.research.google.com/assets/colab-badge.svg\" alt=\"Open In Colab\"/></a>"
      ]
    },
    {
      "metadata": {
        "id": "aiPH5UQOquYa",
        "colab_type": "text"
      },
      "cell_type": "markdown",
      "source": [
        "# ***1. Creating Working Directory - ***"
      ]
    },
    {
      "metadata": {
        "id": "2XmPZQVKb0ZQ",
        "colab_type": "code",
        "colab": {}
      },
      "cell_type": "code",
      "source": [
        "import numpy as np \n",
        "import pandas as pd \n",
        "import matplotlib.pyplot as plt\n",
        "import re "
      ],
      "execution_count": 0,
      "outputs": []
    },
    {
      "metadata": {
        "id": "SlrAMn-KDY6z",
        "colab_type": "code",
        "colab": {
          "base_uri": "https://localhost:8080/",
          "height": 204
        },
        "outputId": "a6e3f206-c669-4f1c-f954-de14ffd91a9b"
      },
      "cell_type": "code",
      "source": [
        "train=pd.read_csv(\"https://raw.githubusercontent.com/Shreyas3108/Titanic-EDA-and-Survival-prediction/master/train.csv \")\n",
        "train.head()"
      ],
      "execution_count": 2,
      "outputs": [
        {
          "output_type": "execute_result",
          "data": {
            "text/html": [
              "<div>\n",
              "<style scoped>\n",
              "    .dataframe tbody tr th:only-of-type {\n",
              "        vertical-align: middle;\n",
              "    }\n",
              "\n",
              "    .dataframe tbody tr th {\n",
              "        vertical-align: top;\n",
              "    }\n",
              "\n",
              "    .dataframe thead th {\n",
              "        text-align: right;\n",
              "    }\n",
              "</style>\n",
              "<table border=\"1\" class=\"dataframe\">\n",
              "  <thead>\n",
              "    <tr style=\"text-align: right;\">\n",
              "      <th></th>\n",
              "      <th>PassengerId</th>\n",
              "      <th>Survived</th>\n",
              "      <th>Pclass</th>\n",
              "      <th>Name</th>\n",
              "      <th>Sex</th>\n",
              "      <th>Age</th>\n",
              "      <th>SibSp</th>\n",
              "      <th>Parch</th>\n",
              "      <th>Ticket</th>\n",
              "      <th>Fare</th>\n",
              "      <th>Cabin</th>\n",
              "      <th>Embarked</th>\n",
              "    </tr>\n",
              "  </thead>\n",
              "  <tbody>\n",
              "    <tr>\n",
              "      <th>0</th>\n",
              "      <td>1</td>\n",
              "      <td>0</td>\n",
              "      <td>3</td>\n",
              "      <td>Braund, Mr. Owen Harris</td>\n",
              "      <td>male</td>\n",
              "      <td>22.0</td>\n",
              "      <td>1</td>\n",
              "      <td>0</td>\n",
              "      <td>A/5 21171</td>\n",
              "      <td>7.2500</td>\n",
              "      <td>NaN</td>\n",
              "      <td>S</td>\n",
              "    </tr>\n",
              "    <tr>\n",
              "      <th>1</th>\n",
              "      <td>2</td>\n",
              "      <td>1</td>\n",
              "      <td>1</td>\n",
              "      <td>Cumings, Mrs. John Bradley (Florence Briggs Th...</td>\n",
              "      <td>female</td>\n",
              "      <td>38.0</td>\n",
              "      <td>1</td>\n",
              "      <td>0</td>\n",
              "      <td>PC 17599</td>\n",
              "      <td>71.2833</td>\n",
              "      <td>C85</td>\n",
              "      <td>C</td>\n",
              "    </tr>\n",
              "    <tr>\n",
              "      <th>2</th>\n",
              "      <td>3</td>\n",
              "      <td>1</td>\n",
              "      <td>3</td>\n",
              "      <td>Heikkinen, Miss. Laina</td>\n",
              "      <td>female</td>\n",
              "      <td>26.0</td>\n",
              "      <td>0</td>\n",
              "      <td>0</td>\n",
              "      <td>STON/O2. 3101282</td>\n",
              "      <td>7.9250</td>\n",
              "      <td>NaN</td>\n",
              "      <td>S</td>\n",
              "    </tr>\n",
              "    <tr>\n",
              "      <th>3</th>\n",
              "      <td>4</td>\n",
              "      <td>1</td>\n",
              "      <td>1</td>\n",
              "      <td>Futrelle, Mrs. Jacques Heath (Lily May Peel)</td>\n",
              "      <td>female</td>\n",
              "      <td>35.0</td>\n",
              "      <td>1</td>\n",
              "      <td>0</td>\n",
              "      <td>113803</td>\n",
              "      <td>53.1000</td>\n",
              "      <td>C123</td>\n",
              "      <td>S</td>\n",
              "    </tr>\n",
              "    <tr>\n",
              "      <th>4</th>\n",
              "      <td>5</td>\n",
              "      <td>0</td>\n",
              "      <td>3</td>\n",
              "      <td>Allen, Mr. William Henry</td>\n",
              "      <td>male</td>\n",
              "      <td>35.0</td>\n",
              "      <td>0</td>\n",
              "      <td>0</td>\n",
              "      <td>373450</td>\n",
              "      <td>8.0500</td>\n",
              "      <td>NaN</td>\n",
              "      <td>S</td>\n",
              "    </tr>\n",
              "  </tbody>\n",
              "</table>\n",
              "</div>"
            ],
            "text/plain": [
              "   PassengerId  Survived  Pclass  \\\n",
              "0            1         0       3   \n",
              "1            2         1       1   \n",
              "2            3         1       3   \n",
              "3            4         1       1   \n",
              "4            5         0       3   \n",
              "\n",
              "                                                Name     Sex   Age  SibSp  \\\n",
              "0                            Braund, Mr. Owen Harris    male  22.0      1   \n",
              "1  Cumings, Mrs. John Bradley (Florence Briggs Th...  female  38.0      1   \n",
              "2                             Heikkinen, Miss. Laina  female  26.0      0   \n",
              "3       Futrelle, Mrs. Jacques Heath (Lily May Peel)  female  35.0      1   \n",
              "4                           Allen, Mr. William Henry    male  35.0      0   \n",
              "\n",
              "   Parch            Ticket     Fare Cabin Embarked  \n",
              "0      0         A/5 21171   7.2500   NaN        S  \n",
              "1      0          PC 17599  71.2833   C85        C  \n",
              "2      0  STON/O2. 3101282   7.9250   NaN        S  \n",
              "3      0            113803  53.1000  C123        S  \n",
              "4      0            373450   8.0500   NaN        S  "
            ]
          },
          "metadata": {
            "tags": []
          },
          "execution_count": 2
        }
      ]
    },
    {
      "metadata": {
        "id": "YLdJ5kwObxOx",
        "colab_type": "code",
        "colab": {
          "base_uri": "https://localhost:8080/",
          "height": 204
        },
        "outputId": "0bba6819-b085-44d2-95ce-3e38926bcdc6"
      },
      "cell_type": "code",
      "source": [
        "test=pd.read_csv(\"https://raw.githubusercontent.com/Shreyas3108/Titanic-EDA-and-Survival-prediction/master/test.csv\")\n",
        "test.head()"
      ],
      "execution_count": 3,
      "outputs": [
        {
          "output_type": "execute_result",
          "data": {
            "text/html": [
              "<div>\n",
              "<style scoped>\n",
              "    .dataframe tbody tr th:only-of-type {\n",
              "        vertical-align: middle;\n",
              "    }\n",
              "\n",
              "    .dataframe tbody tr th {\n",
              "        vertical-align: top;\n",
              "    }\n",
              "\n",
              "    .dataframe thead th {\n",
              "        text-align: right;\n",
              "    }\n",
              "</style>\n",
              "<table border=\"1\" class=\"dataframe\">\n",
              "  <thead>\n",
              "    <tr style=\"text-align: right;\">\n",
              "      <th></th>\n",
              "      <th>PassengerId</th>\n",
              "      <th>Pclass</th>\n",
              "      <th>Name</th>\n",
              "      <th>Sex</th>\n",
              "      <th>Age</th>\n",
              "      <th>SibSp</th>\n",
              "      <th>Parch</th>\n",
              "      <th>Ticket</th>\n",
              "      <th>Fare</th>\n",
              "      <th>Cabin</th>\n",
              "      <th>Embarked</th>\n",
              "    </tr>\n",
              "  </thead>\n",
              "  <tbody>\n",
              "    <tr>\n",
              "      <th>0</th>\n",
              "      <td>892</td>\n",
              "      <td>3</td>\n",
              "      <td>Kelly, Mr. James</td>\n",
              "      <td>male</td>\n",
              "      <td>34.5</td>\n",
              "      <td>0</td>\n",
              "      <td>0</td>\n",
              "      <td>330911</td>\n",
              "      <td>7.8292</td>\n",
              "      <td>NaN</td>\n",
              "      <td>Q</td>\n",
              "    </tr>\n",
              "    <tr>\n",
              "      <th>1</th>\n",
              "      <td>893</td>\n",
              "      <td>3</td>\n",
              "      <td>Wilkes, Mrs. James (Ellen Needs)</td>\n",
              "      <td>female</td>\n",
              "      <td>47.0</td>\n",
              "      <td>1</td>\n",
              "      <td>0</td>\n",
              "      <td>363272</td>\n",
              "      <td>7.0000</td>\n",
              "      <td>NaN</td>\n",
              "      <td>S</td>\n",
              "    </tr>\n",
              "    <tr>\n",
              "      <th>2</th>\n",
              "      <td>894</td>\n",
              "      <td>2</td>\n",
              "      <td>Myles, Mr. Thomas Francis</td>\n",
              "      <td>male</td>\n",
              "      <td>62.0</td>\n",
              "      <td>0</td>\n",
              "      <td>0</td>\n",
              "      <td>240276</td>\n",
              "      <td>9.6875</td>\n",
              "      <td>NaN</td>\n",
              "      <td>Q</td>\n",
              "    </tr>\n",
              "    <tr>\n",
              "      <th>3</th>\n",
              "      <td>895</td>\n",
              "      <td>3</td>\n",
              "      <td>Wirz, Mr. Albert</td>\n",
              "      <td>male</td>\n",
              "      <td>27.0</td>\n",
              "      <td>0</td>\n",
              "      <td>0</td>\n",
              "      <td>315154</td>\n",
              "      <td>8.6625</td>\n",
              "      <td>NaN</td>\n",
              "      <td>S</td>\n",
              "    </tr>\n",
              "    <tr>\n",
              "      <th>4</th>\n",
              "      <td>896</td>\n",
              "      <td>3</td>\n",
              "      <td>Hirvonen, Mrs. Alexander (Helga E Lindqvist)</td>\n",
              "      <td>female</td>\n",
              "      <td>22.0</td>\n",
              "      <td>1</td>\n",
              "      <td>1</td>\n",
              "      <td>3101298</td>\n",
              "      <td>12.2875</td>\n",
              "      <td>NaN</td>\n",
              "      <td>S</td>\n",
              "    </tr>\n",
              "  </tbody>\n",
              "</table>\n",
              "</div>"
            ],
            "text/plain": [
              "   PassengerId  Pclass                                          Name     Sex  \\\n",
              "0          892       3                              Kelly, Mr. James    male   \n",
              "1          893       3              Wilkes, Mrs. James (Ellen Needs)  female   \n",
              "2          894       2                     Myles, Mr. Thomas Francis    male   \n",
              "3          895       3                              Wirz, Mr. Albert    male   \n",
              "4          896       3  Hirvonen, Mrs. Alexander (Helga E Lindqvist)  female   \n",
              "\n",
              "    Age  SibSp  Parch   Ticket     Fare Cabin Embarked  \n",
              "0  34.5      0      0   330911   7.8292   NaN        Q  \n",
              "1  47.0      1      0   363272   7.0000   NaN        S  \n",
              "2  62.0      0      0   240276   9.6875   NaN        Q  \n",
              "3  27.0      0      0   315154   8.6625   NaN        S  \n",
              "4  22.0      1      1  3101298  12.2875   NaN        S  "
            ]
          },
          "metadata": {
            "tags": []
          },
          "execution_count": 3
        }
      ]
    },
    {
      "metadata": {
        "id": "7XdxVBhZrE0f",
        "colab_type": "code",
        "outputId": "a67b09b3-229c-47b9-8269-3d1bc99ceca5",
        "colab": {
          "base_uri": "https://localhost:8080/",
          "height": 204
        }
      },
      "cell_type": "code",
      "source": [
        "dataset=pd.concat([train,test])\n",
        "dataset.head()"
      ],
      "execution_count": 85,
      "outputs": [
        {
          "output_type": "execute_result",
          "data": {
            "text/html": [
              "<div>\n",
              "<style scoped>\n",
              "    .dataframe tbody tr th:only-of-type {\n",
              "        vertical-align: middle;\n",
              "    }\n",
              "\n",
              "    .dataframe tbody tr th {\n",
              "        vertical-align: top;\n",
              "    }\n",
              "\n",
              "    .dataframe thead th {\n",
              "        text-align: right;\n",
              "    }\n",
              "</style>\n",
              "<table border=\"1\" class=\"dataframe\">\n",
              "  <thead>\n",
              "    <tr style=\"text-align: right;\">\n",
              "      <th></th>\n",
              "      <th>Age</th>\n",
              "      <th>Cabin</th>\n",
              "      <th>Embarked</th>\n",
              "      <th>Fare</th>\n",
              "      <th>Name</th>\n",
              "      <th>Parch</th>\n",
              "      <th>PassengerId</th>\n",
              "      <th>Pclass</th>\n",
              "      <th>Sex</th>\n",
              "      <th>SibSp</th>\n",
              "      <th>Survived</th>\n",
              "      <th>Ticket</th>\n",
              "    </tr>\n",
              "  </thead>\n",
              "  <tbody>\n",
              "    <tr>\n",
              "      <th>0</th>\n",
              "      <td>22.0</td>\n",
              "      <td>NaN</td>\n",
              "      <td>S</td>\n",
              "      <td>7.2500</td>\n",
              "      <td>Braund, Mr. Owen Harris</td>\n",
              "      <td>0</td>\n",
              "      <td>1</td>\n",
              "      <td>3</td>\n",
              "      <td>male</td>\n",
              "      <td>1</td>\n",
              "      <td>0.0</td>\n",
              "      <td>A/5 21171</td>\n",
              "    </tr>\n",
              "    <tr>\n",
              "      <th>1</th>\n",
              "      <td>38.0</td>\n",
              "      <td>C85</td>\n",
              "      <td>C</td>\n",
              "      <td>71.2833</td>\n",
              "      <td>Cumings, Mrs. John Bradley (Florence Briggs Th...</td>\n",
              "      <td>0</td>\n",
              "      <td>2</td>\n",
              "      <td>1</td>\n",
              "      <td>female</td>\n",
              "      <td>1</td>\n",
              "      <td>1.0</td>\n",
              "      <td>PC 17599</td>\n",
              "    </tr>\n",
              "    <tr>\n",
              "      <th>2</th>\n",
              "      <td>26.0</td>\n",
              "      <td>NaN</td>\n",
              "      <td>S</td>\n",
              "      <td>7.9250</td>\n",
              "      <td>Heikkinen, Miss. Laina</td>\n",
              "      <td>0</td>\n",
              "      <td>3</td>\n",
              "      <td>3</td>\n",
              "      <td>female</td>\n",
              "      <td>0</td>\n",
              "      <td>1.0</td>\n",
              "      <td>STON/O2. 3101282</td>\n",
              "    </tr>\n",
              "    <tr>\n",
              "      <th>3</th>\n",
              "      <td>35.0</td>\n",
              "      <td>C123</td>\n",
              "      <td>S</td>\n",
              "      <td>53.1000</td>\n",
              "      <td>Futrelle, Mrs. Jacques Heath (Lily May Peel)</td>\n",
              "      <td>0</td>\n",
              "      <td>4</td>\n",
              "      <td>1</td>\n",
              "      <td>female</td>\n",
              "      <td>1</td>\n",
              "      <td>1.0</td>\n",
              "      <td>113803</td>\n",
              "    </tr>\n",
              "    <tr>\n",
              "      <th>4</th>\n",
              "      <td>35.0</td>\n",
              "      <td>NaN</td>\n",
              "      <td>S</td>\n",
              "      <td>8.0500</td>\n",
              "      <td>Allen, Mr. William Henry</td>\n",
              "      <td>0</td>\n",
              "      <td>5</td>\n",
              "      <td>3</td>\n",
              "      <td>male</td>\n",
              "      <td>0</td>\n",
              "      <td>0.0</td>\n",
              "      <td>373450</td>\n",
              "    </tr>\n",
              "  </tbody>\n",
              "</table>\n",
              "</div>"
            ],
            "text/plain": [
              "    Age Cabin Embarked     Fare  \\\n",
              "0  22.0   NaN        S   7.2500   \n",
              "1  38.0   C85        C  71.2833   \n",
              "2  26.0   NaN        S   7.9250   \n",
              "3  35.0  C123        S  53.1000   \n",
              "4  35.0   NaN        S   8.0500   \n",
              "\n",
              "                                                Name  Parch  PassengerId  \\\n",
              "0                            Braund, Mr. Owen Harris      0            1   \n",
              "1  Cumings, Mrs. John Bradley (Florence Briggs Th...      0            2   \n",
              "2                             Heikkinen, Miss. Laina      0            3   \n",
              "3       Futrelle, Mrs. Jacques Heath (Lily May Peel)      0            4   \n",
              "4                           Allen, Mr. William Henry      0            5   \n",
              "\n",
              "   Pclass     Sex  SibSp  Survived            Ticket  \n",
              "0       3    male      1       0.0         A/5 21171  \n",
              "1       1  female      1       1.0          PC 17599  \n",
              "2       3  female      0       1.0  STON/O2. 3101282  \n",
              "3       1  female      1       1.0            113803  \n",
              "4       3    male      0       0.0            373450  "
            ]
          },
          "metadata": {
            "tags": []
          },
          "execution_count": 85
        }
      ]
    },
    {
      "metadata": {
        "id": "1ym6UZFQryd8",
        "colab_type": "code",
        "outputId": "d04f3b30-f45b-46d6-ed37-779daedb235f",
        "colab": {
          "base_uri": "https://localhost:8080/",
          "height": 68
        }
      },
      "cell_type": "code",
      "source": [
        "dataset.columns"
      ],
      "execution_count": 5,
      "outputs": [
        {
          "output_type": "execute_result",
          "data": {
            "text/plain": [
              "Index(['Age', 'Cabin', 'Embarked', 'Fare', 'Name', 'Parch', 'PassengerId',\n",
              "       'Pclass', 'Sex', 'SibSp', 'Survived', 'Ticket'],\n",
              "      dtype='object')"
            ]
          },
          "metadata": {
            "tags": []
          },
          "execution_count": 5
        }
      ]
    },
    {
      "metadata": {
        "id": "myQCHjgcr27r",
        "colab_type": "code",
        "outputId": "dafabfd1-6601-47bc-b0c7-98bf81c63519",
        "colab": {
          "base_uri": "https://localhost:8080/",
          "height": 34
        }
      },
      "cell_type": "code",
      "source": [
        "dataset.shape"
      ],
      "execution_count": 0,
      "outputs": [
        {
          "output_type": "execute_result",
          "data": {
            "text/plain": [
              "(1309, 12)"
            ]
          },
          "metadata": {
            "tags": []
          },
          "execution_count": 91
        }
      ]
    },
    {
      "metadata": {
        "id": "7pkifkycsJPS",
        "colab_type": "code",
        "outputId": "578093b6-6cef-42ab-b0f6-abe96326e89c",
        "colab": {
          "base_uri": "https://localhost:8080/",
          "height": 306
        }
      },
      "cell_type": "code",
      "source": [
        "dataset.info()"
      ],
      "execution_count": 0,
      "outputs": [
        {
          "output_type": "stream",
          "text": [
            "<class 'pandas.core.frame.DataFrame'>\n",
            "Int64Index: 1309 entries, 0 to 417\n",
            "Data columns (total 12 columns):\n",
            "Age            1046 non-null float64\n",
            "Cabin          295 non-null object\n",
            "Embarked       1307 non-null object\n",
            "Fare           1308 non-null float64\n",
            "Name           1309 non-null object\n",
            "Parch          1309 non-null int64\n",
            "PassengerId    1309 non-null int64\n",
            "Pclass         1309 non-null int64\n",
            "Sex            1309 non-null object\n",
            "SibSp          1309 non-null int64\n",
            "Survived       891 non-null float64\n",
            "Ticket         1309 non-null object\n",
            "dtypes: float64(3), int64(4), object(5)\n",
            "memory usage: 132.9+ KB\n"
          ],
          "name": "stdout"
        }
      ]
    },
    {
      "metadata": {
        "id": "4hf112JKsOi-",
        "colab_type": "text"
      },
      "cell_type": "markdown",
      "source": [
        "# ***2. Remove NaN values from the column ‘Survived’ - ***"
      ]
    },
    {
      "metadata": {
        "id": "wmprK3-Ur5NH",
        "colab_type": "code",
        "outputId": "0915f6c4-2d76-46b2-e0a1-f896f80640b1",
        "colab": {
          "base_uri": "https://localhost:8080/",
          "height": 238
        }
      },
      "cell_type": "code",
      "source": [
        "dataset.isnull().sum()"
      ],
      "execution_count": 0,
      "outputs": [
        {
          "output_type": "execute_result",
          "data": {
            "text/plain": [
              "Age             263\n",
              "Cabin          1014\n",
              "Embarked          2\n",
              "Fare              1\n",
              "Name              0\n",
              "Parch             0\n",
              "PassengerId       0\n",
              "Pclass            0\n",
              "Sex               0\n",
              "SibSp             0\n",
              "Survived        418\n",
              "Ticket            0\n",
              "dtype: int64"
            ]
          },
          "metadata": {
            "tags": []
          },
          "execution_count": 11
        }
      ]
    },
    {
      "metadata": {
        "id": "gxkydzJ-s0LE",
        "colab_type": "code",
        "colab": {}
      },
      "cell_type": "code",
      "source": [
        "dataset.dropna(subset=['Survived'],inplace=True)"
      ],
      "execution_count": 0,
      "outputs": []
    },
    {
      "metadata": {
        "id": "s6I2GoFAtVXR",
        "colab_type": "code",
        "outputId": "424493a7-dd89-46bf-9d4a-ea301978bcb3",
        "colab": {
          "base_uri": "https://localhost:8080/",
          "height": 34
        }
      },
      "cell_type": "code",
      "source": [
        "dataset.shape"
      ],
      "execution_count": 87,
      "outputs": [
        {
          "output_type": "execute_result",
          "data": {
            "text/plain": [
              "(891, 12)"
            ]
          },
          "metadata": {
            "tags": []
          },
          "execution_count": 87
        }
      ]
    },
    {
      "metadata": {
        "id": "QLucgZzMtd6p",
        "colab_type": "text"
      },
      "cell_type": "markdown",
      "source": [
        "# ***3. Create a new column 'Has_Cabin' - ***"
      ]
    },
    {
      "metadata": {
        "id": "EZlFliBitt08",
        "colab_type": "code",
        "colab": {}
      },
      "cell_type": "code",
      "source": [
        "dataset['Has_Cabin']=dataset['Cabin'].notnull().astype(int)"
      ],
      "execution_count": 0,
      "outputs": []
    },
    {
      "metadata": {
        "id": "4ITy89dPuUVq",
        "colab_type": "code",
        "outputId": "95a1393f-0f9e-4288-f003-f424bb7b6820",
        "colab": {
          "base_uri": "https://localhost:8080/",
          "height": 476
        }
      },
      "cell_type": "code",
      "source": [
        "print(\"Shape:\",dataset.shape,end=\"\\n\\n\")\n",
        "print(\"Name of Columns:\",dataset.columns,end=\"\\n\\n\")\n",
        "print(\"Dateset:\")\n",
        "print(dataset.head())"
      ],
      "execution_count": 89,
      "outputs": [
        {
          "output_type": "stream",
          "text": [
            "Shape: (891, 13)\n",
            "\n",
            "Name of Columns: Index(['Age', 'Cabin', 'Embarked', 'Fare', 'Name', 'Parch', 'PassengerId',\n",
            "       'Pclass', 'Sex', 'SibSp', 'Survived', 'Ticket', 'Has_Cabin'],\n",
            "      dtype='object')\n",
            "\n",
            "Dateset:\n",
            "    Age Cabin Embarked     Fare  \\\n",
            "0  22.0   NaN        S   7.2500   \n",
            "1  38.0   C85        C  71.2833   \n",
            "2  26.0   NaN        S   7.9250   \n",
            "3  35.0  C123        S  53.1000   \n",
            "4  35.0   NaN        S   8.0500   \n",
            "\n",
            "                                                Name  Parch  PassengerId  \\\n",
            "0                            Braund, Mr. Owen Harris      0            1   \n",
            "1  Cumings, Mrs. John Bradley (Florence Briggs Th...      0            2   \n",
            "2                             Heikkinen, Miss. Laina      0            3   \n",
            "3       Futrelle, Mrs. Jacques Heath (Lily May Peel)      0            4   \n",
            "4                           Allen, Mr. William Henry      0            5   \n",
            "\n",
            "   Pclass     Sex  SibSp  Survived            Ticket  Has_Cabin  \n",
            "0       3    male      1       0.0         A/5 21171          0  \n",
            "1       1  female      1       1.0          PC 17599          1  \n",
            "2       3  female      0       1.0  STON/O2. 3101282          0  \n",
            "3       1  female      1       1.0            113803          1  \n",
            "4       3    male      0       0.0            373450          0  \n"
          ],
          "name": "stdout"
        }
      ]
    },
    {
      "metadata": {
        "id": "ZZ80rcz9u07d",
        "colab_type": "text"
      },
      "cell_type": "markdown",
      "source": [
        "# ***4. Create a new column “Title” - ***"
      ]
    },
    {
      "metadata": {
        "id": "3bvNLjI4u_Qe",
        "colab_type": "code",
        "colab": {}
      },
      "cell_type": "code",
      "source": [
        "dataset['Title']=dataset['Name']"
      ],
      "execution_count": 0,
      "outputs": []
    },
    {
      "metadata": {
        "id": "-qA6X6-7v41x",
        "colab_type": "code",
        "outputId": "c4edf847-5d93-4d70-dc89-ac0aea45712b",
        "colab": {
          "base_uri": "https://localhost:8080/",
          "height": 1071
        }
      },
      "cell_type": "code",
      "source": [
        "def regexp(name):\n",
        "  tit=['Mr', 'Mrs', 'Master', 'Miss', 'Special']\n",
        "  for i in range(0,891):\n",
        "    a=name[i]\n",
        "    if re.search(r'(a-zA-Z)*Mrs.(a-zA-Z)*',a):\n",
        "      name[i]='Mrs'\n",
        "    elif re.search(r'(a-zA-Z)*Mr.(a-zA-Z)*',a):  \n",
        "      name[i]='Mr'\n",
        "    elif re.search(r'(a-zA-Z)*Master.(a-zA-Z)*',a):  \n",
        "      name[i]='Master'\n",
        "    elif re.search(r'(a-zA-Z)*Miss.(a-zA-Z)*',a):  \n",
        "      name[i]='Miss'\n",
        "    else:  \n",
        "      name[i]='Special'\n",
        "      \n",
        "np.apply_along_axis(regexp, 0,dataset['Title'])\n",
        "print(dataset['Title'])"
      ],
      "execution_count": 91,
      "outputs": [
        {
          "output_type": "stream",
          "text": [
            "0           Mr\n",
            "1          Mrs\n",
            "2         Miss\n",
            "3          Mrs\n",
            "4           Mr\n",
            "5           Mr\n",
            "6           Mr\n",
            "7       Master\n",
            "8          Mrs\n",
            "9          Mrs\n",
            "10        Miss\n",
            "11        Miss\n",
            "12          Mr\n",
            "13          Mr\n",
            "14        Miss\n",
            "15         Mrs\n",
            "16      Master\n",
            "17          Mr\n",
            "18         Mrs\n",
            "19         Mrs\n",
            "20          Mr\n",
            "21          Mr\n",
            "22        Miss\n",
            "23          Mr\n",
            "24        Miss\n",
            "25         Mrs\n",
            "26          Mr\n",
            "27          Mr\n",
            "28        Miss\n",
            "29          Mr\n",
            "        ...   \n",
            "861         Mr\n",
            "862        Mrs\n",
            "863       Miss\n",
            "864         Mr\n",
            "865        Mrs\n",
            "866       Miss\n",
            "867         Mr\n",
            "868         Mr\n",
            "869     Master\n",
            "870         Mr\n",
            "871        Mrs\n",
            "872         Mr\n",
            "873         Mr\n",
            "874        Mrs\n",
            "875       Miss\n",
            "876         Mr\n",
            "877         Mr\n",
            "878         Mr\n",
            "879        Mrs\n",
            "880        Mrs\n",
            "881         Mr\n",
            "882       Miss\n",
            "883         Mr\n",
            "884         Mr\n",
            "885        Mrs\n",
            "886    Special\n",
            "887       Miss\n",
            "888       Miss\n",
            "889         Mr\n",
            "890         Mr\n",
            "Name: Title, Length: 891, dtype: object\n"
          ],
          "name": "stdout"
        }
      ]
    },
    {
      "metadata": {
        "id": "NPwV1cjUd3Si",
        "colab_type": "code",
        "outputId": "af6a6a5f-524a-4f99-9e77-bdfcd0f4d65c",
        "colab": {
          "base_uri": "https://localhost:8080/",
          "height": 119
        }
      },
      "cell_type": "code",
      "source": [
        "dataset['Title'].value_counts()"
      ],
      "execution_count": 92,
      "outputs": [
        {
          "output_type": "execute_result",
          "data": {
            "text/plain": [
              "Mr         518\n",
              "Miss       180\n",
              "Mrs        129\n",
              "Master      40\n",
              "Special     24\n",
              "Name: Title, dtype: int64"
            ]
          },
          "metadata": {
            "tags": []
          },
          "execution_count": 92
        }
      ]
    },
    {
      "metadata": {
        "id": "wu6FKP8XOquu",
        "colab_type": "code",
        "outputId": "1e5fec89-98c8-498c-e675-b0cc3883e6e2",
        "colab": {
          "base_uri": "https://localhost:8080/",
          "height": 476
        }
      },
      "cell_type": "code",
      "source": [
        "print(\"Shape:\",dataset.shape,end=\"\\n\\n\")\n",
        "print(\"Name of columns:\",dataset.columns,end=\"\\n\\n\")\n",
        "print(\"Dataset:\")\n",
        "print(dataset.head())      "
      ],
      "execution_count": 93,
      "outputs": [
        {
          "output_type": "stream",
          "text": [
            "Shape: (891, 14)\n",
            "\n",
            "Name of columns: Index(['Age', 'Cabin', 'Embarked', 'Fare', 'Name', 'Parch', 'PassengerId',\n",
            "       'Pclass', 'Sex', 'SibSp', 'Survived', 'Ticket', 'Has_Cabin', 'Title'],\n",
            "      dtype='object')\n",
            "\n",
            "Dataset:\n",
            "    Age Cabin Embarked     Fare  \\\n",
            "0  22.0   NaN        S   7.2500   \n",
            "1  38.0   C85        C  71.2833   \n",
            "2  26.0   NaN        S   7.9250   \n",
            "3  35.0  C123        S  53.1000   \n",
            "4  35.0   NaN        S   8.0500   \n",
            "\n",
            "                                                Name  Parch  PassengerId  \\\n",
            "0                            Braund, Mr. Owen Harris      0            1   \n",
            "1  Cumings, Mrs. John Bradley (Florence Briggs Th...      0            2   \n",
            "2                             Heikkinen, Miss. Laina      0            3   \n",
            "3       Futrelle, Mrs. Jacques Heath (Lily May Peel)      0            4   \n",
            "4                           Allen, Mr. William Henry      0            5   \n",
            "\n",
            "   Pclass     Sex  SibSp  Survived            Ticket  Has_Cabin Title  \n",
            "0       3    male      1       0.0         A/5 21171          0    Mr  \n",
            "1       1  female      1       1.0          PC 17599          1   Mrs  \n",
            "2       3  female      0       1.0  STON/O2. 3101282          0  Miss  \n",
            "3       1  female      1       1.0            113803          1   Mrs  \n",
            "4       3    male      0       0.0            373450          0    Mr  \n"
          ],
          "name": "stdout"
        }
      ]
    },
    {
      "metadata": {
        "id": "fDzI-8UWN6hm",
        "colab_type": "text"
      },
      "cell_type": "markdown",
      "source": [
        "# ***5. Impute the missing values - ***"
      ]
    },
    {
      "metadata": {
        "id": "Bnk8sSJ7OCmw",
        "colab_type": "code",
        "outputId": "211a77c7-ce7a-4364-c5b2-bad33aca0347",
        "colab": {
          "base_uri": "https://localhost:8080/",
          "height": 272
        }
      },
      "cell_type": "code",
      "source": [
        "dataset.isnull().sum()"
      ],
      "execution_count": 94,
      "outputs": [
        {
          "output_type": "execute_result",
          "data": {
            "text/plain": [
              "Age            177\n",
              "Cabin          687\n",
              "Embarked         2\n",
              "Fare             0\n",
              "Name             0\n",
              "Parch            0\n",
              "PassengerId      0\n",
              "Pclass           0\n",
              "Sex              0\n",
              "SibSp            0\n",
              "Survived         0\n",
              "Ticket           0\n",
              "Has_Cabin        0\n",
              "Title            0\n",
              "dtype: int64"
            ]
          },
          "metadata": {
            "tags": []
          },
          "execution_count": 94
        }
      ]
    },
    {
      "metadata": {
        "id": "nW9kfjuZPPsN",
        "colab_type": "code",
        "colab": {}
      },
      "cell_type": "code",
      "source": [
        "dataset=dataset.fillna(0)"
      ],
      "execution_count": 0,
      "outputs": []
    },
    {
      "metadata": {
        "id": "fJQ0__9rP_tM",
        "colab_type": "code",
        "outputId": "1a16fdc2-61e7-46fb-fd32-6dbc0abdf62e",
        "colab": {
          "base_uri": "https://localhost:8080/",
          "height": 272
        }
      },
      "cell_type": "code",
      "source": [
        "dataset.isnull().sum()"
      ],
      "execution_count": 96,
      "outputs": [
        {
          "output_type": "execute_result",
          "data": {
            "text/plain": [
              "Age            0\n",
              "Cabin          0\n",
              "Embarked       0\n",
              "Fare           0\n",
              "Name           0\n",
              "Parch          0\n",
              "PassengerId    0\n",
              "Pclass         0\n",
              "Sex            0\n",
              "SibSp          0\n",
              "Survived       0\n",
              "Ticket         0\n",
              "Has_Cabin      0\n",
              "Title          0\n",
              "dtype: int64"
            ]
          },
          "metadata": {
            "tags": []
          },
          "execution_count": 96
        }
      ]
    },
    {
      "metadata": {
        "id": "hf7iiisSQGA2",
        "colab_type": "text"
      },
      "cell_type": "markdown",
      "source": [
        "# ***6. Create two new columns “Categorical_age” and “Categorical_fare” -***"
      ]
    },
    {
      "metadata": {
        "id": "JR4JrTlaQecO",
        "colab_type": "code",
        "colab": {}
      },
      "cell_type": "code",
      "source": [
        "dataset['Categorical_age']=pd.qcut(dataset['Age'],3,labels=['A','B','C',])"
      ],
      "execution_count": 0,
      "outputs": []
    },
    {
      "metadata": {
        "id": "byCTg_7-Trv-",
        "colab_type": "code",
        "outputId": "33507504-326f-4252-c978-1d060846cea7",
        "colab": {
          "base_uri": "https://localhost:8080/",
          "height": 612
        }
      },
      "cell_type": "code",
      "source": [
        "print(\"Shape:\",dataset.shape,end=\"\\n\\n\")\n",
        "print(\"Name of column:\",dataset.columns,end=\"\\n\\n\")\n",
        "print(\"dataset:\")\n",
        "print(dataset.head())"
      ],
      "execution_count": 98,
      "outputs": [
        {
          "output_type": "stream",
          "text": [
            "Shape: (891, 15)\n",
            "\n",
            "Name of column: Index(['Age', 'Cabin', 'Embarked', 'Fare', 'Name', 'Parch', 'PassengerId',\n",
            "       'Pclass', 'Sex', 'SibSp', 'Survived', 'Ticket', 'Has_Cabin', 'Title',\n",
            "       'Categorical_age'],\n",
            "      dtype='object')\n",
            "\n",
            "dataset:\n",
            "    Age Cabin Embarked     Fare  \\\n",
            "0  22.0     0        S   7.2500   \n",
            "1  38.0   C85        C  71.2833   \n",
            "2  26.0     0        S   7.9250   \n",
            "3  35.0  C123        S  53.1000   \n",
            "4  35.0     0        S   8.0500   \n",
            "\n",
            "                                                Name  Parch  PassengerId  \\\n",
            "0                            Braund, Mr. Owen Harris      0            1   \n",
            "1  Cumings, Mrs. John Bradley (Florence Briggs Th...      0            2   \n",
            "2                             Heikkinen, Miss. Laina      0            3   \n",
            "3       Futrelle, Mrs. Jacques Heath (Lily May Peel)      0            4   \n",
            "4                           Allen, Mr. William Henry      0            5   \n",
            "\n",
            "   Pclass     Sex  SibSp  Survived            Ticket  Has_Cabin Title  \\\n",
            "0       3    male      1       0.0         A/5 21171          0    Mr   \n",
            "1       1  female      1       1.0          PC 17599          1   Mrs   \n",
            "2       3  female      0       1.0  STON/O2. 3101282          0  Miss   \n",
            "3       1  female      1       1.0            113803          1   Mrs   \n",
            "4       3    male      0       0.0            373450          0    Mr   \n",
            "\n",
            "  Categorical_age  \n",
            "0               B  \n",
            "1               C  \n",
            "2               B  \n",
            "3               C  \n",
            "4               C  \n"
          ],
          "name": "stdout"
        }
      ]
    },
    {
      "metadata": {
        "id": "otarLGZqUrS2",
        "colab_type": "code",
        "colab": {}
      },
      "cell_type": "code",
      "source": [
        "dataset['Categorical_fare']=pd.qcut(dataset['Fare'],3,labels=['A','B','C'])"
      ],
      "execution_count": 0,
      "outputs": []
    },
    {
      "metadata": {
        "id": "jcW95jirU608",
        "colab_type": "code",
        "outputId": "528873cb-f1ce-44e0-a444-d1d13bed2ec1",
        "colab": {
          "base_uri": "https://localhost:8080/",
          "height": 612
        }
      },
      "cell_type": "code",
      "source": [
        "print(\"Shape:\",dataset.shape,end=\"\\n\\n\")\n",
        "print(\"Name of column:\",dataset.columns,end=\"\\n\\n\")\n",
        "print(\"Dataset:\")\n",
        "print(dataset.head())"
      ],
      "execution_count": 100,
      "outputs": [
        {
          "output_type": "stream",
          "text": [
            "Shape: (891, 16)\n",
            "\n",
            "Name of column: Index(['Age', 'Cabin', 'Embarked', 'Fare', 'Name', 'Parch', 'PassengerId',\n",
            "       'Pclass', 'Sex', 'SibSp', 'Survived', 'Ticket', 'Has_Cabin', 'Title',\n",
            "       'Categorical_age', 'Categorical_fare'],\n",
            "      dtype='object')\n",
            "\n",
            "Dataset:\n",
            "    Age Cabin Embarked     Fare  \\\n",
            "0  22.0     0        S   7.2500   \n",
            "1  38.0   C85        C  71.2833   \n",
            "2  26.0     0        S   7.9250   \n",
            "3  35.0  C123        S  53.1000   \n",
            "4  35.0     0        S   8.0500   \n",
            "\n",
            "                                                Name  Parch  PassengerId  \\\n",
            "0                            Braund, Mr. Owen Harris      0            1   \n",
            "1  Cumings, Mrs. John Bradley (Florence Briggs Th...      0            2   \n",
            "2                             Heikkinen, Miss. Laina      0            3   \n",
            "3       Futrelle, Mrs. Jacques Heath (Lily May Peel)      0            4   \n",
            "4                           Allen, Mr. William Henry      0            5   \n",
            "\n",
            "   Pclass     Sex  SibSp  Survived            Ticket  Has_Cabin Title  \\\n",
            "0       3    male      1       0.0         A/5 21171          0    Mr   \n",
            "1       1  female      1       1.0          PC 17599          1   Mrs   \n",
            "2       3  female      0       1.0  STON/O2. 3101282          0  Miss   \n",
            "3       1  female      1       1.0            113803          1   Mrs   \n",
            "4       3    male      0       0.0            373450          0    Mr   \n",
            "\n",
            "  Categorical_age Categorical_fare  \n",
            "0               B                A  \n",
            "1               C                C  \n",
            "2               B                A  \n",
            "3               C                C  \n",
            "4               C                A  \n"
          ],
          "name": "stdout"
        }
      ]
    },
    {
      "metadata": {
        "id": "aeOBwiliVd6E",
        "colab_type": "text"
      },
      "cell_type": "markdown",
      "source": [
        "# ***7. Drop columns Cabin, Name, Passengerid, Ticket, Age, Fare, SibSp, Parch -***"
      ]
    },
    {
      "metadata": {
        "id": "SI5P8mgYU8wn",
        "colab_type": "code",
        "colab": {}
      },
      "cell_type": "code",
      "source": [
        "dataset.drop(labels=['Cabin', 'Name', 'PassengerId', 'Ticket', 'Age', 'Fare', 'SibSp', 'Parch'],axis=1,inplace=True)"
      ],
      "execution_count": 0,
      "outputs": []
    },
    {
      "metadata": {
        "id": "z-U-9kHFWZSk",
        "colab_type": "code",
        "outputId": "aa9b4177-685e-4aed-8bbf-881cd80ae6d6",
        "colab": {
          "base_uri": "https://localhost:8080/",
          "height": 357
        }
      },
      "cell_type": "code",
      "source": [
        "print(\"Shape:\",dataset.shape,end='\\n\\n')\n",
        "print(\"Name of Columns:\",dataset.columns,end='\\n\\n')\n",
        "print(\"Dataset:\")\n",
        "print(dataset.head())"
      ],
      "execution_count": 102,
      "outputs": [
        {
          "output_type": "stream",
          "text": [
            "Shape: (891, 8)\n",
            "\n",
            "Name of Columns: Index(['Embarked', 'Pclass', 'Sex', 'Survived', 'Has_Cabin', 'Title',\n",
            "       'Categorical_age', 'Categorical_fare'],\n",
            "      dtype='object')\n",
            "\n",
            "Dataset:\n",
            "  Embarked  Pclass     Sex  Survived  Has_Cabin Title Categorical_age  \\\n",
            "0        S       3    male       0.0          0    Mr               B   \n",
            "1        C       1  female       1.0          1   Mrs               C   \n",
            "2        S       3  female       1.0          0  Miss               B   \n",
            "3        S       1  female       1.0          1   Mrs               C   \n",
            "4        S       3    male       0.0          0    Mr               C   \n",
            "\n",
            "  Categorical_fare  \n",
            "0                A  \n",
            "1                C  \n",
            "2                A  \n",
            "3                C  \n",
            "4                A  \n"
          ],
          "name": "stdout"
        }
      ]
    },
    {
      "metadata": {
        "id": "e9I_OJOPWtbV",
        "colab_type": "text"
      },
      "cell_type": "markdown",
      "source": [
        "# ***8. Transform all variables into numeric ones using get_dummies() - ***"
      ]
    },
    {
      "metadata": {
        "id": "NRUcY_9tWxPH",
        "colab_type": "code",
        "outputId": "c6f8c6c9-449c-49e7-951d-7f20ecd99acb",
        "colab": {
          "base_uri": "https://localhost:8080/",
          "height": 238
        }
      },
      "cell_type": "code",
      "source": [
        "dataset.info()"
      ],
      "execution_count": 49,
      "outputs": [
        {
          "output_type": "stream",
          "text": [
            "<class 'pandas.core.frame.DataFrame'>\n",
            "Int64Index: 891 entries, 0 to 890\n",
            "Data columns (total 8 columns):\n",
            "Embarked            891 non-null object\n",
            "Pclass              891 non-null int64\n",
            "Sex                 891 non-null object\n",
            "Survived            891 non-null float64\n",
            "Has_Cabin           891 non-null int64\n",
            "Title               891 non-null object\n",
            "Categorical_age     891 non-null category\n",
            "Categorical_fare    891 non-null category\n",
            "dtypes: category(2), float64(1), int64(2), object(3)\n",
            "memory usage: 50.7+ KB\n"
          ],
          "name": "stdout"
        }
      ]
    },
    {
      "metadata": {
        "id": "w3boeO0eXYiD",
        "colab_type": "code",
        "colab": {}
      },
      "cell_type": "code",
      "source": [
        "dataset=pd.get_dummies(dataset,columns=['Embarked'],drop_first=True)"
      ],
      "execution_count": 0,
      "outputs": []
    },
    {
      "metadata": {
        "id": "rN6ALJsGXuTh",
        "colab_type": "code",
        "outputId": "c8e5abc3-bcb7-4790-cd6e-09162f8f1c4c",
        "colab": {
          "base_uri": "https://localhost:8080/",
          "height": 204
        }
      },
      "cell_type": "code",
      "source": [
        "dataset.head()"
      ],
      "execution_count": 76,
      "outputs": [
        {
          "output_type": "execute_result",
          "data": {
            "text/html": [
              "<div>\n",
              "<style scoped>\n",
              "    .dataframe tbody tr th:only-of-type {\n",
              "        vertical-align: middle;\n",
              "    }\n",
              "\n",
              "    .dataframe tbody tr th {\n",
              "        vertical-align: top;\n",
              "    }\n",
              "\n",
              "    .dataframe thead th {\n",
              "        text-align: right;\n",
              "    }\n",
              "</style>\n",
              "<table border=\"1\" class=\"dataframe\">\n",
              "  <thead>\n",
              "    <tr style=\"text-align: right;\">\n",
              "      <th></th>\n",
              "      <th>Pclass</th>\n",
              "      <th>Sex</th>\n",
              "      <th>Survived</th>\n",
              "      <th>Has_Cabin</th>\n",
              "      <th>Title</th>\n",
              "      <th>Categorical_age</th>\n",
              "      <th>Categorical_fare</th>\n",
              "      <th>Embarked_C</th>\n",
              "      <th>Embarked_Q</th>\n",
              "      <th>Embarked_S</th>\n",
              "    </tr>\n",
              "  </thead>\n",
              "  <tbody>\n",
              "    <tr>\n",
              "      <th>0</th>\n",
              "      <td>3</td>\n",
              "      <td>male</td>\n",
              "      <td>0.0</td>\n",
              "      <td>0</td>\n",
              "      <td>Mr</td>\n",
              "      <td>B</td>\n",
              "      <td>A</td>\n",
              "      <td>0</td>\n",
              "      <td>0</td>\n",
              "      <td>1</td>\n",
              "    </tr>\n",
              "    <tr>\n",
              "      <th>1</th>\n",
              "      <td>1</td>\n",
              "      <td>female</td>\n",
              "      <td>1.0</td>\n",
              "      <td>1</td>\n",
              "      <td>Mrs</td>\n",
              "      <td>C</td>\n",
              "      <td>C</td>\n",
              "      <td>1</td>\n",
              "      <td>0</td>\n",
              "      <td>0</td>\n",
              "    </tr>\n",
              "    <tr>\n",
              "      <th>2</th>\n",
              "      <td>3</td>\n",
              "      <td>female</td>\n",
              "      <td>1.0</td>\n",
              "      <td>0</td>\n",
              "      <td>Miss</td>\n",
              "      <td>B</td>\n",
              "      <td>A</td>\n",
              "      <td>0</td>\n",
              "      <td>0</td>\n",
              "      <td>1</td>\n",
              "    </tr>\n",
              "    <tr>\n",
              "      <th>3</th>\n",
              "      <td>1</td>\n",
              "      <td>female</td>\n",
              "      <td>1.0</td>\n",
              "      <td>1</td>\n",
              "      <td>Mrs</td>\n",
              "      <td>C</td>\n",
              "      <td>C</td>\n",
              "      <td>0</td>\n",
              "      <td>0</td>\n",
              "      <td>1</td>\n",
              "    </tr>\n",
              "    <tr>\n",
              "      <th>4</th>\n",
              "      <td>3</td>\n",
              "      <td>male</td>\n",
              "      <td>0.0</td>\n",
              "      <td>0</td>\n",
              "      <td>Mr</td>\n",
              "      <td>C</td>\n",
              "      <td>A</td>\n",
              "      <td>0</td>\n",
              "      <td>0</td>\n",
              "      <td>1</td>\n",
              "    </tr>\n",
              "  </tbody>\n",
              "</table>\n",
              "</div>"
            ],
            "text/plain": [
              "   Pclass     Sex  Survived  Has_Cabin Title Categorical_age Categorical_fare  \\\n",
              "0       3    male       0.0          0    Mr               B                A   \n",
              "1       1  female       1.0          1   Mrs               C                C   \n",
              "2       3  female       1.0          0  Miss               B                A   \n",
              "3       1  female       1.0          1   Mrs               C                C   \n",
              "4       3    male       0.0          0    Mr               C                A   \n",
              "\n",
              "   Embarked_C  Embarked_Q  Embarked_S  \n",
              "0           0           0           1  \n",
              "1           1           0           0  \n",
              "2           0           0           1  \n",
              "3           0           0           1  \n",
              "4           0           0           1  "
            ]
          },
          "metadata": {
            "tags": []
          },
          "execution_count": 76
        }
      ]
    },
    {
      "metadata": {
        "id": "IIuEgm4vb5FY",
        "colab_type": "code",
        "colab": {}
      },
      "cell_type": "code",
      "source": [
        "dataset=pd.get_dummies(dataset,columns=['Sex'],drop_first=True)\n",
        "dataset=pd.get_dummies(dataset,columns=['Title'],drop_first=True)\n",
        "dataset=pd.get_dummies(dataset,columns=['Categorical_age'],drop_first=True)\n",
        "dataset=pd.get_dummies(dataset,columns=['Categorical_fare'],drop_first=True)"
      ],
      "execution_count": 0,
      "outputs": []
    },
    {
      "metadata": {
        "id": "wUJPmzXAceH6",
        "colab_type": "code",
        "outputId": "2c90fe6e-b12c-45ba-a7f5-d231b6199574",
        "colab": {
          "base_uri": "https://localhost:8080/",
          "height": 224
        }
      },
      "cell_type": "code",
      "source": [
        "dataset.head()"
      ],
      "execution_count": 78,
      "outputs": [
        {
          "output_type": "execute_result",
          "data": {
            "text/html": [
              "<div>\n",
              "<style scoped>\n",
              "    .dataframe tbody tr th:only-of-type {\n",
              "        vertical-align: middle;\n",
              "    }\n",
              "\n",
              "    .dataframe tbody tr th {\n",
              "        vertical-align: top;\n",
              "    }\n",
              "\n",
              "    .dataframe thead th {\n",
              "        text-align: right;\n",
              "    }\n",
              "</style>\n",
              "<table border=\"1\" class=\"dataframe\">\n",
              "  <thead>\n",
              "    <tr style=\"text-align: right;\">\n",
              "      <th></th>\n",
              "      <th>Pclass</th>\n",
              "      <th>Survived</th>\n",
              "      <th>Has_Cabin</th>\n",
              "      <th>Embarked_C</th>\n",
              "      <th>Embarked_Q</th>\n",
              "      <th>Embarked_S</th>\n",
              "      <th>Sex_male</th>\n",
              "      <th>Title_Miss</th>\n",
              "      <th>Title_Mr</th>\n",
              "      <th>Title_Mrs</th>\n",
              "      <th>Title_Special</th>\n",
              "      <th>Categorical_age_B</th>\n",
              "      <th>Categorical_age_C</th>\n",
              "      <th>Categorical_fare_B</th>\n",
              "      <th>Categorical_fare_C</th>\n",
              "    </tr>\n",
              "  </thead>\n",
              "  <tbody>\n",
              "    <tr>\n",
              "      <th>0</th>\n",
              "      <td>3</td>\n",
              "      <td>0.0</td>\n",
              "      <td>0</td>\n",
              "      <td>0</td>\n",
              "      <td>0</td>\n",
              "      <td>1</td>\n",
              "      <td>1</td>\n",
              "      <td>0</td>\n",
              "      <td>1</td>\n",
              "      <td>0</td>\n",
              "      <td>0</td>\n",
              "      <td>1</td>\n",
              "      <td>0</td>\n",
              "      <td>0</td>\n",
              "      <td>0</td>\n",
              "    </tr>\n",
              "    <tr>\n",
              "      <th>1</th>\n",
              "      <td>1</td>\n",
              "      <td>1.0</td>\n",
              "      <td>1</td>\n",
              "      <td>1</td>\n",
              "      <td>0</td>\n",
              "      <td>0</td>\n",
              "      <td>0</td>\n",
              "      <td>0</td>\n",
              "      <td>0</td>\n",
              "      <td>1</td>\n",
              "      <td>0</td>\n",
              "      <td>0</td>\n",
              "      <td>1</td>\n",
              "      <td>0</td>\n",
              "      <td>1</td>\n",
              "    </tr>\n",
              "    <tr>\n",
              "      <th>2</th>\n",
              "      <td>3</td>\n",
              "      <td>1.0</td>\n",
              "      <td>0</td>\n",
              "      <td>0</td>\n",
              "      <td>0</td>\n",
              "      <td>1</td>\n",
              "      <td>0</td>\n",
              "      <td>1</td>\n",
              "      <td>0</td>\n",
              "      <td>0</td>\n",
              "      <td>0</td>\n",
              "      <td>1</td>\n",
              "      <td>0</td>\n",
              "      <td>0</td>\n",
              "      <td>0</td>\n",
              "    </tr>\n",
              "    <tr>\n",
              "      <th>3</th>\n",
              "      <td>1</td>\n",
              "      <td>1.0</td>\n",
              "      <td>1</td>\n",
              "      <td>0</td>\n",
              "      <td>0</td>\n",
              "      <td>1</td>\n",
              "      <td>0</td>\n",
              "      <td>0</td>\n",
              "      <td>0</td>\n",
              "      <td>1</td>\n",
              "      <td>0</td>\n",
              "      <td>0</td>\n",
              "      <td>1</td>\n",
              "      <td>0</td>\n",
              "      <td>1</td>\n",
              "    </tr>\n",
              "    <tr>\n",
              "      <th>4</th>\n",
              "      <td>3</td>\n",
              "      <td>0.0</td>\n",
              "      <td>0</td>\n",
              "      <td>0</td>\n",
              "      <td>0</td>\n",
              "      <td>1</td>\n",
              "      <td>1</td>\n",
              "      <td>0</td>\n",
              "      <td>1</td>\n",
              "      <td>0</td>\n",
              "      <td>0</td>\n",
              "      <td>0</td>\n",
              "      <td>1</td>\n",
              "      <td>0</td>\n",
              "      <td>0</td>\n",
              "    </tr>\n",
              "  </tbody>\n",
              "</table>\n",
              "</div>"
            ],
            "text/plain": [
              "   Pclass  Survived  Has_Cabin  Embarked_C  Embarked_Q  Embarked_S  Sex_male  \\\n",
              "0       3       0.0          0           0           0           1         1   \n",
              "1       1       1.0          1           1           0           0         0   \n",
              "2       3       1.0          0           0           0           1         0   \n",
              "3       1       1.0          1           0           0           1         0   \n",
              "4       3       0.0          0           0           0           1         1   \n",
              "\n",
              "   Title_Miss  Title_Mr  Title_Mrs  Title_Special  Categorical_age_B  \\\n",
              "0           0         1          0              0                  1   \n",
              "1           0         0          1              0                  0   \n",
              "2           1         0          0              0                  1   \n",
              "3           0         0          1              0                  0   \n",
              "4           0         1          0              0                  0   \n",
              "\n",
              "   Categorical_age_C  Categorical_fare_B  Categorical_fare_C  \n",
              "0                  0                   0                   0  \n",
              "1                  1                   0                   1  \n",
              "2                  0                   0                   0  \n",
              "3                  1                   0                   1  \n",
              "4                  1                   0                   0  "
            ]
          },
          "metadata": {
            "tags": []
          },
          "execution_count": 78
        }
      ]
    },
    {
      "metadata": {
        "id": "g1sxxvCdchgS",
        "colab_type": "code",
        "outputId": "331f3f35-8df2-4276-fcad-8cb6bbcb5568",
        "colab": {
          "base_uri": "https://localhost:8080/",
          "height": 136
        }
      },
      "cell_type": "code",
      "source": [
        "print(\"Shape:\",dataset.shape,end=\"\\n\\n\")\n",
        "print(\"Name of Columns:\",dataset.columns)"
      ],
      "execution_count": 105,
      "outputs": [
        {
          "output_type": "stream",
          "text": [
            "Shape: (891, 15)\n",
            "\n",
            "Name of Columns: Index(['Pclass', 'Survived', 'Has_Cabin', 'Embarked_C', 'Embarked_Q',\n",
            "       'Embarked_S', 'Sex_male', 'Title_Miss', 'Title_Mr', 'Title_Mrs',\n",
            "       'Title_Special', 'Categorical_age_B', 'Categorical_age_C',\n",
            "       'Categorical_fare_B', 'Categorical_fare_C'],\n",
            "      dtype='object')\n"
          ],
          "name": "stdout"
        }
      ]
    },
    {
      "metadata": {
        "id": "omY0Hyg4FbR4",
        "colab_type": "text"
      },
      "cell_type": "markdown",
      "source": [
        "# ***9. Splitting dataset into training and test set - ***"
      ]
    },
    {
      "metadata": {
        "id": "YWmbWhMbG_Aa",
        "colab_type": "code",
        "colab": {
          "base_uri": "https://localhost:8080/",
          "height": 4284
        },
        "outputId": "b8307f5a-dac4-47e8-dbd6-42270f59eaf9"
      },
      "cell_type": "code",
      "source": [
        "Y=dataset['Survived']\n",
        "X=dataset\n",
        "X.drop(labels=['Survived'],axis=1,inplace=True)\n",
        "X,Y"
      ],
      "execution_count": 106,
      "outputs": [
        {
          "output_type": "execute_result",
          "data": {
            "text/plain": [
              "(     Pclass  Has_Cabin  Embarked_C  Embarked_Q  Embarked_S  Sex_male  \\\n",
              " 0         3          0           0           0           1         1   \n",
              " 1         1          1           1           0           0         0   \n",
              " 2         3          0           0           0           1         0   \n",
              " 3         1          1           0           0           1         0   \n",
              " 4         3          0           0           0           1         1   \n",
              " 5         3          0           0           1           0         1   \n",
              " 6         1          1           0           0           1         1   \n",
              " 7         3          0           0           0           1         1   \n",
              " 8         3          0           0           0           1         0   \n",
              " 9         2          0           1           0           0         0   \n",
              " 10        3          1           0           0           1         0   \n",
              " 11        1          1           0           0           1         0   \n",
              " 12        3          0           0           0           1         1   \n",
              " 13        3          0           0           0           1         1   \n",
              " 14        3          0           0           0           1         0   \n",
              " 15        2          0           0           0           1         0   \n",
              " 16        3          0           0           1           0         1   \n",
              " 17        2          0           0           0           1         1   \n",
              " 18        3          0           0           0           1         0   \n",
              " 19        3          0           1           0           0         0   \n",
              " 20        2          0           0           0           1         1   \n",
              " 21        2          1           0           0           1         1   \n",
              " 22        3          0           0           1           0         0   \n",
              " 23        1          1           0           0           1         1   \n",
              " 24        3          0           0           0           1         0   \n",
              " 25        3          0           0           0           1         0   \n",
              " 26        3          0           1           0           0         1   \n",
              " 27        1          1           0           0           1         1   \n",
              " 28        3          0           0           1           0         0   \n",
              " 29        3          0           0           0           1         1   \n",
              " ..      ...        ...         ...         ...         ...       ...   \n",
              " 861       2          0           0           0           1         1   \n",
              " 862       1          1           0           0           1         0   \n",
              " 863       3          0           0           0           1         0   \n",
              " 864       2          0           0           0           1         1   \n",
              " 865       2          0           0           0           1         0   \n",
              " 866       2          0           1           0           0         0   \n",
              " 867       1          1           0           0           1         1   \n",
              " 868       3          0           0           0           1         1   \n",
              " 869       3          0           0           0           1         1   \n",
              " 870       3          0           0           0           1         1   \n",
              " 871       1          1           0           0           1         0   \n",
              " 872       1          1           0           0           1         1   \n",
              " 873       3          0           0           0           1         1   \n",
              " 874       2          0           1           0           0         0   \n",
              " 875       3          0           1           0           0         0   \n",
              " 876       3          0           0           0           1         1   \n",
              " 877       3          0           0           0           1         1   \n",
              " 878       3          0           0           0           1         1   \n",
              " 879       1          1           1           0           0         0   \n",
              " 880       2          0           0           0           1         0   \n",
              " 881       3          0           0           0           1         1   \n",
              " 882       3          0           0           0           1         0   \n",
              " 883       2          0           0           0           1         1   \n",
              " 884       3          0           0           0           1         1   \n",
              " 885       3          0           0           1           0         0   \n",
              " 886       2          0           0           0           1         1   \n",
              " 887       1          1           0           0           1         0   \n",
              " 888       3          0           0           0           1         0   \n",
              " 889       1          1           1           0           0         1   \n",
              " 890       3          0           0           1           0         1   \n",
              " \n",
              "      Title_Miss  Title_Mr  Title_Mrs  Title_Special  Categorical_age_B  \\\n",
              " 0             0         1          0              0                  1   \n",
              " 1             0         0          1              0                  0   \n",
              " 2             1         0          0              0                  1   \n",
              " 3             0         0          1              0                  0   \n",
              " 4             0         1          0              0                  0   \n",
              " 5             0         1          0              0                  0   \n",
              " 6             0         1          0              0                  0   \n",
              " 7             0         0          0              0                  0   \n",
              " 8             0         0          1              0                  1   \n",
              " 9             0         0          1              0                  0   \n",
              " 10            1         0          0              0                  0   \n",
              " 11            1         0          0              0                  0   \n",
              " 12            0         1          0              0                  1   \n",
              " 13            0         1          0              0                  0   \n",
              " 14            1         0          0              0                  0   \n",
              " 15            0         0          1              0                  0   \n",
              " 16            0         0          0              0                  0   \n",
              " 17            0         1          0              0                  0   \n",
              " 18            0         0          1              0                  1   \n",
              " 19            0         0          1              0                  0   \n",
              " 20            0         1          0              0                  0   \n",
              " 21            0         1          0              0                  0   \n",
              " 22            1         0          0              0                  0   \n",
              " 23            0         1          0              0                  1   \n",
              " 24            1         0          0              0                  0   \n",
              " 25            0         0          1              0                  0   \n",
              " 26            0         1          0              0                  0   \n",
              " 27            0         1          0              0                  1   \n",
              " 28            1         0          0              0                  0   \n",
              " 29            0         1          0              0                  0   \n",
              " ..          ...       ...        ...            ...                ...   \n",
              " 861           0         1          0              0                  1   \n",
              " 862           0         0          1              0                  0   \n",
              " 863           1         0          0              0                  0   \n",
              " 864           0         1          0              0                  1   \n",
              " 865           0         0          1              0                  0   \n",
              " 866           1         0          0              0                  1   \n",
              " 867           0         1          0              0                  1   \n",
              " 868           0         1          0              0                  0   \n",
              " 869           0         0          0              0                  0   \n",
              " 870           0         1          0              0                  1   \n",
              " 871           0         0          1              0                  0   \n",
              " 872           0         1          0              0                  0   \n",
              " 873           0         1          0              0                  0   \n",
              " 874           0         0          1              0                  1   \n",
              " 875           1         0          0              0                  0   \n",
              " 876           0         1          0              0                  1   \n",
              " 877           0         1          0              0                  1   \n",
              " 878           0         1          0              0                  0   \n",
              " 879           0         0          1              0                  0   \n",
              " 880           0         0          1              0                  1   \n",
              " 881           0         1          0              0                  0   \n",
              " 882           1         0          0              0                  1   \n",
              " 883           0         1          0              0                  1   \n",
              " 884           0         1          0              0                  1   \n",
              " 885           0         0          1              0                  0   \n",
              " 886           0         0          0              1                  1   \n",
              " 887           1         0          0              0                  1   \n",
              " 888           1         0          0              0                  0   \n",
              " 889           0         1          0              0                  1   \n",
              " 890           0         1          0              0                  0   \n",
              " \n",
              "      Categorical_age_C  Categorical_fare_B  Categorical_fare_C  \n",
              " 0                    0                   0                   0  \n",
              " 1                    1                   0                   1  \n",
              " 2                    0                   0                   0  \n",
              " 3                    1                   0                   1  \n",
              " 4                    1                   0                   0  \n",
              " 5                    0                   0                   0  \n",
              " 6                    1                   0                   1  \n",
              " 7                    0                   1                   0  \n",
              " 8                    0                   1                   0  \n",
              " 9                    0                   0                   1  \n",
              " 10                   0                   1                   0  \n",
              " 11                   1                   0                   1  \n",
              " 12                   0                   0                   0  \n",
              " 13                   1                   0                   1  \n",
              " 14                   0                   0                   0  \n",
              " 15                   1                   1                   0  \n",
              " 16                   0                   0                   1  \n",
              " 17                   0                   1                   0  \n",
              " 18                   0                   1                   0  \n",
              " 19                   0                   0                   0  \n",
              " 20                   1                   1                   0  \n",
              " 21                   1                   1                   0  \n",
              " 22                   0                   0                   0  \n",
              " 23                   0                   0                   1  \n",
              " 24                   0                   1                   0  \n",
              " 25                   1                   0                   1  \n",
              " 26                   0                   0                   0  \n",
              " 27                   0                   0                   1  \n",
              " 28                   0                   0                   0  \n",
              " 29                   0                   0                   0  \n",
              " ..                 ...                 ...                 ...  \n",
              " 861                  0                   1                   0  \n",
              " 862                  1                   1                   0  \n",
              " 863                  0                   0                   1  \n",
              " 864                  0                   1                   0  \n",
              " 865                  1                   1                   0  \n",
              " 866                  0                   1                   0  \n",
              " 867                  0                   0                   1  \n",
              " 868                  0                   1                   0  \n",
              " 869                  0                   1                   0  \n",
              " 870                  0                   0                   0  \n",
              " 871                  1                   0                   1  \n",
              " 872                  1                   0                   0  \n",
              " 873                  1                   1                   0  \n",
              " 874                  0                   1                   0  \n",
              " 875                  0                   0                   0  \n",
              " 876                  0                   1                   0  \n",
              " 877                  0                   0                   0  \n",
              " 878                  0                   0                   0  \n",
              " 879                  1                   0                   1  \n",
              " 880                  0                   1                   0  \n",
              " 881                  1                   0                   0  \n",
              " 882                  0                   1                   0  \n",
              " 883                  0                   1                   0  \n",
              " 884                  0                   0                   0  \n",
              " 885                  1                   0                   1  \n",
              " 886                  0                   1                   0  \n",
              " 887                  0                   0                   1  \n",
              " 888                  0                   1                   0  \n",
              " 889                  0                   0                   1  \n",
              " 890                  1                   0                   0  \n",
              " \n",
              " [891 rows x 14 columns], 0      0.0\n",
              " 1      1.0\n",
              " 2      1.0\n",
              " 3      1.0\n",
              " 4      0.0\n",
              " 5      0.0\n",
              " 6      0.0\n",
              " 7      0.0\n",
              " 8      1.0\n",
              " 9      1.0\n",
              " 10     1.0\n",
              " 11     1.0\n",
              " 12     0.0\n",
              " 13     0.0\n",
              " 14     0.0\n",
              " 15     1.0\n",
              " 16     0.0\n",
              " 17     1.0\n",
              " 18     0.0\n",
              " 19     1.0\n",
              " 20     0.0\n",
              " 21     1.0\n",
              " 22     1.0\n",
              " 23     1.0\n",
              " 24     0.0\n",
              " 25     1.0\n",
              " 26     0.0\n",
              " 27     0.0\n",
              " 28     1.0\n",
              " 29     0.0\n",
              "       ... \n",
              " 861    0.0\n",
              " 862    1.0\n",
              " 863    0.0\n",
              " 864    0.0\n",
              " 865    1.0\n",
              " 866    1.0\n",
              " 867    0.0\n",
              " 868    0.0\n",
              " 869    1.0\n",
              " 870    0.0\n",
              " 871    1.0\n",
              " 872    0.0\n",
              " 873    0.0\n",
              " 874    1.0\n",
              " 875    1.0\n",
              " 876    0.0\n",
              " 877    0.0\n",
              " 878    0.0\n",
              " 879    1.0\n",
              " 880    1.0\n",
              " 881    0.0\n",
              " 882    0.0\n",
              " 883    0.0\n",
              " 884    0.0\n",
              " 885    0.0\n",
              " 886    0.0\n",
              " 887    1.0\n",
              " 888    0.0\n",
              " 889    1.0\n",
              " 890    0.0\n",
              " Name: Survived, Length: 891, dtype: float64)"
            ]
          },
          "metadata": {
            "tags": []
          },
          "execution_count": 106
        }
      ]
    },
    {
      "metadata": {
        "id": "Mq1nx9zKF39O",
        "colab_type": "code",
        "colab": {
          "base_uri": "https://localhost:8080/",
          "height": 8585
        },
        "outputId": "04a7c905-cd2b-4b36-f895-71f180614a1d"
      },
      "cell_type": "code",
      "source": [
        "from sklearn.model_selection import train_test_split \n",
        "X_train,X_test,Y_train,Y_test=train_test_split(X,Y,test_size=0.25,random_state=0)\n",
        "X_train,X_test,Y_train,Y_test"
      ],
      "execution_count": 107,
      "outputs": [
        {
          "output_type": "execute_result",
          "data": {
            "text/plain": [
              "(     Pclass  Has_Cabin  Embarked_C  Embarked_Q  Embarked_S  Sex_male  \\\n",
              " 105       3          0           0           0           1         1   \n",
              " 68        3          0           0           0           1         0   \n",
              " 253       3          0           0           0           1         1   \n",
              " 320       3          0           0           0           1         1   \n",
              " 706       2          0           0           0           1         0   \n",
              " 271       3          0           0           0           1         1   \n",
              " 424       3          0           0           0           1         1   \n",
              " 752       3          0           0           0           1         1   \n",
              " 615       2          0           0           0           1         0   \n",
              " 2         3          0           0           0           1         0   \n",
              " 882       3          0           0           0           1         0   \n",
              " 467       1          0           0           0           1         1   \n",
              " 403       3          0           0           0           1         1   \n",
              " 258       1          0           1           0           0         0   \n",
              " 720       2          0           0           0           1         0   \n",
              " 272       2          0           0           0           1         0   \n",
              " 154       3          0           0           0           1         1   \n",
              " 832       3          0           1           0           0         1   \n",
              " 820       1          1           0           0           1         0   \n",
              " 382       3          0           0           0           1         1   \n",
              " 20        2          0           0           0           1         1   \n",
              " 585       1          1           0           0           1         0   \n",
              " 65        3          0           1           0           0         1   \n",
              " 680       3          0           0           1           0         0   \n",
              " 878       3          0           0           0           1         1   \n",
              " 304       3          0           0           0           1         1   \n",
              " 823       3          1           0           0           1         0   \n",
              " 521       3          0           0           0           1         1   \n",
              " 333       3          0           0           0           1         1   \n",
              " 698       1          1           1           0           0         1   \n",
              " ..      ...        ...         ...         ...         ...       ...   \n",
              " 72        2          0           0           0           1         1   \n",
              " 845       3          0           0           0           1         1   \n",
              " 537       1          0           1           0           0         0   \n",
              " 677       3          0           0           0           1         0   \n",
              " 849       1          1           1           0           0         0   \n",
              " 874       2          0           1           0           0         0   \n",
              " 174       1          1           1           0           0         1   \n",
              " 87        3          0           0           0           1         1   \n",
              " 551       2          0           0           0           1         1   \n",
              " 486       1          1           0           0           1         0   \n",
              " 705       2          0           0           0           1         1   \n",
              " 314       2          0           0           0           1         1   \n",
              " 396       3          0           0           0           1         0   \n",
              " 600       2          0           0           0           1         0   \n",
              " 472       2          0           0           0           1         0   \n",
              " 70        2          0           0           0           1         1   \n",
              " 599       1          1           1           0           0         1   \n",
              " 804       3          0           0           0           1         1   \n",
              " 754       2          0           0           0           1         0   \n",
              " 277       2          0           0           0           1         1   \n",
              " 723       2          0           0           0           1         1   \n",
              " 9         2          0           1           0           0         0   \n",
              " 359       3          0           0           1           0         0   \n",
              " 707       1          1           0           0           1         1   \n",
              " 763       1          1           0           0           1         0   \n",
              " 835       1          1           1           0           0         0   \n",
              " 192       3          0           0           0           1         0   \n",
              " 629       3          0           0           1           0         1   \n",
              " 559       3          0           0           0           1         0   \n",
              " 684       2          0           0           0           1         1   \n",
              " \n",
              "      Title_Miss  Title_Mr  Title_Mrs  Title_Special  Categorical_age_B  \\\n",
              " 105           0         1          0              0                  1   \n",
              " 68            1         0          0              0                  0   \n",
              " 253           0         1          0              0                  1   \n",
              " 320           0         1          0              0                  1   \n",
              " 706           0         0          1              0                  0   \n",
              " 271           0         1          0              0                  1   \n",
              " 424           0         1          0              0                  0   \n",
              " 752           0         1          0              0                  0   \n",
              " 615           1         0          0              0                  1   \n",
              " 2             1         0          0              0                  1   \n",
              " 882           1         0          0              0                  1   \n",
              " 467           0         1          0              0                  0   \n",
              " 403           0         1          0              0                  1   \n",
              " 258           1         0          0              0                  0   \n",
              " 720           1         0          0              0                  0   \n",
              " 272           0         0          1              0                  0   \n",
              " 154           0         1          0              0                  0   \n",
              " 832           0         1          0              0                  0   \n",
              " 820           0         0          1              0                  0   \n",
              " 382           0         1          0              0                  0   \n",
              " 20            0         1          0              0                  0   \n",
              " 585           1         0          0              0                  0   \n",
              " 65            0         0          0              0                  0   \n",
              " 680           1         0          0              0                  0   \n",
              " 878           0         1          0              0                  0   \n",
              " 304           0         1          0              0                  0   \n",
              " 823           0         0          1              0                  1   \n",
              " 521           0         1          0              0                  1   \n",
              " 333           0         1          0              0                  0   \n",
              " 698           0         1          0              0                  0   \n",
              " ..          ...       ...        ...            ...                ...   \n",
              " 72            0         1          0              0                  1   \n",
              " 845           0         1          0              0                  0   \n",
              " 537           1         0          0              0                  1   \n",
              " 677           1         0          0              0                  0   \n",
              " 849           0         0          1              0                  0   \n",
              " 874           0         0          1              0                  1   \n",
              " 174           0         1          0              0                  0   \n",
              " 87            0         1          0              0                  0   \n",
              " 551           0         1          0              0                  1   \n",
              " 486           0         0          1              0                  0   \n",
              " 705           0         1          0              0                  0   \n",
              " 314           0         1          0              0                  0   \n",
              " 396           1         0          0              0                  1   \n",
              " 600           0         0          1              0                  1   \n",
              " 472           0         0          1              0                  0   \n",
              " 70            0         1          0              0                  0   \n",
              " 599           0         1          0              0                  0   \n",
              " 804           0         1          0              0                  1   \n",
              " 754           0         0          1              0                  0   \n",
              " 277           0         1          0              0                  0   \n",
              " 723           0         1          0              0                  0   \n",
              " 9             0         0          1              0                  0   \n",
              " 359           1         0          0              0                  0   \n",
              " 707           0         1          0              0                  0   \n",
              " 763           0         0          1              0                  0   \n",
              " 835           1         0          0              0                  0   \n",
              " 192           1         0          0              0                  1   \n",
              " 629           0         1          0              0                  0   \n",
              " 559           0         0          1              0                  0   \n",
              " 684           0         1          0              0                  0   \n",
              " \n",
              "      Categorical_age_C  Categorical_fare_B  Categorical_fare_C  \n",
              " 105                  0                   0                   0  \n",
              " 68                   0                   0                   0  \n",
              " 253                  0                   1                   0  \n",
              " 320                  0                   0                   0  \n",
              " 706                  1                   1                   0  \n",
              " 271                  0                   0                   0  \n",
              " 424                  0                   1                   0  \n",
              " 752                  1                   1                   0  \n",
              " 615                  0                   0                   1  \n",
              " 2                    0                   0                   0  \n",
              " 882                  0                   1                   0  \n",
              " 467                  1                   0                   1  \n",
              " 403                  0                   1                   0  \n",
              " 258                  1                   0                   1  \n",
              " 720                  0                   0                   1  \n",
              " 272                  1                   1                   0  \n",
              " 154                  0                   0                   0  \n",
              " 832                  0                   0                   0  \n",
              " 820                  1                   0                   1  \n",
              " 382                  1                   0                   0  \n",
              " 20                   1                   1                   0  \n",
              " 585                  0                   0                   1  \n",
              " 65                   0                   1                   0  \n",
              " 680                  0                   0                   0  \n",
              " 878                  0                   0                   0  \n",
              " 304                  0                   0                   0  \n",
              " 823                  0                   1                   0  \n",
              " 521                  0                   0                   0  \n",
              " 333                  0                   1                   0  \n",
              " 698                  1                   0                   1  \n",
              " ..                 ...                 ...                 ...  \n",
              " 72                   0                   0                   1  \n",
              " 845                  1                   0                   0  \n",
              " 537                  0                   0                   1  \n",
              " 677                  0                   1                   0  \n",
              " 849                  0                   0                   1  \n",
              " 874                  0                   1                   0  \n",
              " 174                  1                   0                   1  \n",
              " 87                   0                   0                   0  \n",
              " 551                  0                   1                   0  \n",
              " 486                  1                   0                   1  \n",
              " 705                  1                   1                   0  \n",
              " 314                  1                   0                   1  \n",
              " 396                  0                   0                   0  \n",
              " 600                  0                   0                   1  \n",
              " 472                  1                   0                   1  \n",
              " 70                   1                   1                   0  \n",
              " 599                  1                   0                   1  \n",
              " 804                  0                   0                   0  \n",
              " 754                  1                   0                   1  \n",
              " 277                  0                   0                   0  \n",
              " 723                  1                   1                   0  \n",
              " 9                    0                   0                   1  \n",
              " 359                  0                   0                   0  \n",
              " 707                  1                   0                   1  \n",
              " 763                  1                   0                   1  \n",
              " 835                  1                   0                   1  \n",
              " 192                  0                   0                   0  \n",
              " 629                  0                   0                   0  \n",
              " 559                  1                   1                   0  \n",
              " 684                  1                   0                   1  \n",
              " \n",
              " [668 rows x 14 columns],\n",
              "      Pclass  Has_Cabin  Embarked_C  Embarked_Q  Embarked_S  Sex_male  \\\n",
              " 495       3          0           1           0           0         1   \n",
              " 648       3          0           0           0           1         1   \n",
              " 278       3          0           0           1           0         1   \n",
              " 31        1          1           1           0           0         0   \n",
              " 255       3          0           1           0           0         0   \n",
              " 298       1          1           0           0           1         1   \n",
              " 609       1          1           0           0           1         0   \n",
              " 318       1          1           0           0           1         0   \n",
              " 484       1          1           1           0           0         1   \n",
              " 367       3          0           1           0           0         0   \n",
              " 704       3          0           0           0           1         1   \n",
              " 346       2          0           0           0           1         0   \n",
              " 196       3          0           0           1           0         1   \n",
              " 535       2          0           0           0           1         0   \n",
              " 310       1          1           1           0           0         0   \n",
              " 14        3          0           0           0           1         0   \n",
              " 350       3          0           0           0           1         1   \n",
              " 145       2          0           0           0           1         1   \n",
              " 614       3          0           0           0           1         1   \n",
              " 803       3          0           1           0           0         1   \n",
              " 144       2          0           0           0           1         1   \n",
              " 708       1          0           0           0           1         0   \n",
              " 778       3          0           0           1           0         1   \n",
              " 270       1          0           0           0           1         1   \n",
              " 474       3          0           0           0           1         0   \n",
              " 319       1          1           1           0           0         0   \n",
              " 519       3          0           0           0           1         1   \n",
              " 141       3          0           0           0           1         0   \n",
              " 880       2          0           0           0           1         0   \n",
              " 642       3          0           0           0           1         0   \n",
              " ..      ...        ...         ...         ...         ...       ...   \n",
              " 727       3          0           0           1           0         0   \n",
              " 428       3          0           0           1           0         1   \n",
              " 54        1          1           1           0           0         1   \n",
              " 45        3          0           0           0           1         1   \n",
              " 172       3          0           0           0           1         0   \n",
              " 447       1          0           0           0           1         1   \n",
              " 597       3          0           0           0           1         1   \n",
              " 204       3          0           0           0           1         1   \n",
              " 240       3          0           1           0           0         0   \n",
              " 672       2          0           0           0           1         1   \n",
              " 39        3          0           1           0           0         0   \n",
              " 283       3          0           0           0           1         1   \n",
              " 308       2          0           1           0           0         1   \n",
              " 18        3          0           0           0           1         0   \n",
              " 769       3          0           0           0           1         1   \n",
              " 156       3          0           0           1           0         0   \n",
              " 482       3          0           0           0           1         1   \n",
              " 210       3          0           0           0           1         1   \n",
              " 647       1          1           1           0           0         1   \n",
              " 50        3          0           0           0           1         1   \n",
              " 852       3          0           1           0           0         0   \n",
              " 239       2          0           0           0           1         1   \n",
              " 646       3          0           0           0           1         1   \n",
              " 122       2          0           1           0           0         1   \n",
              " 788       3          0           0           0           1         1   \n",
              " 167       3          0           0           0           1         0   \n",
              " 306       1          0           1           0           0         0   \n",
              " 379       3          0           0           0           1         1   \n",
              " 742       1          1           1           0           0         0   \n",
              " 10        3          1           0           0           1         0   \n",
              " \n",
              "      Title_Miss  Title_Mr  Title_Mrs  Title_Special  Categorical_age_B  \\\n",
              " 495           0         1          0              0                  0   \n",
              " 648           0         1          0              0                  0   \n",
              " 278           0         0          0              0                  0   \n",
              " 31            0         0          1              0                  0   \n",
              " 255           0         0          1              0                  1   \n",
              " 298           0         1          0              0                  0   \n",
              " 609           1         0          0              0                  0   \n",
              " 318           1         0          0              0                  1   \n",
              " 484           0         1          0              0                  1   \n",
              " 367           0         0          1              0                  0   \n",
              " 704           0         1          0              0                  1   \n",
              " 346           1         0          0              0                  0   \n",
              " 196           0         1          0              0                  0   \n",
              " 535           1         0          0              0                  0   \n",
              " 310           1         0          0              0                  1   \n",
              " 14            1         0          0              0                  0   \n",
              " 350           0         1          0              0                  1   \n",
              " 145           0         1          0              0                  1   \n",
              " 614           0         1          0              0                  0   \n",
              " 803           0         0          0              0                  0   \n",
              " 144           0         1          0              0                  0   \n",
              " 708           1         0          0              0                  1   \n",
              " 778           0         1          0              0                  0   \n",
              " 270           0         1          0              0                  0   \n",
              " 474           1         0          0              0                  1   \n",
              " 319           0         0          1              0                  0   \n",
              " 519           0         1          0              0                  0   \n",
              " 141           1         0          0              0                  1   \n",
              " 880           0         0          1              0                  1   \n",
              " 642           1         0          0              0                  0   \n",
              " ..          ...       ...        ...            ...                ...   \n",
              " 727           1         0          0              0                  0   \n",
              " 428           0         1          0              0                  0   \n",
              " 54            0         1          0              0                  0   \n",
              " 45            0         1          0              0                  0   \n",
              " 172           1         0          0              0                  0   \n",
              " 447           0         1          0              0                  0   \n",
              " 597           0         1          0              0                  0   \n",
              " 204           0         1          0              0                  0   \n",
              " 240           1         0          0              0                  0   \n",
              " 672           0         1          0              0                  0   \n",
              " 39            1         0          0              0                  0   \n",
              " 283           0         1          0              0                  1   \n",
              " 308           0         1          0              0                  1   \n",
              " 18            0         0          1              0                  1   \n",
              " 769           0         1          0              0                  0   \n",
              " 156           1         0          0              0                  0   \n",
              " 482           0         1          0              0                  0   \n",
              " 210           0         1          0              0                  1   \n",
              " 647           0         0          0              1                  0   \n",
              " 50            0         0          0              0                  0   \n",
              " 852           1         0          0              0                  0   \n",
              " 239           0         1          0              0                  0   \n",
              " 646           0         1          0              0                  1   \n",
              " 122           0         1          0              0                  0   \n",
              " 788           0         0          0              0                  0   \n",
              " 167           0         0          1              0                  0   \n",
              " 306           1         0          0              0                  0   \n",
              " 379           0         1          0              0                  1   \n",
              " 742           1         0          0              0                  1   \n",
              " 10            1         0          0              0                  0   \n",
              " \n",
              "      Categorical_age_C  Categorical_fare_B  Categorical_fare_C  \n",
              " 495                  0                   1                   0  \n",
              " 648                  0                   0                   0  \n",
              " 278                  0                   0                   1  \n",
              " 31                   0                   0                   1  \n",
              " 255                  0                   1                   0  \n",
              " 298                  0                   0                   1  \n",
              " 609                  1                   0                   1  \n",
              " 318                  0                   0                   1  \n",
              " 484                  0                   0                   1  \n",
              " 367                  0                   0                   0  \n",
              " 704                  0                   0                   0  \n",
              " 346                  1                   1                   0  \n",
              " 196                  0                   0                   0  \n",
              " 535                  0                   0                   1  \n",
              " 310                  0                   0                   1  \n",
              " 14                   0                   0                   0  \n",
              " 350                  0                   1                   0  \n",
              " 145                  0                   0                   1  \n",
              " 614                  1                   0                   0  \n",
              " 803                  0                   0                   0  \n",
              " 144                  0                   1                   0  \n",
              " 708                  0                   0                   1  \n",
              " 778                  0                   0                   0  \n",
              " 270                  0                   0                   1  \n",
              " 474                  0                   1                   0  \n",
              " 319                  1                   0                   1  \n",
              " 519                  1                   0                   0  \n",
              " 141                  0                   0                   0  \n",
              " 880                  0                   1                   0  \n",
              " 642                  0                   0                   1  \n",
              " ..                 ...                 ...                 ...  \n",
              " 727                  0                   0                   0  \n",
              " 428                  0                   0                   0  \n",
              " 54                   1                   0                   1  \n",
              " 45                   0                   0                   0  \n",
              " 172                  0                   1                   0  \n",
              " 447                  1                   0                   1  \n",
              " 597                  1                   0                   0  \n",
              " 204                  0                   0                   0  \n",
              " 240                  0                   1                   0  \n",
              " 672                  1                   1                   0  \n",
              " 39                   0                   1                   0  \n",
              " 283                  0                   0                   0  \n",
              " 308                  0                   1                   0  \n",
              " 18                   0                   1                   0  \n",
              " 769                  1                   0                   0  \n",
              " 156                  0                   0                   0  \n",
              " 482                  1                   0                   0  \n",
              " 210                  0                   0                   0  \n",
              " 647                  1                   0                   1  \n",
              " 50                   0                   0                   1  \n",
              " 852                  0                   1                   0  \n",
              " 239                  1                   1                   0  \n",
              " 646                  0                   0                   0  \n",
              " 122                  1                   0                   1  \n",
              " 788                  0                   1                   0  \n",
              " 167                  1                   0                   1  \n",
              " 306                  0                   0                   1  \n",
              " 379                  0                   0                   0  \n",
              " 742                  0                   0                   1  \n",
              " 10                   0                   1                   0  \n",
              " \n",
              " [223 rows x 14 columns],\n",
              " 105    0.0\n",
              " 68     1.0\n",
              " 253    0.0\n",
              " 320    0.0\n",
              " 706    1.0\n",
              " 271    1.0\n",
              " 424    0.0\n",
              " 752    0.0\n",
              " 615    1.0\n",
              " 2      1.0\n",
              " 882    0.0\n",
              " 467    0.0\n",
              " 403    0.0\n",
              " 258    1.0\n",
              " 720    1.0\n",
              " 272    1.0\n",
              " 154    0.0\n",
              " 832    0.0\n",
              " 820    1.0\n",
              " 382    0.0\n",
              " 20     0.0\n",
              " 585    1.0\n",
              " 65     1.0\n",
              " 680    0.0\n",
              " 878    0.0\n",
              " 304    0.0\n",
              " 823    1.0\n",
              " 521    0.0\n",
              " 333    0.0\n",
              " 698    0.0\n",
              "       ... \n",
              " 72     0.0\n",
              " 845    0.0\n",
              " 537    1.0\n",
              " 677    1.0\n",
              " 849    1.0\n",
              " 874    1.0\n",
              " 174    0.0\n",
              " 87     0.0\n",
              " 551    0.0\n",
              " 486    1.0\n",
              " 705    0.0\n",
              " 314    0.0\n",
              " 396    0.0\n",
              " 600    1.0\n",
              " 472    1.0\n",
              " 70     0.0\n",
              " 599    1.0\n",
              " 804    1.0\n",
              " 754    1.0\n",
              " 277    0.0\n",
              " 723    0.0\n",
              " 9      1.0\n",
              " 359    1.0\n",
              " 707    1.0\n",
              " 763    1.0\n",
              " 835    1.0\n",
              " 192    1.0\n",
              " 629    0.0\n",
              " 559    1.0\n",
              " 684    0.0\n",
              " Name: Survived, Length: 668, dtype: float64,\n",
              " 495    0.0\n",
              " 648    0.0\n",
              " 278    0.0\n",
              " 31     1.0\n",
              " 255    1.0\n",
              " 298    1.0\n",
              " 609    1.0\n",
              " 318    1.0\n",
              " 484    1.0\n",
              " 367    1.0\n",
              " 704    0.0\n",
              " 346    1.0\n",
              " 196    0.0\n",
              " 535    1.0\n",
              " 310    1.0\n",
              " 14     0.0\n",
              " 350    0.0\n",
              " 145    0.0\n",
              " 614    0.0\n",
              " 803    1.0\n",
              " 144    0.0\n",
              " 708    1.0\n",
              " 778    0.0\n",
              " 270    0.0\n",
              " 474    0.0\n",
              " 319    1.0\n",
              " 519    0.0\n",
              " 141    1.0\n",
              " 880    1.0\n",
              " 642    0.0\n",
              "       ... \n",
              " 727    1.0\n",
              " 428    0.0\n",
              " 54     0.0\n",
              " 45     0.0\n",
              " 172    1.0\n",
              " 447    1.0\n",
              " 597    0.0\n",
              " 204    1.0\n",
              " 240    0.0\n",
              " 672    0.0\n",
              " 39     1.0\n",
              " 283    1.0\n",
              " 308    0.0\n",
              " 18     0.0\n",
              " 769    0.0\n",
              " 156    1.0\n",
              " 482    0.0\n",
              " 210    0.0\n",
              " 647    1.0\n",
              " 50     0.0\n",
              " 852    0.0\n",
              " 239    0.0\n",
              " 646    0.0\n",
              " 122    0.0\n",
              " 788    1.0\n",
              " 167    0.0\n",
              " 306    1.0\n",
              " 379    0.0\n",
              " 742    1.0\n",
              " 10     1.0\n",
              " Name: Survived, Length: 223, dtype: float64)"
            ]
          },
          "metadata": {
            "tags": []
          },
          "execution_count": 107
        }
      ]
    },
    {
      "metadata": {
        "id": "gSTkD8RxK2ma",
        "colab_type": "text"
      },
      "cell_type": "markdown",
      "source": [
        "# ***10. Use logistic regression -***"
      ]
    },
    {
      "metadata": {
        "id": "Okf0d7z9K5gu",
        "colab_type": "code",
        "colab": {
          "base_uri": "https://localhost:8080/",
          "height": 139
        },
        "outputId": "fb384a10-2473-4858-f0a0-34d2760e7388"
      },
      "cell_type": "code",
      "source": [
        "from sklearn.linear_model import LogisticRegression\n",
        "classifier=LogisticRegression()\n",
        "classifier.fit(X_train,Y_train)"
      ],
      "execution_count": 108,
      "outputs": [
        {
          "output_type": "stream",
          "text": [
            "/usr/local/lib/python3.6/dist-packages/sklearn/linear_model/logistic.py:433: FutureWarning: Default solver will be changed to 'lbfgs' in 0.22. Specify a solver to silence this warning.\n",
            "  FutureWarning)\n"
          ],
          "name": "stderr"
        },
        {
          "output_type": "execute_result",
          "data": {
            "text/plain": [
              "LogisticRegression(C=1.0, class_weight=None, dual=False, fit_intercept=True,\n",
              "          intercept_scaling=1, max_iter=100, multi_class='warn',\n",
              "          n_jobs=None, penalty='l2', random_state=None, solver='warn',\n",
              "          tol=0.0001, verbose=0, warm_start=False)"
            ]
          },
          "metadata": {
            "tags": []
          },
          "execution_count": 108
        }
      ]
    },
    {
      "metadata": {
        "id": "j1ke35TALQJV",
        "colab_type": "text"
      },
      "cell_type": "markdown",
      "source": [
        "# ***11. Put the accuracy score - ***"
      ]
    },
    {
      "metadata": {
        "id": "9O6ibjFMLTfj",
        "colab_type": "code",
        "colab": {
          "base_uri": "https://localhost:8080/",
          "height": 34
        },
        "outputId": "26876139-e55d-423e-82c6-b1103fadab5d"
      },
      "cell_type": "code",
      "source": [
        "score=classifier.score(X_test,Y_test)\n",
        "score"
      ],
      "execution_count": 109,
      "outputs": [
        {
          "output_type": "execute_result",
          "data": {
            "text/plain": [
              "0.8116591928251121"
            ]
          },
          "metadata": {
            "tags": []
          },
          "execution_count": 109
        }
      ]
    },
    {
      "metadata": {
        "id": "uvU8kb89Ldvd",
        "colab_type": "text"
      },
      "cell_type": "markdown",
      "source": [
        "**Note - **\n",
        "\n",
        "\n",
        "1.   81% accuracy is there. \n",
        "\n"
      ]
    }
  ]
}