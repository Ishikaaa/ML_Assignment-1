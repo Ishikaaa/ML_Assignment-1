{
  "nbformat": 4,
  "nbformat_minor": 0,
  "metadata": {
    "colab": {
      "name": "(Ass-13)Support_Vector_Machine.ipynb",
      "version": "0.3.2",
      "provenance": [],
      "collapsed_sections": [],
      "include_colab_link": true
    },
    "kernelspec": {
      "name": "python3",
      "display_name": "Python 3"
    }
  },
  "cells": [
    {
      "cell_type": "markdown",
      "metadata": {
        "id": "view-in-github",
        "colab_type": "text"
      },
      "source": [
        "<a href=\"https://colab.research.google.com/github/Ishikaaa/Machine-Learning-Assignments/blob/master/(Ass_13)Support_Vector_Machine.ipynb\" target=\"_parent\"><img src=\"https://colab.research.google.com/assets/colab-badge.svg\" alt=\"Open In Colab\"/></a>"
      ]
    },
    {
      "metadata": {
        "id": "hMLyRaFuRrE0",
        "colab_type": "text"
      },
      "cell_type": "markdown",
      "source": [
        "# ***1. Load the dataset from sklearn -***"
      ]
    },
    {
      "metadata": {
        "id": "k7LEUCybR22q",
        "colab_type": "code",
        "colab": {}
      },
      "cell_type": "code",
      "source": [
        "import pandas as pd \n",
        "import numpy as np "
      ],
      "execution_count": 0,
      "outputs": []
    },
    {
      "metadata": {
        "id": "jUHq5-z3RT6P",
        "colab_type": "code",
        "colab": {}
      },
      "cell_type": "code",
      "source": [
        "from sklearn import datasets \n",
        "data=datasets.load_digits()\n",
        "X=data.data \n",
        "Y=data.target "
      ],
      "execution_count": 0,
      "outputs": []
    },
    {
      "metadata": {
        "id": "RmKurFFYSE1q",
        "colab_type": "code",
        "outputId": "f55b4447-6d83-4b0b-86d3-f1bd3ecbdca0",
        "colab": {
          "base_uri": "https://localhost:8080/",
          "height": 34
        }
      },
      "cell_type": "code",
      "source": [
        "type(X)"
      ],
      "execution_count": 3,
      "outputs": [
        {
          "output_type": "execute_result",
          "data": {
            "text/plain": [
              "numpy.ndarray"
            ]
          },
          "metadata": {
            "tags": []
          },
          "execution_count": 3
        }
      ]
    },
    {
      "metadata": {
        "id": "30yVfwPzSl3N",
        "colab_type": "code",
        "outputId": "42979f40-fd22-458b-8cd6-7adb81174fc7",
        "colab": {
          "base_uri": "https://localhost:8080/",
          "height": 51
        }
      },
      "cell_type": "code",
      "source": [
        "print(\"Shape of X\",X.shape)\n",
        "print(\"Shape of Y:\",Y.shape)"
      ],
      "execution_count": 4,
      "outputs": [
        {
          "output_type": "stream",
          "text": [
            "Shape of X (1797, 64)\n",
            "Shape of Y: (1797,)\n"
          ],
          "name": "stdout"
        }
      ]
    },
    {
      "metadata": {
        "id": "hbbLsaLlStGF",
        "colab_type": "code",
        "outputId": "767dcb68-83ce-4e89-8c23-2c2cbec0e4c4",
        "colab": {
          "base_uri": "https://localhost:8080/",
          "height": 34
        }
      },
      "cell_type": "code",
      "source": [
        "Y=Y.reshape((1797,1))\n",
        "print(\"Shape of Y:\",Y.shape)"
      ],
      "execution_count": 5,
      "outputs": [
        {
          "output_type": "stream",
          "text": [
            "Shape of Y: (1797, 1)\n"
          ],
          "name": "stdout"
        }
      ]
    },
    {
      "metadata": {
        "id": "ex0n0B4NSM5Y",
        "colab_type": "text"
      },
      "cell_type": "markdown",
      "source": [
        "# ***2. Split the dataset into training and testing sets - ***"
      ]
    },
    {
      "metadata": {
        "id": "yMKza2ftSQuV",
        "colab_type": "code",
        "outputId": "7a9ddfa5-3ec1-4984-f3df-d1f4c8115311",
        "colab": {
          "base_uri": "https://localhost:8080/",
          "height": 8024
        }
      },
      "cell_type": "code",
      "source": [
        "from sklearn.model_selection import train_test_split \n",
        "X_train,X_test,Y_train,Y_test=train_test_split(X,Y,test_size=0.25,random_state=0)\n",
        "X_train,X_test,Y_train,Y_test"
      ],
      "execution_count": 6,
      "outputs": [
        {
          "output_type": "execute_result",
          "data": {
            "text/plain": [
              "(array([[ 0.,  3., 13., ..., 12.,  9.,  1.],\n",
              "        [ 0.,  0.,  1., ..., 13.,  1.,  0.],\n",
              "        [ 0.,  0.,  4., ...,  9.,  0.,  0.],\n",
              "        ...,\n",
              "        [ 0.,  0.,  5., ...,  0.,  0.,  0.],\n",
              "        [ 0.,  0.,  4., ...,  0.,  0.,  0.],\n",
              "        [ 0.,  0.,  6., ..., 11.,  0.,  0.]]),\n",
              " array([[ 0.,  0., 11., ..., 13., 16.,  8.],\n",
              "        [ 0.,  1., 15., ...,  1.,  0.,  0.],\n",
              "        [ 0.,  2., 13., ..., 16., 16.,  3.],\n",
              "        ...,\n",
              "        [ 0.,  0., 11., ...,  7.,  0.,  0.],\n",
              "        [ 0.,  0.,  5., ...,  7.,  0.,  0.],\n",
              "        [ 0.,  2., 14., ...,  6.,  0.,  0.]]),\n",
              " array([[2],\n",
              "        [8],\n",
              "        [9],\n",
              "        ...,\n",
              "        [7],\n",
              "        [7],\n",
              "        [8]]),\n",
              " array([[2],\n",
              "        [8],\n",
              "        [2],\n",
              "        [6],\n",
              "        [6],\n",
              "        [7],\n",
              "        [1],\n",
              "        [9],\n",
              "        [8],\n",
              "        [5],\n",
              "        [2],\n",
              "        [8],\n",
              "        [6],\n",
              "        [6],\n",
              "        [6],\n",
              "        [6],\n",
              "        [1],\n",
              "        [0],\n",
              "        [5],\n",
              "        [8],\n",
              "        [8],\n",
              "        [7],\n",
              "        [8],\n",
              "        [4],\n",
              "        [7],\n",
              "        [5],\n",
              "        [4],\n",
              "        [9],\n",
              "        [2],\n",
              "        [9],\n",
              "        [4],\n",
              "        [7],\n",
              "        [6],\n",
              "        [8],\n",
              "        [9],\n",
              "        [4],\n",
              "        [3],\n",
              "        [1],\n",
              "        [0],\n",
              "        [1],\n",
              "        [8],\n",
              "        [6],\n",
              "        [7],\n",
              "        [7],\n",
              "        [1],\n",
              "        [0],\n",
              "        [7],\n",
              "        [6],\n",
              "        [2],\n",
              "        [1],\n",
              "        [9],\n",
              "        [6],\n",
              "        [7],\n",
              "        [9],\n",
              "        [0],\n",
              "        [0],\n",
              "        [5],\n",
              "        [1],\n",
              "        [6],\n",
              "        [3],\n",
              "        [0],\n",
              "        [2],\n",
              "        [3],\n",
              "        [4],\n",
              "        [1],\n",
              "        [9],\n",
              "        [2],\n",
              "        [6],\n",
              "        [9],\n",
              "        [1],\n",
              "        [8],\n",
              "        [3],\n",
              "        [5],\n",
              "        [1],\n",
              "        [2],\n",
              "        [8],\n",
              "        [2],\n",
              "        [2],\n",
              "        [9],\n",
              "        [7],\n",
              "        [2],\n",
              "        [3],\n",
              "        [6],\n",
              "        [0],\n",
              "        [5],\n",
              "        [3],\n",
              "        [7],\n",
              "        [5],\n",
              "        [1],\n",
              "        [2],\n",
              "        [9],\n",
              "        [9],\n",
              "        [3],\n",
              "        [1],\n",
              "        [7],\n",
              "        [7],\n",
              "        [4],\n",
              "        [8],\n",
              "        [5],\n",
              "        [8],\n",
              "        [5],\n",
              "        [5],\n",
              "        [2],\n",
              "        [5],\n",
              "        [9],\n",
              "        [0],\n",
              "        [7],\n",
              "        [1],\n",
              "        [4],\n",
              "        [7],\n",
              "        [3],\n",
              "        [4],\n",
              "        [8],\n",
              "        [9],\n",
              "        [7],\n",
              "        [9],\n",
              "        [8],\n",
              "        [2],\n",
              "        [6],\n",
              "        [5],\n",
              "        [2],\n",
              "        [5],\n",
              "        [8],\n",
              "        [4],\n",
              "        [8],\n",
              "        [7],\n",
              "        [0],\n",
              "        [6],\n",
              "        [1],\n",
              "        [5],\n",
              "        [9],\n",
              "        [9],\n",
              "        [9],\n",
              "        [5],\n",
              "        [9],\n",
              "        [9],\n",
              "        [5],\n",
              "        [7],\n",
              "        [5],\n",
              "        [6],\n",
              "        [2],\n",
              "        [8],\n",
              "        [6],\n",
              "        [9],\n",
              "        [6],\n",
              "        [1],\n",
              "        [5],\n",
              "        [1],\n",
              "        [5],\n",
              "        [9],\n",
              "        [9],\n",
              "        [1],\n",
              "        [5],\n",
              "        [3],\n",
              "        [6],\n",
              "        [1],\n",
              "        [8],\n",
              "        [9],\n",
              "        [8],\n",
              "        [7],\n",
              "        [6],\n",
              "        [7],\n",
              "        [6],\n",
              "        [5],\n",
              "        [6],\n",
              "        [0],\n",
              "        [8],\n",
              "        [8],\n",
              "        [9],\n",
              "        [8],\n",
              "        [6],\n",
              "        [1],\n",
              "        [0],\n",
              "        [4],\n",
              "        [1],\n",
              "        [6],\n",
              "        [3],\n",
              "        [8],\n",
              "        [6],\n",
              "        [7],\n",
              "        [4],\n",
              "        [5],\n",
              "        [6],\n",
              "        [3],\n",
              "        [0],\n",
              "        [3],\n",
              "        [3],\n",
              "        [3],\n",
              "        [0],\n",
              "        [7],\n",
              "        [7],\n",
              "        [5],\n",
              "        [7],\n",
              "        [8],\n",
              "        [0],\n",
              "        [7],\n",
              "        [8],\n",
              "        [9],\n",
              "        [6],\n",
              "        [4],\n",
              "        [5],\n",
              "        [0],\n",
              "        [1],\n",
              "        [4],\n",
              "        [6],\n",
              "        [4],\n",
              "        [3],\n",
              "        [3],\n",
              "        [0],\n",
              "        [9],\n",
              "        [5],\n",
              "        [9],\n",
              "        [2],\n",
              "        [1],\n",
              "        [4],\n",
              "        [2],\n",
              "        [1],\n",
              "        [6],\n",
              "        [8],\n",
              "        [9],\n",
              "        [2],\n",
              "        [4],\n",
              "        [9],\n",
              "        [3],\n",
              "        [7],\n",
              "        [6],\n",
              "        [2],\n",
              "        [3],\n",
              "        [3],\n",
              "        [1],\n",
              "        [6],\n",
              "        [9],\n",
              "        [3],\n",
              "        [6],\n",
              "        [3],\n",
              "        [2],\n",
              "        [2],\n",
              "        [0],\n",
              "        [7],\n",
              "        [6],\n",
              "        [1],\n",
              "        [1],\n",
              "        [9],\n",
              "        [7],\n",
              "        [2],\n",
              "        [7],\n",
              "        [8],\n",
              "        [5],\n",
              "        [5],\n",
              "        [7],\n",
              "        [5],\n",
              "        [2],\n",
              "        [3],\n",
              "        [7],\n",
              "        [2],\n",
              "        [7],\n",
              "        [5],\n",
              "        [5],\n",
              "        [7],\n",
              "        [0],\n",
              "        [9],\n",
              "        [1],\n",
              "        [6],\n",
              "        [5],\n",
              "        [9],\n",
              "        [7],\n",
              "        [4],\n",
              "        [3],\n",
              "        [8],\n",
              "        [0],\n",
              "        [3],\n",
              "        [6],\n",
              "        [4],\n",
              "        [6],\n",
              "        [3],\n",
              "        [2],\n",
              "        [6],\n",
              "        [8],\n",
              "        [8],\n",
              "        [8],\n",
              "        [4],\n",
              "        [6],\n",
              "        [7],\n",
              "        [5],\n",
              "        [2],\n",
              "        [4],\n",
              "        [5],\n",
              "        [3],\n",
              "        [2],\n",
              "        [4],\n",
              "        [6],\n",
              "        [9],\n",
              "        [4],\n",
              "        [5],\n",
              "        [4],\n",
              "        [3],\n",
              "        [4],\n",
              "        [6],\n",
              "        [2],\n",
              "        [9],\n",
              "        [0],\n",
              "        [1],\n",
              "        [7],\n",
              "        [2],\n",
              "        [0],\n",
              "        [9],\n",
              "        [6],\n",
              "        [0],\n",
              "        [4],\n",
              "        [2],\n",
              "        [0],\n",
              "        [7],\n",
              "        [9],\n",
              "        [8],\n",
              "        [5],\n",
              "        [4],\n",
              "        [8],\n",
              "        [2],\n",
              "        [8],\n",
              "        [4],\n",
              "        [3],\n",
              "        [7],\n",
              "        [2],\n",
              "        [6],\n",
              "        [9],\n",
              "        [1],\n",
              "        [5],\n",
              "        [1],\n",
              "        [0],\n",
              "        [8],\n",
              "        [2],\n",
              "        [1],\n",
              "        [9],\n",
              "        [5],\n",
              "        [6],\n",
              "        [8],\n",
              "        [2],\n",
              "        [7],\n",
              "        [2],\n",
              "        [1],\n",
              "        [5],\n",
              "        [1],\n",
              "        [6],\n",
              "        [4],\n",
              "        [5],\n",
              "        [0],\n",
              "        [9],\n",
              "        [4],\n",
              "        [1],\n",
              "        [1],\n",
              "        [7],\n",
              "        [0],\n",
              "        [8],\n",
              "        [9],\n",
              "        [0],\n",
              "        [5],\n",
              "        [4],\n",
              "        [3],\n",
              "        [8],\n",
              "        [8],\n",
              "        [6],\n",
              "        [5],\n",
              "        [3],\n",
              "        [4],\n",
              "        [4],\n",
              "        [4],\n",
              "        [8],\n",
              "        [8],\n",
              "        [7],\n",
              "        [0],\n",
              "        [9],\n",
              "        [6],\n",
              "        [3],\n",
              "        [5],\n",
              "        [2],\n",
              "        [3],\n",
              "        [0],\n",
              "        [8],\n",
              "        [3],\n",
              "        [3],\n",
              "        [1],\n",
              "        [3],\n",
              "        [3],\n",
              "        [0],\n",
              "        [0],\n",
              "        [4],\n",
              "        [6],\n",
              "        [0],\n",
              "        [7],\n",
              "        [7],\n",
              "        [6],\n",
              "        [2],\n",
              "        [0],\n",
              "        [4],\n",
              "        [4],\n",
              "        [2],\n",
              "        [3],\n",
              "        [7],\n",
              "        [8],\n",
              "        [9],\n",
              "        [8],\n",
              "        [6],\n",
              "        [8],\n",
              "        [5],\n",
              "        [6],\n",
              "        [2],\n",
              "        [2],\n",
              "        [3],\n",
              "        [1],\n",
              "        [7],\n",
              "        [7],\n",
              "        [8],\n",
              "        [0],\n",
              "        [3],\n",
              "        [3],\n",
              "        [2],\n",
              "        [1],\n",
              "        [5],\n",
              "        [5],\n",
              "        [9],\n",
              "        [1],\n",
              "        [3],\n",
              "        [7],\n",
              "        [0],\n",
              "        [0],\n",
              "        [7],\n",
              "        [0],\n",
              "        [4],\n",
              "        [5],\n",
              "        [9],\n",
              "        [3],\n",
              "        [3],\n",
              "        [4],\n",
              "        [3],\n",
              "        [1],\n",
              "        [8],\n",
              "        [9],\n",
              "        [8],\n",
              "        [3],\n",
              "        [6],\n",
              "        [2],\n",
              "        [1],\n",
              "        [6],\n",
              "        [2],\n",
              "        [1],\n",
              "        [7],\n",
              "        [5],\n",
              "        [5],\n",
              "        [1],\n",
              "        [9]]))"
            ]
          },
          "metadata": {
            "tags": []
          },
          "execution_count": 6
        }
      ]
    },
    {
      "metadata": {
        "id": "6QK9g9mm2nbZ",
        "colab_type": "text"
      },
      "cell_type": "markdown",
      "source": [
        "# ***3. Use SVM with kernels -***"
      ]
    },
    {
      "metadata": {
        "id": "b2T096892wIx",
        "colab_type": "code",
        "colab": {}
      },
      "cell_type": "code",
      "source": [
        "from sklearn.svm import SVC \n",
        "from sklearn import metrics "
      ],
      "execution_count": 0,
      "outputs": []
    },
    {
      "metadata": {
        "id": "Jg4QAW5u2scV",
        "colab_type": "text"
      },
      "cell_type": "markdown",
      "source": [
        "**a. Linear -**"
      ]
    },
    {
      "metadata": {
        "id": "81Yqc3IU2r7I",
        "colab_type": "code",
        "colab": {
          "base_uri": "https://localhost:8080/",
          "height": 139
        },
        "outputId": "3eeef012-5696-426e-a834-72815296b38b"
      },
      "cell_type": "code",
      "source": [
        "classifierL=SVC(kernel='linear',degree=8)\n",
        "classifierL.fit(X_train,Y_train)"
      ],
      "execution_count": 12,
      "outputs": [
        {
          "output_type": "stream",
          "text": [
            "/usr/local/lib/python3.6/dist-packages/sklearn/utils/validation.py:761: DataConversionWarning: A column-vector y was passed when a 1d array was expected. Please change the shape of y to (n_samples, ), for example using ravel().\n",
            "  y = column_or_1d(y, warn=True)\n"
          ],
          "name": "stderr"
        },
        {
          "output_type": "execute_result",
          "data": {
            "text/plain": [
              "SVC(C=1.0, cache_size=200, class_weight=None, coef0=0.0,\n",
              "  decision_function_shape='ovr', degree=8, gamma='auto_deprecated',\n",
              "  kernel='linear', max_iter=-1, probability=False, random_state=None,\n",
              "  shrinking=True, tol=0.001, verbose=False)"
            ]
          },
          "metadata": {
            "tags": []
          },
          "execution_count": 12
        }
      ]
    },
    {
      "metadata": {
        "id": "4QwC9Wq_33cX",
        "colab_type": "code",
        "colab": {}
      },
      "cell_type": "code",
      "source": [
        "# Making Predictions - \n",
        "Y_predL=classifierL.predict(X_test)"
      ],
      "execution_count": 0,
      "outputs": []
    },
    {
      "metadata": {
        "id": "XtD3qvI23rhQ",
        "colab_type": "code",
        "colab": {
          "base_uri": "https://localhost:8080/",
          "height": 187
        },
        "outputId": "5e249dda-7dea-4aa9-efc8-e59307ab2c86"
      },
      "cell_type": "code",
      "source": [
        "# confusion Matrix --\n",
        "con=metrics.confusion_matrix(Y_test,Y_predL)\n",
        "con"
      ],
      "execution_count": 18,
      "outputs": [
        {
          "output_type": "execute_result",
          "data": {
            "text/plain": [
              "array([[37,  0,  0,  0,  0,  0,  0,  0,  0,  0],\n",
              "       [ 0, 42,  0,  0,  0,  0,  0,  0,  1,  0],\n",
              "       [ 0,  0, 44,  0,  0,  0,  0,  0,  0,  0],\n",
              "       [ 0,  0,  0, 43,  0,  0,  0,  0,  1,  1],\n",
              "       [ 0,  0,  0,  0, 38,  0,  0,  0,  0,  0],\n",
              "       [ 0,  0,  0,  0,  0, 47,  0,  0,  0,  1],\n",
              "       [ 0,  1,  0,  0,  0,  0, 51,  0,  0,  0],\n",
              "       [ 0,  0,  0,  0,  1,  0,  0, 47,  0,  0],\n",
              "       [ 0,  3,  1,  0,  0,  0,  0,  0, 44,  0],\n",
              "       [ 0,  0,  0,  1,  0,  1,  0,  0,  1, 44]])"
            ]
          },
          "metadata": {
            "tags": []
          },
          "execution_count": 18
        }
      ]
    },
    {
      "metadata": {
        "id": "6rYhWwGE4J7b",
        "colab_type": "code",
        "colab": {
          "base_uri": "https://localhost:8080/",
          "height": 306
        },
        "outputId": "b3eaa305-cefd-4042-e9f1-efc5972eba8a"
      },
      "cell_type": "code",
      "source": [
        "# classification report -- \n",
        "print(metrics.classification_report(Y_test,Y_predL))"
      ],
      "execution_count": 19,
      "outputs": [
        {
          "output_type": "stream",
          "text": [
            "              precision    recall  f1-score   support\n",
            "\n",
            "           0       1.00      1.00      1.00        37\n",
            "           1       0.91      0.98      0.94        43\n",
            "           2       0.98      1.00      0.99        44\n",
            "           3       0.98      0.96      0.97        45\n",
            "           4       0.97      1.00      0.99        38\n",
            "           5       0.98      0.98      0.98        48\n",
            "           6       1.00      0.98      0.99        52\n",
            "           7       1.00      0.98      0.99        48\n",
            "           8       0.94      0.92      0.93        48\n",
            "           9       0.96      0.94      0.95        47\n",
            "\n",
            "   micro avg       0.97      0.97      0.97       450\n",
            "   macro avg       0.97      0.97      0.97       450\n",
            "weighted avg       0.97      0.97      0.97       450\n",
            "\n"
          ],
          "name": "stdout"
        }
      ]
    },
    {
      "metadata": {
        "id": "-rc2kp3D4VR1",
        "colab_type": "text"
      },
      "cell_type": "markdown",
      "source": [
        "**Note - **\n",
        "\n",
        "1.   97% accuracy while using Linear Kernel.\n",
        "\n"
      ]
    },
    {
      "metadata": {
        "id": "AoHP4zPl4brs",
        "colab_type": "text"
      },
      "cell_type": "markdown",
      "source": [
        "**b. Poly -**"
      ]
    },
    {
      "metadata": {
        "id": "tQ3KT2Jz4enl",
        "colab_type": "code",
        "colab": {
          "base_uri": "https://localhost:8080/",
          "height": 173
        },
        "outputId": "4fa116ba-45f8-44e4-bdac-8cf26c040115"
      },
      "cell_type": "code",
      "source": [
        "classifierP=SVC(kernel='poly')\n",
        "classifierP.fit(X_train,Y_train)"
      ],
      "execution_count": 21,
      "outputs": [
        {
          "output_type": "stream",
          "text": [
            "/usr/local/lib/python3.6/dist-packages/sklearn/utils/validation.py:761: DataConversionWarning: A column-vector y was passed when a 1d array was expected. Please change the shape of y to (n_samples, ), for example using ravel().\n",
            "  y = column_or_1d(y, warn=True)\n",
            "/usr/local/lib/python3.6/dist-packages/sklearn/svm/base.py:196: FutureWarning: The default value of gamma will change from 'auto' to 'scale' in version 0.22 to account better for unscaled features. Set gamma explicitly to 'auto' or 'scale' to avoid this warning.\n",
            "  \"avoid this warning.\", FutureWarning)\n"
          ],
          "name": "stderr"
        },
        {
          "output_type": "execute_result",
          "data": {
            "text/plain": [
              "SVC(C=1.0, cache_size=200, class_weight=None, coef0=0.0,\n",
              "  decision_function_shape='ovr', degree=3, gamma='auto_deprecated',\n",
              "  kernel='poly', max_iter=-1, probability=False, random_state=None,\n",
              "  shrinking=True, tol=0.001, verbose=False)"
            ]
          },
          "metadata": {
            "tags": []
          },
          "execution_count": 21
        }
      ]
    },
    {
      "metadata": {
        "id": "nnke4-5r4rJV",
        "colab_type": "code",
        "colab": {}
      },
      "cell_type": "code",
      "source": [
        "# Making Predictions -- \n",
        "Y_predP=classifierP.predict(X_test)"
      ],
      "execution_count": 0,
      "outputs": []
    },
    {
      "metadata": {
        "id": "ypze889r42zz",
        "colab_type": "code",
        "colab": {
          "base_uri": "https://localhost:8080/",
          "height": 187
        },
        "outputId": "5afa8d30-4895-4767-99b1-a4640a0baa82"
      },
      "cell_type": "code",
      "source": [
        "# Confusion Matrix -- \n",
        "conP=metrics.confusion_matrix(Y_test,Y_predP)\n",
        "conP"
      ],
      "execution_count": 25,
      "outputs": [
        {
          "output_type": "execute_result",
          "data": {
            "text/plain": [
              "array([[37,  0,  0,  0,  0,  0,  0,  0,  0,  0],\n",
              "       [ 0, 42,  0,  0,  0,  0,  0,  0,  1,  0],\n",
              "       [ 0,  0, 44,  0,  0,  0,  0,  0,  0,  0],\n",
              "       [ 0,  0,  0, 44,  0,  0,  0,  0,  1,  0],\n",
              "       [ 0,  0,  0,  0, 38,  0,  0,  0,  0,  0],\n",
              "       [ 0,  0,  0,  0,  0, 47,  0,  0,  0,  1],\n",
              "       [ 0,  1,  0,  0,  0,  0, 51,  0,  0,  0],\n",
              "       [ 0,  0,  0,  0,  0,  0,  0, 48,  0,  0],\n",
              "       [ 0,  3,  0,  0,  0,  0,  0,  0, 45,  0],\n",
              "       [ 0,  0,  0,  0,  0,  1,  0,  0,  0, 46]])"
            ]
          },
          "metadata": {
            "tags": []
          },
          "execution_count": 25
        }
      ]
    },
    {
      "metadata": {
        "id": "wnsHET6N5EVF",
        "colab_type": "code",
        "colab": {
          "base_uri": "https://localhost:8080/",
          "height": 306
        },
        "outputId": "a5d1dd9e-57e7-4608-8c07-419619c42fbb"
      },
      "cell_type": "code",
      "source": [
        "# classification report -- \n",
        "print(metrics.classification_report(Y_test,Y_predP))"
      ],
      "execution_count": 26,
      "outputs": [
        {
          "output_type": "stream",
          "text": [
            "              precision    recall  f1-score   support\n",
            "\n",
            "           0       1.00      1.00      1.00        37\n",
            "           1       0.91      0.98      0.94        43\n",
            "           2       1.00      1.00      1.00        44\n",
            "           3       1.00      0.98      0.99        45\n",
            "           4       1.00      1.00      1.00        38\n",
            "           5       0.98      0.98      0.98        48\n",
            "           6       1.00      0.98      0.99        52\n",
            "           7       1.00      1.00      1.00        48\n",
            "           8       0.96      0.94      0.95        48\n",
            "           9       0.98      0.98      0.98        47\n",
            "\n",
            "   micro avg       0.98      0.98      0.98       450\n",
            "   macro avg       0.98      0.98      0.98       450\n",
            "weighted avg       0.98      0.98      0.98       450\n",
            "\n"
          ],
          "name": "stdout"
        }
      ]
    },
    {
      "metadata": {
        "id": "uzwWapB-5N_V",
        "colab_type": "text"
      },
      "cell_type": "markdown",
      "source": [
        "**Note - **\n",
        "\n",
        "1.   98% accuracy while using Polynomial kernel. \n",
        "\n"
      ]
    },
    {
      "metadata": {
        "id": "9QheX8As5WTJ",
        "colab_type": "text"
      },
      "cell_type": "markdown",
      "source": [
        "**c. Gaussian OR RBF kernel - **"
      ]
    },
    {
      "metadata": {
        "id": "JE4XDtOv5b9C",
        "colab_type": "code",
        "colab": {
          "base_uri": "https://localhost:8080/",
          "height": 173
        },
        "outputId": "cd37528d-af19-4cf6-d115-a4cde04cdfab"
      },
      "cell_type": "code",
      "source": [
        "classifierR=SVC(kernel='rbf')\n",
        "classifierR.fit(X_train,Y_train)"
      ],
      "execution_count": 27,
      "outputs": [
        {
          "output_type": "stream",
          "text": [
            "/usr/local/lib/python3.6/dist-packages/sklearn/utils/validation.py:761: DataConversionWarning: A column-vector y was passed when a 1d array was expected. Please change the shape of y to (n_samples, ), for example using ravel().\n",
            "  y = column_or_1d(y, warn=True)\n",
            "/usr/local/lib/python3.6/dist-packages/sklearn/svm/base.py:196: FutureWarning: The default value of gamma will change from 'auto' to 'scale' in version 0.22 to account better for unscaled features. Set gamma explicitly to 'auto' or 'scale' to avoid this warning.\n",
            "  \"avoid this warning.\", FutureWarning)\n"
          ],
          "name": "stderr"
        },
        {
          "output_type": "execute_result",
          "data": {
            "text/plain": [
              "SVC(C=1.0, cache_size=200, class_weight=None, coef0=0.0,\n",
              "  decision_function_shape='ovr', degree=3, gamma='auto_deprecated',\n",
              "  kernel='rbf', max_iter=-1, probability=False, random_state=None,\n",
              "  shrinking=True, tol=0.001, verbose=False)"
            ]
          },
          "metadata": {
            "tags": []
          },
          "execution_count": 27
        }
      ]
    },
    {
      "metadata": {
        "id": "JN81MkVw5kbz",
        "colab_type": "code",
        "colab": {}
      },
      "cell_type": "code",
      "source": [
        "# Making Predictions --\n",
        "Y_predR=classifierR.predict(X_test)"
      ],
      "execution_count": 0,
      "outputs": []
    },
    {
      "metadata": {
        "id": "wX9ngMKW5tUG",
        "colab_type": "code",
        "colab": {
          "base_uri": "https://localhost:8080/",
          "height": 187
        },
        "outputId": "87ca414f-5658-4f80-9433-ff865a0badb8"
      },
      "cell_type": "code",
      "source": [
        "# Confusion Matrix -- \n",
        "conR=metrics.confusion_matrix(Y_test,Y_predR)\n",
        "conR"
      ],
      "execution_count": 32,
      "outputs": [
        {
          "output_type": "execute_result",
          "data": {
            "text/plain": [
              "array([[24,  0,  0,  0, 13,  0,  0,  0,  0,  0],\n",
              "       [ 0, 10,  0,  0, 33,  0,  0,  0,  0,  0],\n",
              "       [ 0,  0, 17,  0, 27,  0,  0,  0,  0,  0],\n",
              "       [ 0,  0,  0, 42,  3,  0,  0,  0,  0,  0],\n",
              "       [ 0,  0,  0,  0, 38,  0,  0,  0,  0,  0],\n",
              "       [ 0,  0,  0,  0, 32, 16,  0,  0,  0,  0],\n",
              "       [ 0,  0,  0,  0, 24,  0, 28,  0,  0,  0],\n",
              "       [ 0,  0,  0,  0, 31,  0,  0, 17,  0,  0],\n",
              "       [ 0,  0,  0,  0, 47,  0,  0,  0,  1,  0],\n",
              "       [ 0,  0,  0,  0, 21,  0,  0,  0,  0, 26]])"
            ]
          },
          "metadata": {
            "tags": []
          },
          "execution_count": 32
        }
      ]
    },
    {
      "metadata": {
        "id": "cyRxu1ly5-ib",
        "colab_type": "code",
        "colab": {
          "base_uri": "https://localhost:8080/",
          "height": 306
        },
        "outputId": "f656d0a6-6239-42cb-8374-be00cfa55f1c"
      },
      "cell_type": "code",
      "source": [
        "# Classification Report -- \n",
        "print(metrics.classification_report(Y_test,Y_predR))"
      ],
      "execution_count": 34,
      "outputs": [
        {
          "output_type": "stream",
          "text": [
            "              precision    recall  f1-score   support\n",
            "\n",
            "           0       1.00      0.65      0.79        37\n",
            "           1       1.00      0.23      0.38        43\n",
            "           2       1.00      0.39      0.56        44\n",
            "           3       1.00      0.93      0.97        45\n",
            "           4       0.14      1.00      0.25        38\n",
            "           5       1.00      0.33      0.50        48\n",
            "           6       1.00      0.54      0.70        52\n",
            "           7       1.00      0.35      0.52        48\n",
            "           8       1.00      0.02      0.04        48\n",
            "           9       1.00      0.55      0.71        47\n",
            "\n",
            "   micro avg       0.49      0.49      0.49       450\n",
            "   macro avg       0.91      0.50      0.54       450\n",
            "weighted avg       0.93      0.49      0.54       450\n",
            "\n"
          ],
          "name": "stdout"
        }
      ]
    },
    {
      "metadata": {
        "id": "PYdV9wlB6MZF",
        "colab_type": "text"
      },
      "cell_type": "markdown",
      "source": [
        "**Note - **\n",
        "\n",
        "\n",
        "\n",
        "1.   93% accuracy while using Guassian kernel. \n",
        "\n",
        "\n",
        "\n"
      ]
    },
    {
      "metadata": {
        "id": "3pVkkzto6cMB",
        "colab_type": "text"
      },
      "cell_type": "markdown",
      "source": [
        "**d. Sigmoid - **"
      ]
    },
    {
      "metadata": {
        "id": "7OL0-MKd6e_K",
        "colab_type": "code",
        "colab": {
          "base_uri": "https://localhost:8080/",
          "height": 173
        },
        "outputId": "add53a6a-99fd-4ced-a642-acfb8b118c3f"
      },
      "cell_type": "code",
      "source": [
        "classifierS=SVC(kernel='sigmoid')\n",
        "classifierS.fit(X_train,Y_train)"
      ],
      "execution_count": 35,
      "outputs": [
        {
          "output_type": "stream",
          "text": [
            "/usr/local/lib/python3.6/dist-packages/sklearn/utils/validation.py:761: DataConversionWarning: A column-vector y was passed when a 1d array was expected. Please change the shape of y to (n_samples, ), for example using ravel().\n",
            "  y = column_or_1d(y, warn=True)\n",
            "/usr/local/lib/python3.6/dist-packages/sklearn/svm/base.py:196: FutureWarning: The default value of gamma will change from 'auto' to 'scale' in version 0.22 to account better for unscaled features. Set gamma explicitly to 'auto' or 'scale' to avoid this warning.\n",
            "  \"avoid this warning.\", FutureWarning)\n"
          ],
          "name": "stderr"
        },
        {
          "output_type": "execute_result",
          "data": {
            "text/plain": [
              "SVC(C=1.0, cache_size=200, class_weight=None, coef0=0.0,\n",
              "  decision_function_shape='ovr', degree=3, gamma='auto_deprecated',\n",
              "  kernel='sigmoid', max_iter=-1, probability=False, random_state=None,\n",
              "  shrinking=True, tol=0.001, verbose=False)"
            ]
          },
          "metadata": {
            "tags": []
          },
          "execution_count": 35
        }
      ]
    },
    {
      "metadata": {
        "id": "dAZl0t_-6uMh",
        "colab_type": "code",
        "colab": {}
      },
      "cell_type": "code",
      "source": [
        "# Making Predictions --\n",
        "Y_predS=classifierS.predict(X_test)"
      ],
      "execution_count": 0,
      "outputs": []
    },
    {
      "metadata": {
        "id": "etemj04I653o",
        "colab_type": "code",
        "colab": {
          "base_uri": "https://localhost:8080/",
          "height": 187
        },
        "outputId": "e4379876-8b51-49ef-a532-a5c3a034e802"
      },
      "cell_type": "code",
      "source": [
        "# confussion matrix \n",
        "conS=metrics.confusion_matrix(Y_test,Y_predS)\n",
        "conS"
      ],
      "execution_count": 39,
      "outputs": [
        {
          "output_type": "execute_result",
          "data": {
            "text/plain": [
              "array([[ 0,  0,  0,  0, 37,  0,  0,  0,  0,  0],\n",
              "       [ 0,  0,  0,  0, 43,  0,  0,  0,  0,  0],\n",
              "       [ 0,  0,  0,  0, 44,  0,  0,  0,  0,  0],\n",
              "       [ 0,  0,  0,  0, 45,  0,  0,  0,  0,  0],\n",
              "       [ 0,  0,  0,  0, 38,  0,  0,  0,  0,  0],\n",
              "       [ 0,  0,  0,  0, 48,  0,  0,  0,  0,  0],\n",
              "       [ 0,  0,  0,  0, 52,  0,  0,  0,  0,  0],\n",
              "       [ 0,  0,  0,  0, 48,  0,  0,  0,  0,  0],\n",
              "       [ 0,  0,  0,  0, 48,  0,  0,  0,  0,  0],\n",
              "       [ 0,  0,  0,  0, 47,  0,  0,  0,  0,  0]])"
            ]
          },
          "metadata": {
            "tags": []
          },
          "execution_count": 39
        }
      ]
    },
    {
      "metadata": {
        "id": "EdFHrQYu7MOO",
        "colab_type": "code",
        "colab": {
          "base_uri": "https://localhost:8080/",
          "height": 360
        },
        "outputId": "6de4f03c-7fac-45b7-ac3e-8a28826e971e"
      },
      "cell_type": "code",
      "source": [
        "# classification report -- \n",
        "print(metrics.classification_report(Y_test,Y_predS))"
      ],
      "execution_count": 40,
      "outputs": [
        {
          "output_type": "stream",
          "text": [
            "              precision    recall  f1-score   support\n",
            "\n",
            "           0       0.00      0.00      0.00        37\n",
            "           1       0.00      0.00      0.00        43\n",
            "           2       0.00      0.00      0.00        44\n",
            "           3       0.00      0.00      0.00        45\n",
            "           4       0.08      1.00      0.16        38\n",
            "           5       0.00      0.00      0.00        48\n",
            "           6       0.00      0.00      0.00        52\n",
            "           7       0.00      0.00      0.00        48\n",
            "           8       0.00      0.00      0.00        48\n",
            "           9       0.00      0.00      0.00        47\n",
            "\n",
            "   micro avg       0.08      0.08      0.08       450\n",
            "   macro avg       0.01      0.10      0.02       450\n",
            "weighted avg       0.01      0.08      0.01       450\n",
            "\n"
          ],
          "name": "stdout"
        },
        {
          "output_type": "stream",
          "text": [
            "/usr/local/lib/python3.6/dist-packages/sklearn/metrics/classification.py:1143: UndefinedMetricWarning: Precision and F-score are ill-defined and being set to 0.0 in labels with no predicted samples.\n",
            "  'precision', 'predicted', average, warn_for)\n"
          ],
          "name": "stderr"
        }
      ]
    },
    {
      "metadata": {
        "id": "nIMhjO-Y7ZhQ",
        "colab_type": "text"
      },
      "cell_type": "markdown",
      "source": [
        "** Note - **\n",
        "\n",
        "\n",
        "1.   1% accuracy while using Sigmoid kernel. \n",
        "\n"
      ]
    }
  ]
}