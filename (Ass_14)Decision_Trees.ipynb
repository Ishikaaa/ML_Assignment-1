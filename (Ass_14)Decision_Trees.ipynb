{
  "nbformat": 4,
  "nbformat_minor": 0,
  "metadata": {
    "colab": {
      "name": "(Ass-14)Trees.ipynb",
      "version": "0.3.2",
      "provenance": [],
      "collapsed_sections": [],
      "include_colab_link": true
    },
    "kernelspec": {
      "name": "python3",
      "display_name": "Python 3"
    }
  },
  "cells": [
    {
      "cell_type": "markdown",
      "metadata": {
        "id": "view-in-github",
        "colab_type": "text"
      },
      "source": [
        "<a href=\"https://colab.research.google.com/github/Ishikaaa/Machine-Learning-Assignments/blob/master/(Ass_14)Decision_Trees.ipynb\" target=\"_parent\"><img src=\"https://colab.research.google.com/assets/colab-badge.svg\" alt=\"Open In Colab\"/></a>"
      ]
    },
    {
      "metadata": {
        "id": "3BTPtjjJ88rs",
        "colab_type": "text"
      },
      "cell_type": "markdown",
      "source": [
        "# ***1. Import the libraries and dataset -***"
      ]
    },
    {
      "metadata": {
        "id": "dwpiNyVX7r7w",
        "colab_type": "code",
        "colab": {}
      },
      "cell_type": "code",
      "source": [
        "import pandas as pd \n",
        "import numpy as np "
      ],
      "execution_count": 0,
      "outputs": []
    },
    {
      "metadata": {
        "id": "oBymoLeA8s8V",
        "colab_type": "code",
        "colab": {
          "base_uri": "https://localhost:8080/",
          "height": 204
        },
        "outputId": "f5e9622e-89cf-43d3-f582-de911cf7e5d4"
      },
      "cell_type": "code",
      "source": [
        "dataset=pd.read_csv(\"https://archive.ics.uci.edu/ml/machine-learning-databases/balance-scale/balance-scale.data\")\n",
        "dataset.head()"
      ],
      "execution_count": 2,
      "outputs": [
        {
          "output_type": "execute_result",
          "data": {
            "text/html": [
              "<div>\n",
              "<style scoped>\n",
              "    .dataframe tbody tr th:only-of-type {\n",
              "        vertical-align: middle;\n",
              "    }\n",
              "\n",
              "    .dataframe tbody tr th {\n",
              "        vertical-align: top;\n",
              "    }\n",
              "\n",
              "    .dataframe thead th {\n",
              "        text-align: right;\n",
              "    }\n",
              "</style>\n",
              "<table border=\"1\" class=\"dataframe\">\n",
              "  <thead>\n",
              "    <tr style=\"text-align: right;\">\n",
              "      <th></th>\n",
              "      <th>B</th>\n",
              "      <th>1</th>\n",
              "      <th>1.1</th>\n",
              "      <th>1.2</th>\n",
              "      <th>1.3</th>\n",
              "    </tr>\n",
              "  </thead>\n",
              "  <tbody>\n",
              "    <tr>\n",
              "      <th>0</th>\n",
              "      <td>R</td>\n",
              "      <td>1</td>\n",
              "      <td>1</td>\n",
              "      <td>1</td>\n",
              "      <td>2</td>\n",
              "    </tr>\n",
              "    <tr>\n",
              "      <th>1</th>\n",
              "      <td>R</td>\n",
              "      <td>1</td>\n",
              "      <td>1</td>\n",
              "      <td>1</td>\n",
              "      <td>3</td>\n",
              "    </tr>\n",
              "    <tr>\n",
              "      <th>2</th>\n",
              "      <td>R</td>\n",
              "      <td>1</td>\n",
              "      <td>1</td>\n",
              "      <td>1</td>\n",
              "      <td>4</td>\n",
              "    </tr>\n",
              "    <tr>\n",
              "      <th>3</th>\n",
              "      <td>R</td>\n",
              "      <td>1</td>\n",
              "      <td>1</td>\n",
              "      <td>1</td>\n",
              "      <td>5</td>\n",
              "    </tr>\n",
              "    <tr>\n",
              "      <th>4</th>\n",
              "      <td>R</td>\n",
              "      <td>1</td>\n",
              "      <td>1</td>\n",
              "      <td>2</td>\n",
              "      <td>1</td>\n",
              "    </tr>\n",
              "  </tbody>\n",
              "</table>\n",
              "</div>"
            ],
            "text/plain": [
              "   B  1  1.1  1.2  1.3\n",
              "0  R  1    1    1    2\n",
              "1  R  1    1    1    3\n",
              "2  R  1    1    1    4\n",
              "3  R  1    1    1    5\n",
              "4  R  1    1    2    1"
            ]
          },
          "metadata": {
            "tags": []
          },
          "execution_count": 2
        }
      ]
    },
    {
      "metadata": {
        "id": "gToKH5eG8_rB",
        "colab_type": "code",
        "colab": {
          "base_uri": "https://localhost:8080/",
          "height": 34
        },
        "outputId": "e16debc7-9f18-4ae7-9ffd-53236922934e"
      },
      "cell_type": "code",
      "source": [
        "print(\"Shape of dataset:\",dataset.shape)"
      ],
      "execution_count": 4,
      "outputs": [
        {
          "output_type": "stream",
          "text": [
            "Shape of dataset: (624, 5)\n"
          ],
          "name": "stdout"
        }
      ]
    },
    {
      "metadata": {
        "id": "j8i9yYnL9K1K",
        "colab_type": "code",
        "colab": {
          "base_uri": "https://localhost:8080/",
          "height": 34
        },
        "outputId": "c94f771e-5bbe-4b8e-bdeb-002eb2ebc321"
      },
      "cell_type": "code",
      "source": [
        "print(\"Name of all columns:\",dataset.columns)"
      ],
      "execution_count": 5,
      "outputs": [
        {
          "output_type": "stream",
          "text": [
            "Name of all columns: Index(['B', '1', '1.1', '1.2', '1.3'], dtype='object')\n"
          ],
          "name": "stdout"
        }
      ]
    },
    {
      "metadata": {
        "id": "3NEnNcJwuabg",
        "colab_type": "code",
        "colab": {
          "base_uri": "https://localhost:8080/",
          "height": 119
        },
        "outputId": "7b224eae-3322-4ac0-88f9-ab36d3a0753c"
      },
      "cell_type": "code",
      "source": [
        "dataset.isnull().sum()"
      ],
      "execution_count": 6,
      "outputs": [
        {
          "output_type": "execute_result",
          "data": {
            "text/plain": [
              "B      0\n",
              "1      0\n",
              "1.1    0\n",
              "1.2    0\n",
              "1.3    0\n",
              "dtype: int64"
            ]
          },
          "metadata": {
            "tags": []
          },
          "execution_count": 6
        }
      ]
    },
    {
      "metadata": {
        "id": "MMbkGaC69DTT",
        "colab_type": "text"
      },
      "cell_type": "markdown",
      "source": [
        "# ***2. Slice the dataset -***"
      ]
    },
    {
      "metadata": {
        "id": "fCwmZObbUDdC",
        "colab_type": "code",
        "colab": {
          "base_uri": "https://localhost:8080/",
          "height": 119
        },
        "outputId": "27e5dcdc-3560-4f00-9724-32d7cd41fcf8"
      },
      "cell_type": "code",
      "source": [
        "dataset.isnull().sum()"
      ],
      "execution_count": 7,
      "outputs": [
        {
          "output_type": "execute_result",
          "data": {
            "text/plain": [
              "B      0\n",
              "1      0\n",
              "1.1    0\n",
              "1.2    0\n",
              "1.3    0\n",
              "dtype: int64"
            ]
          },
          "metadata": {
            "tags": []
          },
          "execution_count": 7
        }
      ]
    },
    {
      "metadata": {
        "id": "-mIsd0aHuW9Q",
        "colab_type": "code",
        "colab": {}
      },
      "cell_type": "code",
      "source": [
        "X=dataset.iloc[:,1:].values\n",
        "Y=dataset.iloc[:,0:1].values"
      ],
      "execution_count": 0,
      "outputs": []
    },
    {
      "metadata": {
        "id": "J2EO9xQivMEZ",
        "colab_type": "code",
        "colab": {
          "base_uri": "https://localhost:8080/",
          "height": 136
        },
        "outputId": "fd98dc9a-2765-4bd4-d272-57b16c328278"
      },
      "cell_type": "code",
      "source": [
        "print(X)"
      ],
      "execution_count": 9,
      "outputs": [
        {
          "output_type": "stream",
          "text": [
            "[[1 1 1 2]\n",
            " [1 1 1 3]\n",
            " [1 1 1 4]\n",
            " ...\n",
            " [5 5 5 3]\n",
            " [5 5 5 4]\n",
            " [5 5 5 5]]\n"
          ],
          "name": "stdout"
        }
      ]
    },
    {
      "metadata": {
        "id": "AKlBRXRKvhBm",
        "colab_type": "code",
        "colab": {
          "base_uri": "https://localhost:8080/",
          "height": 10625
        },
        "outputId": "cda3dd68-2298-4442-be85-113509cf7b6c"
      },
      "cell_type": "code",
      "source": [
        "print(Y)"
      ],
      "execution_count": 10,
      "outputs": [
        {
          "output_type": "stream",
          "text": [
            "[['R']\n",
            " ['R']\n",
            " ['R']\n",
            " ['R']\n",
            " ['R']\n",
            " ['R']\n",
            " ['R']\n",
            " ['R']\n",
            " ['R']\n",
            " ['R']\n",
            " ['R']\n",
            " ['R']\n",
            " ['R']\n",
            " ['R']\n",
            " ['R']\n",
            " ['R']\n",
            " ['R']\n",
            " ['R']\n",
            " ['R']\n",
            " ['R']\n",
            " ['R']\n",
            " ['R']\n",
            " ['R']\n",
            " ['R']\n",
            " ['L']\n",
            " ['B']\n",
            " ['R']\n",
            " ['R']\n",
            " ['R']\n",
            " ['B']\n",
            " ['R']\n",
            " ['R']\n",
            " ['R']\n",
            " ['R']\n",
            " ['R']\n",
            " ['R']\n",
            " ['R']\n",
            " ['R']\n",
            " ['R']\n",
            " ['R']\n",
            " ['R']\n",
            " ['R']\n",
            " ['R']\n",
            " ['R']\n",
            " ['R']\n",
            " ['R']\n",
            " ['R']\n",
            " ['R']\n",
            " ['R']\n",
            " ['L']\n",
            " ['L']\n",
            " ['B']\n",
            " ['R']\n",
            " ['R']\n",
            " ['L']\n",
            " ['R']\n",
            " ['R']\n",
            " ['R']\n",
            " ['R']\n",
            " ['B']\n",
            " ['R']\n",
            " ['R']\n",
            " ['R']\n",
            " ['R']\n",
            " ['R']\n",
            " ['R']\n",
            " ['R']\n",
            " ['R']\n",
            " ['R']\n",
            " ['R']\n",
            " ['R']\n",
            " ['R']\n",
            " ['R']\n",
            " ['R']\n",
            " ['L']\n",
            " ['L']\n",
            " ['L']\n",
            " ['B']\n",
            " ['R']\n",
            " ['L']\n",
            " ['B']\n",
            " ['R']\n",
            " ['R']\n",
            " ['R']\n",
            " ['L']\n",
            " ['R']\n",
            " ['R']\n",
            " ['R']\n",
            " ['R']\n",
            " ['B']\n",
            " ['R']\n",
            " ['R']\n",
            " ['R']\n",
            " ['R']\n",
            " ['R']\n",
            " ['R']\n",
            " ['R']\n",
            " ['R']\n",
            " ['R']\n",
            " ['L']\n",
            " ['L']\n",
            " ['L']\n",
            " ['L']\n",
            " ['B']\n",
            " ['L']\n",
            " ['L']\n",
            " ['R']\n",
            " ['R']\n",
            " ['R']\n",
            " ['L']\n",
            " ['R']\n",
            " ['R']\n",
            " ['R']\n",
            " ['R']\n",
            " ['L']\n",
            " ['R']\n",
            " ['R']\n",
            " ['R']\n",
            " ['R']\n",
            " ['B']\n",
            " ['R']\n",
            " ['R']\n",
            " ['R']\n",
            " ['R']\n",
            " ['L']\n",
            " ['B']\n",
            " ['R']\n",
            " ['R']\n",
            " ['R']\n",
            " ['B']\n",
            " ['R']\n",
            " ['R']\n",
            " ['R']\n",
            " ['R']\n",
            " ['R']\n",
            " ['R']\n",
            " ['R']\n",
            " ['R']\n",
            " ['R']\n",
            " ['R']\n",
            " ['R']\n",
            " ['R']\n",
            " ['R']\n",
            " ['R']\n",
            " ['R']\n",
            " ['R']\n",
            " ['R']\n",
            " ['R']\n",
            " ['R']\n",
            " ['L']\n",
            " ['L']\n",
            " ['L']\n",
            " ['B']\n",
            " ['R']\n",
            " ['L']\n",
            " ['B']\n",
            " ['R']\n",
            " ['R']\n",
            " ['R']\n",
            " ['L']\n",
            " ['R']\n",
            " ['R']\n",
            " ['R']\n",
            " ['R']\n",
            " ['B']\n",
            " ['R']\n",
            " ['R']\n",
            " ['R']\n",
            " ['R']\n",
            " ['R']\n",
            " ['R']\n",
            " ['R']\n",
            " ['R']\n",
            " ['R']\n",
            " ['L']\n",
            " ['L']\n",
            " ['L']\n",
            " ['L']\n",
            " ['L']\n",
            " ['L']\n",
            " ['L']\n",
            " ['B']\n",
            " ['R']\n",
            " ['R']\n",
            " ['L']\n",
            " ['B']\n",
            " ['R']\n",
            " ['R']\n",
            " ['R']\n",
            " ['L']\n",
            " ['R']\n",
            " ['R']\n",
            " ['R']\n",
            " ['R']\n",
            " ['L']\n",
            " ['R']\n",
            " ['R']\n",
            " ['R']\n",
            " ['R']\n",
            " ['L']\n",
            " ['L']\n",
            " ['L']\n",
            " ['L']\n",
            " ['L']\n",
            " ['L']\n",
            " ['L']\n",
            " ['L']\n",
            " ['B']\n",
            " ['R']\n",
            " ['L']\n",
            " ['L']\n",
            " ['R']\n",
            " ['R']\n",
            " ['R']\n",
            " ['L']\n",
            " ['B']\n",
            " ['R']\n",
            " ['R']\n",
            " ['R']\n",
            " ['L']\n",
            " ['R']\n",
            " ['R']\n",
            " ['R']\n",
            " ['R']\n",
            " ['L']\n",
            " ['L']\n",
            " ['L']\n",
            " ['L']\n",
            " ['L']\n",
            " ['L']\n",
            " ['L']\n",
            " ['L']\n",
            " ['L']\n",
            " ['B']\n",
            " ['L']\n",
            " ['L']\n",
            " ['L']\n",
            " ['R']\n",
            " ['R']\n",
            " ['L']\n",
            " ['L']\n",
            " ['R']\n",
            " ['R']\n",
            " ['R']\n",
            " ['L']\n",
            " ['B']\n",
            " ['R']\n",
            " ['R']\n",
            " ['R']\n",
            " ['L']\n",
            " ['L']\n",
            " ['B']\n",
            " ['R']\n",
            " ['R']\n",
            " ['L']\n",
            " ['R']\n",
            " ['R']\n",
            " ['R']\n",
            " ['R']\n",
            " ['B']\n",
            " ['R']\n",
            " ['R']\n",
            " ['R']\n",
            " ['R']\n",
            " ['R']\n",
            " ['R']\n",
            " ['R']\n",
            " ['R']\n",
            " ['R']\n",
            " ['R']\n",
            " ['R']\n",
            " ['R']\n",
            " ['R']\n",
            " ['R']\n",
            " ['L']\n",
            " ['L']\n",
            " ['L']\n",
            " ['L']\n",
            " ['L']\n",
            " ['L']\n",
            " ['L']\n",
            " ['B']\n",
            " ['R']\n",
            " ['R']\n",
            " ['L']\n",
            " ['B']\n",
            " ['R']\n",
            " ['R']\n",
            " ['R']\n",
            " ['L']\n",
            " ['R']\n",
            " ['R']\n",
            " ['R']\n",
            " ['R']\n",
            " ['L']\n",
            " ['R']\n",
            " ['R']\n",
            " ['R']\n",
            " ['R']\n",
            " ['L']\n",
            " ['L']\n",
            " ['L']\n",
            " ['L']\n",
            " ['L']\n",
            " ['L']\n",
            " ['L']\n",
            " ['L']\n",
            " ['L']\n",
            " ['R']\n",
            " ['L']\n",
            " ['L']\n",
            " ['B']\n",
            " ['R']\n",
            " ['R']\n",
            " ['L']\n",
            " ['L']\n",
            " ['R']\n",
            " ['R']\n",
            " ['R']\n",
            " ['L']\n",
            " ['R']\n",
            " ['R']\n",
            " ['R']\n",
            " ['R']\n",
            " ['L']\n",
            " ['L']\n",
            " ['L']\n",
            " ['L']\n",
            " ['L']\n",
            " ['L']\n",
            " ['L']\n",
            " ['L']\n",
            " ['L']\n",
            " ['L']\n",
            " ['L']\n",
            " ['L']\n",
            " ['L']\n",
            " ['B']\n",
            " ['R']\n",
            " ['L']\n",
            " ['L']\n",
            " ['B']\n",
            " ['R']\n",
            " ['R']\n",
            " ['L']\n",
            " ['L']\n",
            " ['R']\n",
            " ['R']\n",
            " ['R']\n",
            " ['L']\n",
            " ['L']\n",
            " ['L']\n",
            " ['L']\n",
            " ['L']\n",
            " ['L']\n",
            " ['L']\n",
            " ['L']\n",
            " ['L']\n",
            " ['L']\n",
            " ['L']\n",
            " ['L']\n",
            " ['L']\n",
            " ['L']\n",
            " ['B']\n",
            " ['L']\n",
            " ['L']\n",
            " ['L']\n",
            " ['R']\n",
            " ['R']\n",
            " ['L']\n",
            " ['L']\n",
            " ['B']\n",
            " ['R']\n",
            " ['R']\n",
            " ['L']\n",
            " ['L']\n",
            " ['L']\n",
            " ['B']\n",
            " ['R']\n",
            " ['L']\n",
            " ['B']\n",
            " ['R']\n",
            " ['R']\n",
            " ['R']\n",
            " ['L']\n",
            " ['R']\n",
            " ['R']\n",
            " ['R']\n",
            " ['R']\n",
            " ['B']\n",
            " ['R']\n",
            " ['R']\n",
            " ['R']\n",
            " ['R']\n",
            " ['R']\n",
            " ['R']\n",
            " ['R']\n",
            " ['R']\n",
            " ['R']\n",
            " ['L']\n",
            " ['L']\n",
            " ['L']\n",
            " ['L']\n",
            " ['L']\n",
            " ['L']\n",
            " ['L']\n",
            " ['L']\n",
            " ['B']\n",
            " ['R']\n",
            " ['L']\n",
            " ['L']\n",
            " ['R']\n",
            " ['R']\n",
            " ['R']\n",
            " ['L']\n",
            " ['B']\n",
            " ['R']\n",
            " ['R']\n",
            " ['R']\n",
            " ['L']\n",
            " ['R']\n",
            " ['R']\n",
            " ['R']\n",
            " ['R']\n",
            " ['L']\n",
            " ['L']\n",
            " ['L']\n",
            " ['L']\n",
            " ['L']\n",
            " ['L']\n",
            " ['L']\n",
            " ['L']\n",
            " ['L']\n",
            " ['L']\n",
            " ['L']\n",
            " ['L']\n",
            " ['L']\n",
            " ['B']\n",
            " ['R']\n",
            " ['L']\n",
            " ['L']\n",
            " ['B']\n",
            " ['R']\n",
            " ['R']\n",
            " ['L']\n",
            " ['L']\n",
            " ['R']\n",
            " ['R']\n",
            " ['R']\n",
            " ['L']\n",
            " ['L']\n",
            " ['L']\n",
            " ['L']\n",
            " ['L']\n",
            " ['L']\n",
            " ['L']\n",
            " ['L']\n",
            " ['L']\n",
            " ['L']\n",
            " ['L']\n",
            " ['L']\n",
            " ['L']\n",
            " ['L']\n",
            " ['L']\n",
            " ['L']\n",
            " ['L']\n",
            " ['L']\n",
            " ['B']\n",
            " ['R']\n",
            " ['L']\n",
            " ['L']\n",
            " ['L']\n",
            " ['R']\n",
            " ['R']\n",
            " ['L']\n",
            " ['L']\n",
            " ['L']\n",
            " ['L']\n",
            " ['L']\n",
            " ['L']\n",
            " ['L']\n",
            " ['L']\n",
            " ['L']\n",
            " ['L']\n",
            " ['L']\n",
            " ['L']\n",
            " ['L']\n",
            " ['L']\n",
            " ['L']\n",
            " ['L']\n",
            " ['L']\n",
            " ['L']\n",
            " ['L']\n",
            " ['B']\n",
            " ['L']\n",
            " ['L']\n",
            " ['L']\n",
            " ['B']\n",
            " ['R']\n",
            " ['L']\n",
            " ['L']\n",
            " ['L']\n",
            " ['L']\n",
            " ['B']\n",
            " ['L']\n",
            " ['L']\n",
            " ['R']\n",
            " ['R']\n",
            " ['R']\n",
            " ['L']\n",
            " ['R']\n",
            " ['R']\n",
            " ['R']\n",
            " ['R']\n",
            " ['L']\n",
            " ['R']\n",
            " ['R']\n",
            " ['R']\n",
            " ['R']\n",
            " ['B']\n",
            " ['R']\n",
            " ['R']\n",
            " ['R']\n",
            " ['R']\n",
            " ['L']\n",
            " ['L']\n",
            " ['L']\n",
            " ['L']\n",
            " ['L']\n",
            " ['L']\n",
            " ['L']\n",
            " ['L']\n",
            " ['L']\n",
            " ['B']\n",
            " ['L']\n",
            " ['L']\n",
            " ['L']\n",
            " ['R']\n",
            " ['R']\n",
            " ['L']\n",
            " ['L']\n",
            " ['R']\n",
            " ['R']\n",
            " ['R']\n",
            " ['L']\n",
            " ['B']\n",
            " ['R']\n",
            " ['R']\n",
            " ['R']\n",
            " ['L']\n",
            " ['L']\n",
            " ['L']\n",
            " ['L']\n",
            " ['L']\n",
            " ['L']\n",
            " ['L']\n",
            " ['L']\n",
            " ['L']\n",
            " ['L']\n",
            " ['L']\n",
            " ['L']\n",
            " ['L']\n",
            " ['L']\n",
            " ['B']\n",
            " ['L']\n",
            " ['L']\n",
            " ['L']\n",
            " ['R']\n",
            " ['R']\n",
            " ['L']\n",
            " ['L']\n",
            " ['B']\n",
            " ['R']\n",
            " ['R']\n",
            " ['L']\n",
            " ['L']\n",
            " ['L']\n",
            " ['L']\n",
            " ['L']\n",
            " ['L']\n",
            " ['L']\n",
            " ['L']\n",
            " ['L']\n",
            " ['L']\n",
            " ['L']\n",
            " ['L']\n",
            " ['L']\n",
            " ['L']\n",
            " ['L']\n",
            " ['L']\n",
            " ['L']\n",
            " ['L']\n",
            " ['L']\n",
            " ['B']\n",
            " ['L']\n",
            " ['L']\n",
            " ['L']\n",
            " ['B']\n",
            " ['R']\n",
            " ['L']\n",
            " ['L']\n",
            " ['L']\n",
            " ['L']\n",
            " ['L']\n",
            " ['L']\n",
            " ['L']\n",
            " ['L']\n",
            " ['L']\n",
            " ['L']\n",
            " ['L']\n",
            " ['L']\n",
            " ['L']\n",
            " ['L']\n",
            " ['L']\n",
            " ['L']\n",
            " ['L']\n",
            " ['L']\n",
            " ['L']\n",
            " ['L']\n",
            " ['L']\n",
            " ['L']\n",
            " ['L']\n",
            " ['L']\n",
            " ['B']]\n"
          ],
          "name": "stdout"
        }
      ]
    },
    {
      "metadata": {
        "id": "oVzjz3JKvpKs",
        "colab_type": "text"
      },
      "cell_type": "markdown",
      "source": [
        "# ***3. Split the dataset by using train_test_split() - ***"
      ]
    },
    {
      "metadata": {
        "id": "LMaZCkPovoIp",
        "colab_type": "code",
        "colab": {}
      },
      "cell_type": "code",
      "source": [
        "from sklearn.model_selection import train_test_split \n",
        "X_train,X_test,Y_train,Y_test=train_test_split(X,Y,test_size=0.25,random_state=0)"
      ],
      "execution_count": 0,
      "outputs": []
    },
    {
      "metadata": {
        "id": "grHqMmXbv6x8",
        "colab_type": "text"
      },
      "cell_type": "markdown",
      "source": [
        "# ***4. Use DecisionTree - ***"
      ]
    },
    {
      "metadata": {
        "id": "ZvpRf6NEwaLV",
        "colab_type": "code",
        "colab": {}
      },
      "cell_type": "code",
      "source": [
        "from sklearn.tree import DecisionTreeClassifier\n",
        "from sklearn import metrics"
      ],
      "execution_count": 0,
      "outputs": []
    },
    {
      "metadata": {
        "id": "42Jw2_uqv_r6",
        "colab_type": "text"
      },
      "cell_type": "markdown",
      "source": [
        "**a. Gini - **"
      ]
    },
    {
      "metadata": {
        "id": "X0-NU-GHwENN",
        "colab_type": "code",
        "colab": {
          "base_uri": "https://localhost:8080/",
          "height": 119
        },
        "outputId": "28e610e5-aec6-43a2-822f-bb7e5cf64973"
      },
      "cell_type": "code",
      "source": [
        "gi=DecisionTreeClassifier(criterion='gini')\n",
        "gi.fit(X_train,Y_train)"
      ],
      "execution_count": 13,
      "outputs": [
        {
          "output_type": "execute_result",
          "data": {
            "text/plain": [
              "DecisionTreeClassifier(class_weight=None, criterion='gini', max_depth=None,\n",
              "            max_features=None, max_leaf_nodes=None,\n",
              "            min_impurity_decrease=0.0, min_impurity_split=None,\n",
              "            min_samples_leaf=1, min_samples_split=2,\n",
              "            min_weight_fraction_leaf=0.0, presort=False, random_state=None,\n",
              "            splitter='best')"
            ]
          },
          "metadata": {
            "tags": []
          },
          "execution_count": 13
        }
      ]
    },
    {
      "metadata": {
        "id": "yQr6SQRFws6u",
        "colab_type": "code",
        "colab": {}
      },
      "cell_type": "code",
      "source": [
        "# Making Predictions - \n",
        "Y_predG=gi.predict(X_test)"
      ],
      "execution_count": 0,
      "outputs": []
    },
    {
      "metadata": {
        "id": "I_Gyw2wDwzdH",
        "colab_type": "code",
        "colab": {
          "base_uri": "https://localhost:8080/",
          "height": 34
        },
        "outputId": "673c8915-ba00-48ce-a618-5f5b47200b24"
      },
      "cell_type": "code",
      "source": [
        "# Accuracy Score - \n",
        "metrics.accuracy_score(Y_test,Y_predG)"
      ],
      "execution_count": 15,
      "outputs": [
        {
          "output_type": "execute_result",
          "data": {
            "text/plain": [
              "0.7628205128205128"
            ]
          },
          "metadata": {
            "tags": []
          },
          "execution_count": 15
        }
      ]
    },
    {
      "metadata": {
        "id": "IpoGmJmtUxR1",
        "colab_type": "code",
        "colab": {
          "base_uri": "https://localhost:8080/",
          "height": 187
        },
        "outputId": "9ae6c232-1bce-4412-cb25-6eb9891be0a5"
      },
      "cell_type": "code",
      "source": [
        "# classification report \n",
        "print(metrics.classification_report(Y_test,Y_predG))"
      ],
      "execution_count": 20,
      "outputs": [
        {
          "output_type": "stream",
          "text": [
            "              precision    recall  f1-score   support\n",
            "\n",
            "           B       0.04      0.11      0.06         9\n",
            "           L       0.85      0.76      0.80        72\n",
            "           R       0.93      0.84      0.88        75\n",
            "\n",
            "   micro avg       0.76      0.76      0.76       156\n",
            "   macro avg       0.61      0.57      0.58       156\n",
            "weighted avg       0.84      0.76      0.80       156\n",
            "\n"
          ],
          "name": "stdout"
        }
      ]
    },
    {
      "metadata": {
        "id": "JnD71V5BU6wU",
        "colab_type": "text"
      },
      "cell_type": "markdown",
      "source": [
        "**Note - **\n",
        "\n",
        "\n",
        "1.   84% accuracy while using gini decision treee algorithm. \n",
        "\n"
      ]
    },
    {
      "metadata": {
        "id": "BsKGnWuPxLMK",
        "colab_type": "text"
      },
      "cell_type": "markdown",
      "source": [
        "**b. Entropy - \n",
        "**"
      ]
    },
    {
      "metadata": {
        "id": "GGfIwtZaxN1a",
        "colab_type": "code",
        "colab": {
          "base_uri": "https://localhost:8080/",
          "height": 119
        },
        "outputId": "d5547234-93a9-4644-c8f7-af10de9b5ede"
      },
      "cell_type": "code",
      "source": [
        "ent=DecisionTreeClassifier(criterion='entropy')\n",
        "ent.fit(X_train,Y_train)"
      ],
      "execution_count": 17,
      "outputs": [
        {
          "output_type": "execute_result",
          "data": {
            "text/plain": [
              "DecisionTreeClassifier(class_weight=None, criterion='entropy', max_depth=None,\n",
              "            max_features=None, max_leaf_nodes=None,\n",
              "            min_impurity_decrease=0.0, min_impurity_split=None,\n",
              "            min_samples_leaf=1, min_samples_split=2,\n",
              "            min_weight_fraction_leaf=0.0, presort=False, random_state=None,\n",
              "            splitter='best')"
            ]
          },
          "metadata": {
            "tags": []
          },
          "execution_count": 17
        }
      ]
    },
    {
      "metadata": {
        "id": "7lrdjkV5UgdC",
        "colab_type": "code",
        "colab": {}
      },
      "cell_type": "code",
      "source": [
        "# Making the prediction \n",
        "Y_predE=ent.predict(X_test)"
      ],
      "execution_count": 0,
      "outputs": []
    },
    {
      "metadata": {
        "id": "1Hjbbd8AUnoo",
        "colab_type": "code",
        "colab": {
          "base_uri": "https://localhost:8080/",
          "height": 34
        },
        "outputId": "9969936e-ed5c-4646-b897-981928b4baa5"
      },
      "cell_type": "code",
      "source": [
        "# Accuracy \n",
        "metrics.accuracy_score(Y_test,Y_predE)"
      ],
      "execution_count": 19,
      "outputs": [
        {
          "output_type": "execute_result",
          "data": {
            "text/plain": [
              "0.75"
            ]
          },
          "metadata": {
            "tags": []
          },
          "execution_count": 19
        }
      ]
    },
    {
      "metadata": {
        "id": "O8ZTlEr2VUEe",
        "colab_type": "code",
        "colab": {
          "base_uri": "https://localhost:8080/",
          "height": 187
        },
        "outputId": "451bd98e-4150-4e82-f69c-107352d2c5c8"
      },
      "cell_type": "code",
      "source": [
        "# classification report \n",
        "print(metrics.classification_report(Y_test,Y_predE))"
      ],
      "execution_count": 22,
      "outputs": [
        {
          "output_type": "stream",
          "text": [
            "              precision    recall  f1-score   support\n",
            "\n",
            "           B       0.04      0.11      0.06         9\n",
            "           L       0.84      0.75      0.79        72\n",
            "           R       0.94      0.83      0.88        75\n",
            "\n",
            "   micro avg       0.75      0.75      0.75       156\n",
            "   macro avg       0.61      0.56      0.58       156\n",
            "weighted avg       0.84      0.75      0.79       156\n",
            "\n"
          ],
          "name": "stdout"
        }
      ]
    },
    {
      "metadata": {
        "id": "sI9MFRKYVf8G",
        "colab_type": "text"
      },
      "cell_type": "markdown",
      "source": [
        "**Note - **\n",
        "\n",
        "\n",
        "1.   84% accuracy while using entropy decision tree algo.\n",
        "\n"
      ]
    }
  ]
}