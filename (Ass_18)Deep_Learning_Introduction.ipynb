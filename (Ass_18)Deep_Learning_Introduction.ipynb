{
  "nbformat": 4,
  "nbformat_minor": 0,
  "metadata": {
    "colab": {
      "name": "(Ass-18)Deep_Learning_Introduction.ipynb",
      "version": "0.3.2",
      "provenance": [],
      "collapsed_sections": [],
      "include_colab_link": true
    },
    "kernelspec": {
      "name": "python3",
      "display_name": "Python 3"
    }
  },
  "cells": [
    {
      "cell_type": "markdown",
      "metadata": {
        "id": "view-in-github",
        "colab_type": "text"
      },
      "source": [
        "<a href=\"https://colab.research.google.com/github/Ishikaaa/Machine-Learning-Assignments/blob/master/(Ass_18)Deep_Learning_Introduction.ipynb\" target=\"_parent\"><img src=\"https://colab.research.google.com/assets/colab-badge.svg\" alt=\"Open In Colab\"/></a>"
      ]
    },
    {
      "metadata": {
        "id": "U56a7Ll-MhOs",
        "colab_type": "text"
      },
      "cell_type": "markdown",
      "source": [
        "# ***1. Find simplest form of F - ***"
      ]
    },
    {
      "metadata": {
        "id": "g3ICOBeRpHH8",
        "colab_type": "code",
        "colab": {}
      },
      "cell_type": "code",
      "source": [
        "a, b, and c are inputs\n",
        "u = a * b\n",
        "v = a * c\n",
        "w = b + c\n",
        "F = u + v - w\n",
        "F=(a*b)+(a*c)-(b+c)\n",
        "F=(a-1)*(b+c)"
      ],
      "execution_count": 0,
      "outputs": []
    },
    {
      "metadata": {
        "id": "mSE44u2zNOxH",
        "colab_type": "text"
      },
      "cell_type": "markdown",
      "source": [
        "# ***2. Find input and activation function - ***"
      ]
    },
    {
      "metadata": {
        "id": "iF5Ti33NNQZZ",
        "colab_type": "code",
        "colab": {}
      },
      "cell_type": "code",
      "source": [
        "weight_1 = 2.7\n",
        "weight_2 = -8.6\n",
        "weight_3 = 0.002"
      ],
      "execution_count": 0,
      "outputs": []
    },
    {
      "metadata": {
        "id": "ZsKHB6EGNT9e",
        "colab_type": "code",
        "colab": {}
      },
      "cell_type": "code",
      "source": [
        "b1 = -0.06\n",
        "b2 = -2.5\n",
        "b3 = 1.4"
      ],
      "execution_count": 0,
      "outputs": []
    },
    {
      "metadata": {
        "id": "uwAGbu-qNfWA",
        "colab_type": "code",
        "colab": {
          "base_uri": "https://localhost:8080/",
          "height": 34
        },
        "outputId": "52ce6eef-58c2-414f-a501-cc1e521790f8"
      },
      "cell_type": "code",
      "source": [
        "# Input Value - \n",
        "X=(weight_1*b1)+(weight_2*b2)+(weight_3*b3)\n",
        "X=-(0.162)+(21.5)+(0.0028)\n",
        "X=21.3408\n",
        "print(X)"
      ],
      "execution_count": 10,
      "outputs": [
        {
          "output_type": "stream",
          "text": [
            "21.3408\n"
          ],
          "name": "stdout"
        }
      ]
    },
    {
      "metadata": {
        "id": "kHKMdIBbOZtq",
        "colab_type": "code",
        "colab": {
          "base_uri": "https://localhost:8080/",
          "height": 34
        },
        "outputId": "b1ed48b5-3847-4bb6-dc5d-9227290baaa0"
      },
      "cell_type": "code",
      "source": [
        "# Activation Function - \n",
        "import math \n",
        "e=math.exp(X)\n",
        "f=1/(1+e)\n",
        "print(f)"
      ],
      "execution_count": 11,
      "outputs": [
        {
          "output_type": "stream",
          "text": [
            "5.392725573639998e-10\n"
          ],
          "name": "stdout"
        }
      ]
    },
    {
      "metadata": {
        "id": "twQ_cKM_PiGx",
        "colab_type": "text"
      },
      "cell_type": "markdown",
      "source": [
        "**Bias of -1.1 is added - **"
      ]
    },
    {
      "metadata": {
        "id": "epxaOqVdPv_7",
        "colab_type": "code",
        "colab": {
          "base_uri": "https://localhost:8080/",
          "height": 34
        },
        "outputId": "95aba3ea-6311-4d20-f068-8a01b0eb4398"
      },
      "cell_type": "code",
      "source": [
        "# Input Value - \n",
        "bias=-1.1\n",
        "X_b=(weight_1*b1)+(weight_2*b2)+(weight_3*b3)+bias \n",
        "print(X_b)"
      ],
      "execution_count": 12,
      "outputs": [
        {
          "output_type": "stream",
          "text": [
            "20.2408\n"
          ],
          "name": "stdout"
        }
      ]
    },
    {
      "metadata": {
        "id": "VRsm4TZtP6cz",
        "colab_type": "code",
        "colab": {
          "base_uri": "https://localhost:8080/",
          "height": 34
        },
        "outputId": "c5293193-21dc-4298-86fa-d49c26a1079b"
      },
      "cell_type": "code",
      "source": [
        "# Activation Function - \n",
        "import math \n",
        "e_b=math.exp(X_b)\n",
        "f_b=1/(1+e_b)\n",
        "print(f_b)"
      ],
      "execution_count": 13,
      "outputs": [
        {
          "output_type": "stream",
          "text": [
            "1.6200642927286825e-09\n"
          ],
          "name": "stdout"
        }
      ]
    },
    {
      "metadata": {
        "id": "sO_xAhlGQCHc",
        "colab_type": "text"
      },
      "cell_type": "markdown",
      "source": [
        "**Change in output after biasing - **"
      ]
    },
    {
      "metadata": {
        "id": "nziADT8lQFi1",
        "colab_type": "code",
        "colab": {
          "base_uri": "https://localhost:8080/",
          "height": 34
        },
        "outputId": "6a5bd6e7-66da-4a0c-9785-d1948eb14880"
      },
      "cell_type": "code",
      "source": [
        "print(\"change-\",f-f_b)"
      ],
      "execution_count": 14,
      "outputs": [
        {
          "output_type": "stream",
          "text": [
            "change- -1.0807917353646828e-09\n"
          ],
          "name": "stdout"
        }
      ]
    },
    {
      "metadata": {
        "id": "AbQxCrtJQaCw",
        "colab_type": "text"
      },
      "cell_type": "markdown",
      "source": [
        "**Why we need bias - **"
      ]
    },
    {
      "metadata": {
        "id": "qbwLUeRYQbxc",
        "colab_type": "code",
        "colab": {}
      },
      "cell_type": "code",
      "source": [
        "Role of bias - Bias allows you to shift the activation function by adding a constant (i.e. the given bias) to the input"
      ],
      "execution_count": 0,
      "outputs": []
    }
  ]
}