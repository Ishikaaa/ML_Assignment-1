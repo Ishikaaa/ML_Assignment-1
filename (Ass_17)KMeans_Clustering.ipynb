{
  "nbformat": 4,
  "nbformat_minor": 0,
  "metadata": {
    "colab": {
      "name": "(Ass-17)KMeans_Clustering.ipynb",
      "version": "0.3.2",
      "provenance": [],
      "include_colab_link": true
    },
    "kernelspec": {
      "name": "python3",
      "display_name": "Python 3"
    }
  },
  "cells": [
    {
      "cell_type": "markdown",
      "metadata": {
        "id": "view-in-github",
        "colab_type": "text"
      },
      "source": [
        "<a href=\"https://colab.research.google.com/github/Ishikaaa/Machine-Learning-Assignments/blob/master/(Ass_17)KMeans_Clustering.ipynb\" target=\"_parent\"><img src=\"https://colab.research.google.com/assets/colab-badge.svg\" alt=\"Open In Colab\"/></a>"
      ]
    },
    {
      "metadata": {
        "id": "rsAYiKtqf_VR",
        "colab_type": "text"
      },
      "cell_type": "markdown",
      "source": [
        "# ***1. Import the dataset from sklearn.datasets. Save the data and target values in X and y respectively -***"
      ]
    },
    {
      "metadata": {
        "id": "mAlcDGtifxn3",
        "colab_type": "code",
        "colab": {}
      },
      "cell_type": "code",
      "source": [
        "import pandas as pd \n",
        "import numpy as np "
      ],
      "execution_count": 0,
      "outputs": []
    },
    {
      "metadata": {
        "id": "cWr68xpJgFTG",
        "colab_type": "code",
        "outputId": "8c4f043c-b58b-40c6-8dff-bdc7be192ec3",
        "colab": {
          "base_uri": "https://localhost:8080/",
          "height": 1040
        }
      },
      "cell_type": "code",
      "source": [
        "from sklearn.datasets import load_digits \n",
        "data=load_digits()\n",
        "data"
      ],
      "execution_count": 4,
      "outputs": [
        {
          "output_type": "execute_result",
          "data": {
            "text/plain": [
              "{'DESCR': \".. _digits_dataset:\\n\\nOptical recognition of handwritten digits dataset\\n--------------------------------------------------\\n\\n**Data Set Characteristics:**\\n\\n    :Number of Instances: 5620\\n    :Number of Attributes: 64\\n    :Attribute Information: 8x8 image of integer pixels in the range 0..16.\\n    :Missing Attribute Values: None\\n    :Creator: E. Alpaydin (alpaydin '@' boun.edu.tr)\\n    :Date: July; 1998\\n\\nThis is a copy of the test set of the UCI ML hand-written digits datasets\\nhttp://archive.ics.uci.edu/ml/datasets/Optical+Recognition+of+Handwritten+Digits\\n\\nThe data set contains images of hand-written digits: 10 classes where\\neach class refers to a digit.\\n\\nPreprocessing programs made available by NIST were used to extract\\nnormalized bitmaps of handwritten digits from a preprinted form. From a\\ntotal of 43 people, 30 contributed to the training set and different 13\\nto the test set. 32x32 bitmaps are divided into nonoverlapping blocks of\\n4x4 and the number of on pixels are counted in each block. This generates\\nan input matrix of 8x8 where each element is an integer in the range\\n0..16. This reduces dimensionality and gives invariance to small\\ndistortions.\\n\\nFor info on NIST preprocessing routines, see M. D. Garris, J. L. Blue, G.\\nT. Candela, D. L. Dimmick, J. Geist, P. J. Grother, S. A. Janet, and C.\\nL. Wilson, NIST Form-Based Handprint Recognition System, NISTIR 5469,\\n1994.\\n\\n.. topic:: References\\n\\n  - C. Kaynak (1995) Methods of Combining Multiple Classifiers and Their\\n    Applications to Handwritten Digit Recognition, MSc Thesis, Institute of\\n    Graduate Studies in Science and Engineering, Bogazici University.\\n  - E. Alpaydin, C. Kaynak (1998) Cascading Classifiers, Kybernetika.\\n  - Ken Tang and Ponnuthurai N. Suganthan and Xi Yao and A. Kai Qin.\\n    Linear dimensionalityreduction using relevance weighted LDA. School of\\n    Electrical and Electronic Engineering Nanyang Technological University.\\n    2005.\\n  - Claudio Gentile. A New Approximate Maximal Margin Classification\\n    Algorithm. NIPS. 2000.\",\n",
              " 'data': array([[ 0.,  0.,  5., ...,  0.,  0.,  0.],\n",
              "        [ 0.,  0.,  0., ..., 10.,  0.,  0.],\n",
              "        [ 0.,  0.,  0., ..., 16.,  9.,  0.],\n",
              "        ...,\n",
              "        [ 0.,  0.,  1., ...,  6.,  0.,  0.],\n",
              "        [ 0.,  0.,  2., ..., 12.,  0.,  0.],\n",
              "        [ 0.,  0., 10., ..., 12.,  1.,  0.]]),\n",
              " 'images': array([[[ 0.,  0.,  5., ...,  1.,  0.,  0.],\n",
              "         [ 0.,  0., 13., ..., 15.,  5.,  0.],\n",
              "         [ 0.,  3., 15., ..., 11.,  8.,  0.],\n",
              "         ...,\n",
              "         [ 0.,  4., 11., ..., 12.,  7.,  0.],\n",
              "         [ 0.,  2., 14., ..., 12.,  0.,  0.],\n",
              "         [ 0.,  0.,  6., ...,  0.,  0.,  0.]],\n",
              " \n",
              "        [[ 0.,  0.,  0., ...,  5.,  0.,  0.],\n",
              "         [ 0.,  0.,  0., ...,  9.,  0.,  0.],\n",
              "         [ 0.,  0.,  3., ...,  6.,  0.,  0.],\n",
              "         ...,\n",
              "         [ 0.,  0.,  1., ...,  6.,  0.,  0.],\n",
              "         [ 0.,  0.,  1., ...,  6.,  0.,  0.],\n",
              "         [ 0.,  0.,  0., ..., 10.,  0.,  0.]],\n",
              " \n",
              "        [[ 0.,  0.,  0., ..., 12.,  0.,  0.],\n",
              "         [ 0.,  0.,  3., ..., 14.,  0.,  0.],\n",
              "         [ 0.,  0.,  8., ..., 16.,  0.,  0.],\n",
              "         ...,\n",
              "         [ 0.,  9., 16., ...,  0.,  0.,  0.],\n",
              "         [ 0.,  3., 13., ..., 11.,  5.,  0.],\n",
              "         [ 0.,  0.,  0., ..., 16.,  9.,  0.]],\n",
              " \n",
              "        ...,\n",
              " \n",
              "        [[ 0.,  0.,  1., ...,  1.,  0.,  0.],\n",
              "         [ 0.,  0., 13., ...,  2.,  1.,  0.],\n",
              "         [ 0.,  0., 16., ..., 16.,  5.,  0.],\n",
              "         ...,\n",
              "         [ 0.,  0., 16., ..., 15.,  0.,  0.],\n",
              "         [ 0.,  0., 15., ..., 16.,  0.,  0.],\n",
              "         [ 0.,  0.,  2., ...,  6.,  0.,  0.]],\n",
              " \n",
              "        [[ 0.,  0.,  2., ...,  0.,  0.,  0.],\n",
              "         [ 0.,  0., 14., ..., 15.,  1.,  0.],\n",
              "         [ 0.,  4., 16., ..., 16.,  7.,  0.],\n",
              "         ...,\n",
              "         [ 0.,  0.,  0., ..., 16.,  2.,  0.],\n",
              "         [ 0.,  0.,  4., ..., 16.,  2.,  0.],\n",
              "         [ 0.,  0.,  5., ..., 12.,  0.,  0.]],\n",
              " \n",
              "        [[ 0.,  0., 10., ...,  1.,  0.,  0.],\n",
              "         [ 0.,  2., 16., ...,  1.,  0.,  0.],\n",
              "         [ 0.,  0., 15., ..., 15.,  0.,  0.],\n",
              "         ...,\n",
              "         [ 0.,  4., 16., ..., 16.,  6.,  0.],\n",
              "         [ 0.,  8., 16., ..., 16.,  8.,  0.],\n",
              "         [ 0.,  1.,  8., ..., 12.,  1.,  0.]]]),\n",
              " 'target': array([0, 1, 2, ..., 8, 9, 8]),\n",
              " 'target_names': array([0, 1, 2, 3, 4, 5, 6, 7, 8, 9])}"
            ]
          },
          "metadata": {
            "tags": []
          },
          "execution_count": 4
        }
      ]
    },
    {
      "metadata": {
        "id": "v0TGG3T_gTf1",
        "colab_type": "code",
        "outputId": "2fbfc490-cf38-47c7-ec47-180a6815e6d2",
        "colab": {
          "base_uri": "https://localhost:8080/",
          "height": 153
        }
      },
      "cell_type": "code",
      "source": [
        "X=data.data \n",
        "Y=data.target \n",
        "print(X)\n",
        "print(Y)"
      ],
      "execution_count": 5,
      "outputs": [
        {
          "output_type": "stream",
          "text": [
            "[[ 0.  0.  5. ...  0.  0.  0.]\n",
            " [ 0.  0.  0. ... 10.  0.  0.]\n",
            " [ 0.  0.  0. ... 16.  9.  0.]\n",
            " ...\n",
            " [ 0.  0.  1. ...  6.  0.  0.]\n",
            " [ 0.  0.  2. ... 12.  0.  0.]\n",
            " [ 0.  0. 10. ... 12.  1.  0.]]\n",
            "[0 1 2 ... 8 9 8]\n"
          ],
          "name": "stdout"
        }
      ]
    },
    {
      "metadata": {
        "id": "8DV7VPFQq7Sv",
        "colab_type": "text"
      },
      "cell_type": "markdown",
      "source": [
        "# ***2. Pass n_clusters as 10 to form ten clusters. Use fit_predict() function to fit and predict your data - ***"
      ]
    },
    {
      "metadata": {
        "id": "eA_rBR5GrQ0j",
        "colab_type": "code",
        "colab": {}
      },
      "cell_type": "code",
      "source": [
        "from sklearn.cluster import KMeans "
      ],
      "execution_count": 0,
      "outputs": []
    },
    {
      "metadata": {
        "id": "HWe-87aZct8L",
        "colab_type": "code",
        "colab": {}
      },
      "cell_type": "code",
      "source": [
        "clust=KMeans(n_clusters=10)\n",
        "predict=clust.fit_predict(X)"
      ],
      "execution_count": 0,
      "outputs": []
    },
    {
      "metadata": {
        "id": "O3ojGdypfJlF",
        "colab_type": "code",
        "colab": {
          "base_uri": "https://localhost:8080/",
          "height": 34
        },
        "outputId": "8987b3a9-6ab8-480d-f503-87ce032d73ca"
      },
      "cell_type": "code",
      "source": [
        "print(predict)"
      ],
      "execution_count": 13,
      "outputs": [
        {
          "output_type": "stream",
          "text": [
            "[4 2 2 ... 2 1 1]\n"
          ],
          "name": "stdout"
        }
      ]
    },
    {
      "metadata": {
        "id": "N_D1F7GxdevT",
        "colab_type": "code",
        "colab": {
          "base_uri": "https://localhost:8080/",
          "height": 34
        },
        "outputId": "3fc0ac64-b9a6-4590-f18f-be7a2c2e1601"
      },
      "cell_type": "code",
      "source": [
        "print(clust.labels_)"
      ],
      "execution_count": 11,
      "outputs": [
        {
          "output_type": "stream",
          "text": [
            "[4 2 2 ... 2 1 1]\n"
          ],
          "name": "stdout"
        }
      ]
    },
    {
      "metadata": {
        "id": "Qn5AqFmEdiBm",
        "colab_type": "code",
        "colab": {
          "base_uri": "https://localhost:8080/",
          "height": 2737
        },
        "outputId": "fadf50ed-fad8-40fb-d47b-4b9621167779"
      },
      "cell_type": "code",
      "source": [
        "print(clust.cluster_centers_)"
      ],
      "execution_count": 12,
      "outputs": [
        {
          "output_type": "stream",
          "text": [
            "[[ 0.00000000e+00  2.77555756e-16  3.29670330e-02  1.87912088e+00\n",
            "   1.10109890e+01  1.27472527e+01  4.30769231e+00  2.63736264e-01\n",
            "   1.73472348e-18  5.49450549e-02  2.00000000e+00  8.97802198e+00\n",
            "   1.37802198e+01  1.26923077e+01  5.29670330e+00  2.52747253e-01\n",
            "   8.67361738e-19  1.60439560e+00  8.79120879e+00  1.23736264e+01\n",
            "   1.20439560e+01  1.30329670e+01  3.91208791e+00  8.79120879e-02\n",
            "  -1.30104261e-18  3.61538462e+00  1.19560440e+01  1.17692308e+01\n",
            "   1.30989011e+01  1.35494505e+01  2.43956044e+00 -2.60208521e-18\n",
            "   0.00000000e+00  1.80219780e+00  6.68131868e+00  7.35164835e+00\n",
            "   1.17802198e+01  1.25274725e+01  1.82417582e+00  0.00000000e+00\n",
            "  -1.04083409e-17  8.02197802e-01  2.00000000e+00  3.74725275e+00\n",
            "   1.17582418e+01  1.18461538e+01  1.17582418e+00 -1.73472348e-17\n",
            "  -5.20417043e-18  6.59340659e-02  3.18681319e-01  3.08791209e+00\n",
            "   1.25714286e+01  1.15274725e+01  1.69230769e+00  5.55111512e-17\n",
            "  -6.50521303e-19  5.55111512e-16  5.32907052e-15  1.98901099e+00\n",
            "   1.13406593e+01  1.06483516e+01  1.72527473e+00 -3.33066907e-16]\n",
            " [ 0.00000000e+00  1.92468619e-01  6.51464435e+00  1.25564854e+01\n",
            "   1.18744770e+01  5.76150628e+00  6.90376569e-01  8.36820084e-03\n",
            "  -3.12250226e-17  2.57322176e+00  1.39874477e+01  9.25104603e+00\n",
            "   9.41841004e+00  1.04016736e+01  1.33891213e+00  4.18410042e-03\n",
            "  -1.56125113e-17  4.23849372e+00  1.29414226e+01  4.49790795e+00\n",
            "   6.82008368e+00  1.12259414e+01  1.93723849e+00 -1.31838984e-16\n",
            "  -1.73472348e-18  2.31380753e+00  1.05899582e+01  1.19539749e+01\n",
            "   1.31589958e+01  1.22887029e+01  2.53556485e+00 -3.46944695e-18\n",
            "   0.00000000e+00  3.13807531e-01  3.23849372e+00  6.05020921e+00\n",
            "   6.52301255e+00  1.15230126e+01  4.42677824e+00  0.00000000e+00\n",
            "  -1.38777878e-17  2.21757322e-01  2.25523013e+00  1.94142259e+00\n",
            "   1.55648536e+00  1.09163180e+01  6.58158996e+00  1.67364017e-02\n",
            "  -2.94902991e-17  7.74058577e-01  8.05857741e+00  5.66108787e+00\n",
            "   4.82845188e+00  1.22635983e+01  6.00836820e+00  9.62343096e-02\n",
            "  -8.67361738e-19  1.71548117e-01  6.41422594e+00  1.35481172e+01\n",
            "   1.45020921e+01  9.90794979e+00  2.25523013e+00  8.36820084e-02]\n",
            " [ 0.00000000e+00  1.10132159e-01  3.99118943e+00  1.18854626e+01\n",
            "   1.23215859e+01  5.37444934e+00  4.40528634e-01 -3.33066907e-16\n",
            "   8.81057269e-03  8.54625551e-01  8.31718062e+00  1.35330396e+01\n",
            "   1.25682819e+01  9.92951542e+00  1.58149780e+00  4.44089210e-16\n",
            "  -1.51788304e-17  1.22466960e+00  8.41409692e+00  1.17929515e+01\n",
            "   1.22202643e+01  9.51982379e+00  1.03964758e+00 -9.71445147e-17\n",
            "  -3.03576608e-18  9.42731278e-01  7.27312775e+00  1.40792952e+01\n",
            "   1.41718062e+01  4.97797357e+00  2.07048458e-01 -6.07153217e-18\n",
            "   0.00000000e+00  7.57709251e-01  7.92511013e+00  1.47797357e+01\n",
            "   1.29515419e+01  2.21145374e+00  1.76211454e-02  0.00000000e+00\n",
            "  -2.42861287e-17  1.22466960e+00  1.04317181e+01  1.19955947e+01\n",
            "   1.20616740e+01  4.16299559e+00  2.11453744e-01  3.81639165e-17\n",
            "   1.32158590e-02  8.67841410e-01  9.55506608e+00  1.15330396e+01\n",
            "   1.19911894e+01  5.69162996e+00  6.56387665e-01  4.40528634e-03\n",
            "   4.40528634e-03  1.10132159e-01  4.19823789e+00  1.20528634e+01\n",
            "   1.26211454e+01  4.87665198e+00  8.01762115e-01  8.81057269e-03]\n",
            " [ 0.00000000e+00 -9.99200722e-16  2.87425150e-01  7.03592814e+00\n",
            "   1.20000000e+01  1.95209581e+00  1.49700599e-01  5.38922156e-02\n",
            "  -2.25514052e-17  1.19760479e-02  3.20958084e+00  1.37185629e+01\n",
            "   8.56886228e+00  1.49101796e+00  9.70059880e-01  3.17365269e-01\n",
            "  -1.12757026e-17  6.22754491e-01  1.05868263e+01  1.16586826e+01\n",
            "   4.34131737e+00  5.18562874e+00  3.91017964e+00  3.53293413e-01\n",
            "   5.98802395e-03  4.70059880e+00  1.47365269e+01  5.95808383e+00\n",
            "   6.82035928e+00  1.07904192e+01  6.27544910e+00  1.79640719e-02\n",
            "   0.00000000e+00  8.91616766e+00  1.48263473e+01  9.38323353e+00\n",
            "   1.28023952e+01  1.44071856e+01  5.46706587e+00  0.00000000e+00\n",
            "   9.58083832e-02  6.42514970e+00  1.15508982e+01  1.22335329e+01\n",
            "   1.47784431e+01  1.08622754e+01  1.58682635e+00 -4.16333634e-17\n",
            "   5.98802395e-02  1.10778443e+00  2.96407186e+00  7.63473054e+00\n",
            "   1.40598802e+01  4.28742515e+00  1.79640719e-02 -4.71844785e-16\n",
            "  -1.40946282e-18  2.39520958e-02  3.47305389e-01  7.83233533e+00\n",
            "   1.24011976e+01  1.84431138e+00 -5.77315973e-15 -6.66133815e-16]\n",
            " [ 0.00000000e+00  2.23463687e-02  4.22905028e+00  1.31396648e+01\n",
            "   1.12681564e+01  2.93854749e+00  3.35195531e-02 -2.77555756e-16\n",
            "  -2.51534904e-17  8.82681564e-01  1.26201117e+01  1.33687151e+01\n",
            "   1.14078212e+01  1.13687151e+01  9.60893855e-01  3.60822483e-16\n",
            "  -1.25767452e-17  3.72625698e+00  1.42122905e+01  5.25139665e+00\n",
            "   2.10614525e+00  1.21173184e+01  3.53072626e+00  5.55111512e-17\n",
            "  -2.81892565e-18  5.29608939e+00  1.26424581e+01  2.03351955e+00\n",
            "   2.29050279e-01  9.07821229e+00  6.47486034e+00 -5.63785130e-18\n",
            "   0.00000000e+00  5.88268156e+00  1.14916201e+01  8.65921788e-01\n",
            "   3.35195531e-02  8.81005587e+00  7.15083799e+00  0.00000000e+00\n",
            "  -2.25514052e-17  3.51396648e+00  1.32849162e+01  1.65921788e+00\n",
            "   1.49162011e+00  1.13519553e+01  5.84357542e+00 -2.08166817e-17\n",
            "  -2.42861287e-17  8.04469274e-01  1.31117318e+01  9.96089385e+00\n",
            "   1.03519553e+01  1.32960894e+01  2.47486034e+00  2.23463687e-02\n",
            "  -1.40946282e-18  5.58659218e-03  4.19553073e+00  1.35865922e+01\n",
            "   1.33407821e+01  5.48044693e+00  3.18435754e-01  1.67597765e-02]\n",
            " [ 0.00000000e+00  5.90163934e-01  8.65573770e+00  1.44754098e+01\n",
            "   1.39344262e+01  6.89617486e+00  5.51912568e-01 -3.05311332e-16\n",
            "   1.63934426e-02  4.20218579e+00  1.26557377e+01  9.03825137e+00\n",
            "   1.11693989e+01  1.19289617e+01  1.82513661e+00  1.09289617e-02\n",
            "   5.46448087e-03  2.03825137e+00  3.78688525e+00  3.51912568e+00\n",
            "   1.17431694e+01  9.86338798e+00  8.52459016e-01  4.16333634e-17\n",
            "  -3.03576608e-18  1.25683060e-01  1.09289617e+00  8.25136612e+00\n",
            "   1.38688525e+01  6.74863388e+00  3.22404372e-01 -6.07153217e-18\n",
            "   0.00000000e+00  6.01092896e-02  7.21311475e-01  4.68852459e+00\n",
            "   1.18251366e+01  1.20491803e+01  2.24043716e+00  0.00000000e+00\n",
            "  -2.42861287e-17  4.42622951e-01  1.54098361e+00  7.26775956e-01\n",
            "   4.16939891e+00  1.23879781e+01  6.20218579e+00  5.46448087e-03\n",
            "  -2.42861287e-17  9.12568306e-01  7.38797814e+00  6.53551913e+00\n",
            "   8.38797814e+00  1.35901639e+01  6.06557377e+00  1.96721311e-01\n",
            "  -1.51788304e-18  4.64480874e-01  9.44262295e+00  1.48251366e+01\n",
            "   1.41256831e+01  8.94535519e+00  1.94535519e+00  4.48087432e-01]\n",
            " [ 0.00000000e+00 -1.16573418e-15  1.15934066e+00  1.12252747e+01\n",
            "   9.53296703e+00  1.41758242e+00  5.49450549e-03 -3.05311332e-16\n",
            "  -2.51534904e-17  6.04395604e-02  7.18131868e+00  1.45604396e+01\n",
            "   6.19230769e+00  8.29670330e-01  2.74725275e-02  3.74700271e-16\n",
            "  -1.25767452e-17  7.69230769e-01  1.24560440e+01  9.47252747e+00\n",
            "   9.34065934e-01  1.09890110e-01  0.00000000e+00  4.16333634e-17\n",
            "  -3.03576608e-18  2.29670330e+00  1.36208791e+01  8.09340659e+00\n",
            "   3.87362637e+00  1.92857143e+00  1.04395604e-01 -6.07153217e-18\n",
            "   0.00000000e+00  3.52747253e+00  1.46758242e+01  1.29175824e+01\n",
            "   1.22527473e+01  1.02857143e+01  2.71978022e+00  0.00000000e+00\n",
            "  -2.42861287e-17  1.86813187e+00  1.45164835e+01  1.06538462e+01\n",
            "   5.57692308e+00  1.01923077e+01  9.13186813e+00  2.30769231e-01\n",
            "  -2.42861287e-17  1.75824176e-01  1.02857143e+01  1.26263736e+01\n",
            "   5.41758242e+00  1.13241758e+01  1.08956044e+01  6.26373626e-01\n",
            "  -1.51788304e-18 -6.10622664e-16  1.44505495e+00  1.07362637e+01\n",
            "   1.50989011e+01  1.31318681e+01  4.62087912e+00  1.70329670e-01]\n",
            " [ 0.00000000e+00  1.62561576e-01  4.94581281e+00  1.29950739e+01\n",
            "   1.40640394e+01  1.08669951e+01  4.92610837e+00  9.45812808e-01\n",
            "  -2.77555756e-17  1.11822660e+00  1.06896552e+01  1.14926108e+01\n",
            "   1.03743842e+01  1.25172414e+01  5.44334975e+00  5.41871921e-01\n",
            "  -1.38777878e-17  1.15763547e+00  5.45812808e+00  2.31527094e+00\n",
            "   6.88669951e+00  1.15270936e+01  3.35960591e+00  1.13300493e-01\n",
            "  -3.03576608e-18  9.75369458e-01  4.99507389e+00  6.48275862e+00\n",
            "   1.22118227e+01  1.20985222e+01  4.80788177e+00  4.92610837e-03\n",
            "   0.00000000e+00  1.47783251e+00  8.71428571e+00  1.30788177e+01\n",
            "   1.46847291e+01  1.06995074e+01  3.97536946e+00  0.00000000e+00\n",
            "  -2.42861287e-17  1.13300493e+00  5.21182266e+00  1.15862069e+01\n",
            "   1.10492611e+01  3.58128079e+00  5.41871921e-01  1.04083409e-17\n",
            "  -2.68882139e-17  1.03448276e-01  3.03448276e+00  1.23546798e+01\n",
            "   6.25123153e+00  3.54679803e-01  9.85221675e-03 -5.82867088e-16\n",
            "  -1.51788304e-18  1.28078818e-01  6.20197044e+00  1.20443350e+01\n",
            "   2.49753695e+00  2.70935961e-01  3.44827586e-02 -7.21644966e-16]\n",
            " [ 0.00000000e+00  9.37500000e-01  1.01420455e+01  1.44204545e+01\n",
            "   7.79545455e+00  9.82954545e-01 -1.33226763e-15 -2.77555756e-16\n",
            "   2.27272727e-02  5.22159091e+00  1.37215909e+01  1.26022727e+01\n",
            "   1.16761364e+01  3.26136364e+00  1.70454545e-02  3.60822483e-16\n",
            "   1.13636364e-02  4.59090909e+00  8.13636364e+00  6.10227273e+00\n",
            "   1.21647727e+01  3.57386364e+00  1.70454545e-02  6.93889390e-17\n",
            "  -2.81892565e-18  9.94318182e-01  2.82954545e+00  6.97727273e+00\n",
            "   1.25397727e+01  2.55681818e+00  3.97727273e-02 -5.63785130e-18\n",
            "   0.00000000e+00  4.54545455e-02  1.56250000e+00  9.89772727e+00\n",
            "   1.06875000e+01  1.44318182e+00 -7.10542736e-15  0.00000000e+00\n",
            "  -2.25514052e-17  2.50000000e-01  4.43181818e+00  1.11875000e+01\n",
            "   7.75568182e+00  2.40909091e+00  8.46590909e-01  1.13636364e-02\n",
            "  -2.34187669e-17  1.18750000e+00  1.09659091e+01  1.36931818e+01\n",
            "   1.18579545e+01  1.11647727e+01  7.65909091e+00  1.09659091e+00\n",
            "  -1.40946282e-18  9.26136364e-01  1.03352273e+01  1.44545455e+01\n",
            "   1.35170455e+01  1.23750000e+01  8.94318182e+00  2.93750000e+00]\n",
            " [ 0.00000000e+00  1.10000000e+00  9.98666667e+00  1.33600000e+01\n",
            "   1.41400000e+01  1.25466667e+01  4.38666667e+00  4.00000000e-02\n",
            "   6.66666667e-03  4.55333333e+00  1.49400000e+01  1.25866667e+01\n",
            "   8.72666667e+00  7.09333333e+00  2.50666667e+00  3.33333333e-02\n",
            "   1.33333333e-02  6.07333333e+00  1.45400000e+01  5.92666667e+00\n",
            "   1.96666667e+00  1.12666667e+00  2.20000000e-01  1.38777878e-16\n",
            "   6.66666667e-03  5.30000000e+00  1.43466667e+01  1.22800000e+01\n",
            "   7.84000000e+00  2.34000000e+00  1.46666667e-01 -5.20417043e-18\n",
            "   0.00000000e+00  1.93333333e+00  8.11333333e+00  1.00266667e+01\n",
            "   1.02733333e+01  5.54000000e+00  6.33333333e-01  0.00000000e+00\n",
            "  -2.08166817e-17  3.00000000e-01  1.38666667e+00  4.85333333e+00\n",
            "   9.90666667e+00  7.00000000e+00  7.73333333e-01 -7.63278329e-17\n",
            "  -1.99493200e-17  8.00000000e-01  5.02666667e+00  9.46666667e+00\n",
            "   1.21533333e+01  5.24000000e+00  4.40000000e-01 -3.88578059e-16\n",
            "  -1.30104261e-18  1.04666667e+00  1.08200000e+01  1.44866667e+01\n",
            "   7.86666667e+00  1.08000000e+00  2.00000000e-02 -6.10622664e-16]]\n"
          ],
          "name": "stdout"
        }
      ]
    },
    {
      "metadata": {
        "id": "Sr5T3t8Ne6J-",
        "colab_type": "text"
      },
      "cell_type": "markdown",
      "source": [
        "# ***3. matching each learned cluster label with true labels found in them - ***"
      ]
    },
    {
      "metadata": {
        "id": "Fv_J-9thg0eK",
        "colab_type": "code",
        "colab": {}
      },
      "cell_type": "code",
      "source": [
        "from scipy.stats import mode "
      ],
      "execution_count": 0,
      "outputs": []
    },
    {
      "metadata": {
        "id": "GKpOFPeSe7-E",
        "colab_type": "code",
        "colab": {
          "base_uri": "https://localhost:8080/",
          "height": 187
        },
        "outputId": "4631bcd9-bcbd-465d-d473-dc7f48e4f704"
      },
      "cell_type": "code",
      "source": [
        "labels=np.zeros_like(predict)\n",
        "# zeros_like(predict)  -- It will return an array with full of zeros of size as same as predict. \n",
        "for i in range(10):\n",
        "  mask=(predict==i)\n",
        "  print(mask)\n",
        "  labels[mask]=mode(Y[mask])[0]"
      ],
      "execution_count": 18,
      "outputs": [
        {
          "output_type": "stream",
          "text": [
            "[False False False ... False False False]\n",
            "[False False False ... False  True  True]\n",
            "[False  True  True ...  True False False]\n",
            "[False False False ... False False False]\n",
            "[ True False False ... False False False]\n",
            "[False False False ... False False False]\n",
            "[False False False ... False False False]\n",
            "[False False False ... False False False]\n",
            "[False False False ... False False False]\n",
            "[False False False ... False False False]\n"
          ],
          "name": "stdout"
        }
      ]
    },
    {
      "metadata": {
        "id": "GfdomhxJhHiV",
        "colab_type": "text"
      },
      "cell_type": "markdown",
      "source": [
        "# ***4. accuracy score and confusion matrix - ***"
      ]
    },
    {
      "metadata": {
        "id": "QbcaYg5OhMID",
        "colab_type": "code",
        "colab": {
          "base_uri": "https://localhost:8080/",
          "height": 34
        },
        "outputId": "80bc31a2-b166-4463-be13-92e26cf57444"
      },
      "cell_type": "code",
      "source": [
        "# Printing Accuracy Score \n",
        "from sklearn import metrics \n",
        "print(\"Accuracy Score:\",metrics.accuracy_score(Y,labels))"
      ],
      "execution_count": 20,
      "outputs": [
        {
          "output_type": "stream",
          "text": [
            "Accuracy Score: 0.7952142459654981\n"
          ],
          "name": "stdout"
        }
      ]
    },
    {
      "metadata": {
        "id": "bQwYwd77hi5X",
        "colab_type": "code",
        "colab": {
          "base_uri": "https://localhost:8080/",
          "height": 204
        },
        "outputId": "8278fcb4-8f04-4484-82f7-e266eb95efed"
      },
      "cell_type": "code",
      "source": [
        "# Printing confusion matrix \n",
        "print(\"Confusion Matrix:\")\n",
        "metrics.confusion_matrix(Y,labels)"
      ],
      "execution_count": 21,
      "outputs": [
        {
          "output_type": "stream",
          "text": [
            "Confusion Matrix:\n"
          ],
          "name": "stdout"
        },
        {
          "output_type": "execute_result",
          "data": {
            "text/plain": [
              "array([[177,   0,   0,   0,   1,   0,   0,   0,   0,   0],\n",
              "       [  0,  55,  24,   1,   0,   1,   2,   0,  99,   0],\n",
              "       [  1,   2, 148,  13,   0,   0,   0,   3,   8,   2],\n",
              "       [  0,   0,   1, 157,   0,   2,   0,   7,   7,   9],\n",
              "       [  0,   5,   0,   0, 164,   0,   0,   8,   4,   0],\n",
              "       [  0,   0,   0,   1,   2, 136,   1,   0,   0,  42],\n",
              "       [  1,   1,   0,   0,   0,   0, 177,   0,   2,   0],\n",
              "       [  0,   2,   0,   0,   0,   1,   0, 174,   2,   0],\n",
              "       [  0,   6,   3,   4,   0,   4,   2,   4, 103,  48],\n",
              "       [  0,  20,   0,   7,   0,   6,   0,   7,   2, 138]])"
            ]
          },
          "metadata": {
            "tags": []
          },
          "execution_count": 21
        }
      ]
    },
    {
      "metadata": {
        "id": "jXqnAPgwhzja",
        "colab_type": "text"
      },
      "cell_type": "markdown",
      "source": [
        "# ***5. Import any one image - ***"
      ]
    },
    {
      "metadata": {
        "id": "NPzWxeIZh2jW",
        "colab_type": "code",
        "colab": {}
      },
      "cell_type": "code",
      "source": [
        "from sklearn.datasets import load_sample_image "
      ],
      "execution_count": 0,
      "outputs": []
    },
    {
      "metadata": {
        "id": "aWyhE2D8h6KD",
        "colab_type": "code",
        "colab": {
          "base_uri": "https://localhost:8080/",
          "height": 850
        },
        "outputId": "42a00938-a4a0-4f42-f10c-21e8900aafd6"
      },
      "cell_type": "code",
      "source": [
        "data=load_sample_image('china.jpg')\n",
        "data"
      ],
      "execution_count": 28,
      "outputs": [
        {
          "output_type": "execute_result",
          "data": {
            "text/plain": [
              "array([[[174, 201, 231],\n",
              "        [174, 201, 231],\n",
              "        [174, 201, 231],\n",
              "        ...,\n",
              "        [250, 251, 255],\n",
              "        [250, 251, 255],\n",
              "        [250, 251, 255]],\n",
              "\n",
              "       [[172, 199, 229],\n",
              "        [173, 200, 230],\n",
              "        [173, 200, 230],\n",
              "        ...,\n",
              "        [251, 252, 255],\n",
              "        [251, 252, 255],\n",
              "        [251, 252, 255]],\n",
              "\n",
              "       [[174, 201, 231],\n",
              "        [174, 201, 231],\n",
              "        [174, 201, 231],\n",
              "        ...,\n",
              "        [252, 253, 255],\n",
              "        [252, 253, 255],\n",
              "        [252, 253, 255]],\n",
              "\n",
              "       ...,\n",
              "\n",
              "       [[ 88,  80,   7],\n",
              "        [147, 138,  69],\n",
              "        [122, 116,  38],\n",
              "        ...,\n",
              "        [ 39,  42,  33],\n",
              "        [  8,  14,   2],\n",
              "        [  6,  12,   0]],\n",
              "\n",
              "       [[122, 112,  41],\n",
              "        [129, 120,  53],\n",
              "        [118, 112,  36],\n",
              "        ...,\n",
              "        [  9,  12,   3],\n",
              "        [  9,  15,   3],\n",
              "        [ 16,  24,   9]],\n",
              "\n",
              "       [[116, 103,  35],\n",
              "        [104,  93,  31],\n",
              "        [108, 102,  28],\n",
              "        ...,\n",
              "        [ 43,  49,  39],\n",
              "        [ 13,  21,   6],\n",
              "        [ 15,  24,   7]]], dtype=uint8)"
            ]
          },
          "metadata": {
            "tags": []
          },
          "execution_count": 28
        }
      ]
    },
    {
      "metadata": {
        "id": "VKkPgf9PiIKY",
        "colab_type": "text"
      },
      "cell_type": "markdown",
      "source": [
        "# ***6. shape of the image - ***"
      ]
    },
    {
      "metadata": {
        "id": "yl6M-RQOiJvP",
        "colab_type": "code",
        "colab": {
          "base_uri": "https://localhost:8080/",
          "height": 34
        },
        "outputId": "c8633503-c50b-48d6-c984-36dba9bd4139"
      },
      "cell_type": "code",
      "source": [
        "print(\"Shape of image:\",data.shape)\n",
        "# shape returns a tuple of number of rows, columns and channels (if image is color)"
      ],
      "execution_count": 29,
      "outputs": [
        {
          "output_type": "stream",
          "text": [
            "Shape of image: (427, 640, 3)\n"
          ],
          "name": "stdout"
        }
      ]
    },
    {
      "metadata": {
        "id": "bnPqqYxqioDR",
        "colab_type": "text"
      },
      "cell_type": "markdown",
      "source": [
        "**Note - **\n",
        "\n",
        "1.   Number of rows=427,Number of columns=640,channels=3\n",
        "\n"
      ]
    },
    {
      "metadata": {
        "id": "ePt05T6rlBE5",
        "colab_type": "text"
      },
      "cell_type": "markdown",
      "source": [
        "# ***7. Applying KMeans clustering after reshaping the data - ***"
      ]
    },
    {
      "metadata": {
        "id": "55xUN0LclLUv",
        "colab_type": "code",
        "colab": {
          "base_uri": "https://localhost:8080/",
          "height": 34
        },
        "outputId": "c5b52e4c-d604-4077-a51e-3569cc71fa15"
      },
      "cell_type": "code",
      "source": [
        "l,h,w=data.shape \n",
        "data_arr=np.reshape(data,(l*h,w))\n",
        "print(\"New shape of data:\",data_arr.shape)"
      ],
      "execution_count": 30,
      "outputs": [
        {
          "output_type": "stream",
          "text": [
            "New shape of data: (273280, 3)\n"
          ],
          "name": "stdout"
        }
      ]
    },
    {
      "metadata": {
        "id": "WWbvuvnjlcZw",
        "colab_type": "code",
        "colab": {}
      },
      "cell_type": "code",
      "source": [
        "model1=KMeans(n_clusters=7)\n",
        "model1.fit(data_arr)\n",
        "pltlabels1=model1.predict(data_arr)"
      ],
      "execution_count": 0,
      "outputs": []
    },
    {
      "metadata": {
        "id": "O0j-zC6Fm7Aq",
        "colab_type": "code",
        "colab": {
          "base_uri": "https://localhost:8080/",
          "height": 34
        },
        "outputId": "3a1b78d0-7c7b-460b-9772-ce904fc91cab"
      },
      "cell_type": "code",
      "source": [
        "print(labels1)"
      ],
      "execution_count": 34,
      "outputs": [
        {
          "output_type": "stream",
          "text": [
            "[5 5 5 ... 1 3 3]\n"
          ],
          "name": "stdout"
        }
      ]
    },
    {
      "metadata": {
        "id": "8bg4D2gzm9gO",
        "colab_type": "code",
        "colab": {
          "base_uri": "https://localhost:8080/",
          "height": 34
        },
        "outputId": "a0ec4149-27ce-458d-82d4-2b4fc94ec728"
      },
      "cell_type": "code",
      "source": [
        "print(labels1.shape)"
      ],
      "execution_count": 35,
      "outputs": [
        {
          "output_type": "stream",
          "text": [
            "(273280,)\n"
          ],
          "name": "stdout"
        }
      ]
    },
    {
      "metadata": {
        "id": "HxcWCnm8oBcF",
        "colab_type": "code",
        "colab": {}
      },
      "cell_type": "code",
      "source": [
        "import matplotlib.pyplot as plt "
      ],
      "execution_count": 0,
      "outputs": []
    },
    {
      "metadata": {
        "id": "8R62LXk5n049",
        "colab_type": "code",
        "colab": {
          "base_uri": "https://localhost:8080/",
          "height": 286
        },
        "outputId": "9ef3b24c-3f15-44b0-c48c-e8204fa31d70"
      },
      "cell_type": "code",
      "source": [
        "ima=np.reshape(labels1,(427, 640))\n",
        "plt.imshow(ima)"
      ],
      "execution_count": 44,
      "outputs": [
        {
          "output_type": "execute_result",
          "data": {
            "text/plain": [
              "<matplotlib.image.AxesImage at 0x7fb5b958a710>"
            ]
          },
          "metadata": {
            "tags": []
          },
          "execution_count": 44
        },
        {
          "output_type": "display_data",
          "data": {
            "image/png": "[encoded data removed]",
            "text/plain": [
              "<Figure size 432x288 with 1 Axes>"
            ]
          },
          "metadata": {
            "tags": []
          }
        }
      ]
    },
    {
      "metadata": {
        "id": "JX9SXwp-ocD-",
        "colab_type": "code",
        "colab": {
          "base_uri": "https://localhost:8080/",
          "height": 286
        },
        "outputId": "b398e6f2-5066-48da-8dbb-208b25385623"
      },
      "cell_type": "code",
      "source": [
        "ima1=np.reshape(labels1,(640,427))\n",
        "plt.imshow(ima1)"
      ],
      "execution_count": 46,
      "outputs": [
        {
          "output_type": "execute_result",
          "data": {
            "text/plain": [
              "<matplotlib.image.AxesImage at 0x7fb5b94c0b70>"
            ]
          },
          "metadata": {
            "tags": []
          },
          "execution_count": 46
        },
        {
          "output_type": "display_data",
          "data": {
            "image/png": "[encoded data removed]",
            "text/plain": [
              "<Figure size 432x288 with 1 Axes>"
            ]
          },
          "metadata": {
            "tags": []
          }
        }
      ]
    }
  ]
}