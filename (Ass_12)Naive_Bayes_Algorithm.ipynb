{
  "nbformat": 4,
  "nbformat_minor": 0,
  "metadata": {
    "colab": {
      "name": "(Ass-12)Naive Bayes Algorithm.ipynb",
      "version": "0.3.2",
      "provenance": [],
      "collapsed_sections": [],
      "include_colab_link": true
    },
    "kernelspec": {
      "name": "python3",
      "display_name": "Python 3"
    }
  },
  "cells": [
    {
      "cell_type": "markdown",
      "metadata": {
        "id": "view-in-github",
        "colab_type": "text"
      },
      "source": [
        "<a href=\"https://colab.research.google.com/github/Ishikaaa/Machine-Learning-Assignments/blob/master/(Ass_12)Naive_Bayes_Algorithm.ipynb\" target=\"_parent\"><img src=\"https://colab.research.google.com/assets/colab-badge.svg\" alt=\"Open In Colab\"/></a>"
      ]
    },
    {
      "metadata": {
        "id": "SZhriDP8lzeE",
        "colab_type": "text"
      },
      "cell_type": "markdown",
      "source": [
        "# ***1. What is the probability of a person playing when the weather is sunny? Find P(Yes|Sunny) - ***\n",
        "\n",
        "\n",
        "\n"
      ]
    },
    {
      "metadata": {
        "id": "kXmGjNr4iQNY",
        "colab_type": "code",
        "colab": {}
      },
      "cell_type": "code",
      "source": [
        "# Weather\t   Play\n",
        "# Sunny\t     No\n",
        "# Overcast\t Yes\n",
        "# Rainy\t     Yes\n",
        "# Sunny\t     Yes\n",
        "# Sunny\t     Yes\n",
        "# Overcast\t Yes\n",
        "# Rainy\t     No\n",
        "# Rainy\t     No\n",
        "# Sunny\t     Yes\n",
        "# Rainy\t     Yes\n",
        "# Sunny\t     No\n",
        "# Overcast\t Yes\n",
        "# Overcast\t Yes\n",
        "# Rainy\t     No\n",
        "\n",
        "P(Yes/Sunny)=3/5"
      ],
      "execution_count": 0,
      "outputs": []
    },
    {
      "metadata": {
        "id": "hS-_ebdHmzI4",
        "colab_type": "text"
      },
      "cell_type": "markdown",
      "source": [
        "# ***2. Solve following:***"
      ]
    },
    {
      "metadata": {
        "id": "0b0UmBAyn5B9",
        "colab_type": "text"
      },
      "cell_type": "markdown",
      "source": [
        "***a. Import iris dataset from sklearn - ***"
      ]
    },
    {
      "metadata": {
        "id": "CF_5oHuKF9AN",
        "colab_type": "code",
        "colab": {}
      },
      "cell_type": "code",
      "source": [
        "import pandas as pd \n",
        "import numpy as np "
      ],
      "execution_count": 0,
      "outputs": []
    },
    {
      "metadata": {
        "id": "45Tq40kaIpHq",
        "colab_type": "code",
        "colab": {}
      },
      "cell_type": "code",
      "source": [
        "from sklearn import datasets \n",
        "iris=datasets.load_iris()\n",
        "x=iris.data\n",
        "y=iris.target"
      ],
      "execution_count": 0,
      "outputs": []
    },
    {
      "metadata": {
        "id": "EHxbkzR-I99m",
        "colab_type": "text"
      },
      "cell_type": "markdown",
      "source": [
        "# ***2. Split the dataset into training and testing sets -***"
      ]
    },
    {
      "metadata": {
        "id": "yob8vboCIzHW",
        "colab_type": "code",
        "colab": {
          "base_uri": "https://localhost:8080/",
          "height": 2652
        },
        "outputId": "54135b5f-95a8-4f75-81f4-8d30f6c1fadf"
      },
      "cell_type": "code",
      "source": [
        "from sklearn.model_selection import train_test_split \n",
        "X_train,X_test,Y_train,Y_test=train_test_split(x,y,test_size=0.25,random_state=0)\n",
        "X_train,X_test,Y_train,Y_test"
      ],
      "execution_count": 5,
      "outputs": [
        {
          "output_type": "execute_result",
          "data": {
            "text/plain": [
              "(array([[5.9, 3. , 4.2, 1.5],\n",
              "        [5.8, 2.6, 4. , 1.2],\n",
              "        [6.8, 3. , 5.5, 2.1],\n",
              "        [4.7, 3.2, 1.3, 0.2],\n",
              "        [6.9, 3.1, 5.1, 2.3],\n",
              "        [5. , 3.5, 1.6, 0.6],\n",
              "        [5.4, 3.7, 1.5, 0.2],\n",
              "        [5. , 2. , 3.5, 1. ],\n",
              "        [6.5, 3. , 5.5, 1.8],\n",
              "        [6.7, 3.3, 5.7, 2.5],\n",
              "        [6. , 2.2, 5. , 1.5],\n",
              "        [6.7, 2.5, 5.8, 1.8],\n",
              "        [5.6, 2.5, 3.9, 1.1],\n",
              "        [7.7, 3. , 6.1, 2.3],\n",
              "        [6.3, 3.3, 4.7, 1.6],\n",
              "        [5.5, 2.4, 3.8, 1.1],\n",
              "        [6.3, 2.7, 4.9, 1.8],\n",
              "        [6.3, 2.8, 5.1, 1.5],\n",
              "        [4.9, 2.5, 4.5, 1.7],\n",
              "        [6.3, 2.5, 5. , 1.9],\n",
              "        [7. , 3.2, 4.7, 1.4],\n",
              "        [6.5, 3. , 5.2, 2. ],\n",
              "        [6. , 3.4, 4.5, 1.6],\n",
              "        [4.8, 3.1, 1.6, 0.2],\n",
              "        [5.8, 2.7, 5.1, 1.9],\n",
              "        [5.6, 2.7, 4.2, 1.3],\n",
              "        [5.6, 2.9, 3.6, 1.3],\n",
              "        [5.5, 2.5, 4. , 1.3],\n",
              "        [6.1, 3. , 4.6, 1.4],\n",
              "        [7.2, 3.2, 6. , 1.8],\n",
              "        [5.3, 3.7, 1.5, 0.2],\n",
              "        [4.3, 3. , 1.1, 0.1],\n",
              "        [6.4, 2.7, 5.3, 1.9],\n",
              "        [5.7, 3. , 4.2, 1.2],\n",
              "        [5.4, 3.4, 1.7, 0.2],\n",
              "        [5.7, 4.4, 1.5, 0.4],\n",
              "        [6.9, 3.1, 4.9, 1.5],\n",
              "        [4.6, 3.1, 1.5, 0.2],\n",
              "        [5.9, 3. , 5.1, 1.8],\n",
              "        [5.1, 2.5, 3. , 1.1],\n",
              "        [4.6, 3.4, 1.4, 0.3],\n",
              "        [6.2, 2.2, 4.5, 1.5],\n",
              "        [7.2, 3.6, 6.1, 2.5],\n",
              "        [5.7, 2.9, 4.2, 1.3],\n",
              "        [4.8, 3. , 1.4, 0.1],\n",
              "        [7.1, 3. , 5.9, 2.1],\n",
              "        [6.9, 3.2, 5.7, 2.3],\n",
              "        [6.5, 3. , 5.8, 2.2],\n",
              "        [6.4, 2.8, 5.6, 2.1],\n",
              "        [5.1, 3.8, 1.6, 0.2],\n",
              "        [4.8, 3.4, 1.6, 0.2],\n",
              "        [6.5, 3.2, 5.1, 2. ],\n",
              "        [6.7, 3.3, 5.7, 2.1],\n",
              "        [4.5, 2.3, 1.3, 0.3],\n",
              "        [6.2, 3.4, 5.4, 2.3],\n",
              "        [4.9, 3. , 1.4, 0.2],\n",
              "        [5.7, 2.5, 5. , 2. ],\n",
              "        [6.9, 3.1, 5.4, 2.1],\n",
              "        [4.4, 3.2, 1.3, 0.2],\n",
              "        [5. , 3.6, 1.4, 0.2],\n",
              "        [7.2, 3. , 5.8, 1.6],\n",
              "        [5.1, 3.5, 1.4, 0.3],\n",
              "        [4.4, 3. , 1.3, 0.2],\n",
              "        [5.4, 3.9, 1.7, 0.4],\n",
              "        [5.5, 2.3, 4. , 1.3],\n",
              "        [6.8, 3.2, 5.9, 2.3],\n",
              "        [7.6, 3. , 6.6, 2.1],\n",
              "        [5.1, 3.5, 1.4, 0.2],\n",
              "        [4.9, 3.1, 1.5, 0.2],\n",
              "        [5.2, 3.4, 1.4, 0.2],\n",
              "        [5.7, 2.8, 4.5, 1.3],\n",
              "        [6.6, 3. , 4.4, 1.4],\n",
              "        [5. , 3.2, 1.2, 0.2],\n",
              "        [5.1, 3.3, 1.7, 0.5],\n",
              "        [6.4, 2.9, 4.3, 1.3],\n",
              "        [5.4, 3.4, 1.5, 0.4],\n",
              "        [7.7, 2.6, 6.9, 2.3],\n",
              "        [4.9, 2.4, 3.3, 1. ],\n",
              "        [7.9, 3.8, 6.4, 2. ],\n",
              "        [6.7, 3.1, 4.4, 1.4],\n",
              "        [5.2, 4.1, 1.5, 0.1],\n",
              "        [6. , 3. , 4.8, 1.8],\n",
              "        [5.8, 4. , 1.2, 0.2],\n",
              "        [7.7, 2.8, 6.7, 2. ],\n",
              "        [5.1, 3.8, 1.5, 0.3],\n",
              "        [4.7, 3.2, 1.6, 0.2],\n",
              "        [7.4, 2.8, 6.1, 1.9],\n",
              "        [5. , 3.3, 1.4, 0.2],\n",
              "        [6.3, 3.4, 5.6, 2.4],\n",
              "        [5.7, 2.8, 4.1, 1.3],\n",
              "        [5.8, 2.7, 3.9, 1.2],\n",
              "        [5.7, 2.6, 3.5, 1. ],\n",
              "        [6.4, 3.2, 5.3, 2.3],\n",
              "        [6.7, 3. , 5.2, 2.3],\n",
              "        [6.3, 2.5, 4.9, 1.5],\n",
              "        [6.7, 3. , 5. , 1.7],\n",
              "        [5. , 3. , 1.6, 0.2],\n",
              "        [5.5, 2.4, 3.7, 1. ],\n",
              "        [6.7, 3.1, 5.6, 2.4],\n",
              "        [5.8, 2.7, 5.1, 1.9],\n",
              "        [5.1, 3.4, 1.5, 0.2],\n",
              "        [6.6, 2.9, 4.6, 1.3],\n",
              "        [5.6, 3. , 4.1, 1.3],\n",
              "        [5.9, 3.2, 4.8, 1.8],\n",
              "        [6.3, 2.3, 4.4, 1.3],\n",
              "        [5.5, 3.5, 1.3, 0.2],\n",
              "        [5.1, 3.7, 1.5, 0.4],\n",
              "        [4.9, 3.1, 1.5, 0.1],\n",
              "        [6.3, 2.9, 5.6, 1.8],\n",
              "        [5.8, 2.7, 4.1, 1. ],\n",
              "        [7.7, 3.8, 6.7, 2.2],\n",
              "        [4.6, 3.2, 1.4, 0.2]]), array([[5.8, 2.8, 5.1, 2.4],\n",
              "        [6. , 2.2, 4. , 1. ],\n",
              "        [5.5, 4.2, 1.4, 0.2],\n",
              "        [7.3, 2.9, 6.3, 1.8],\n",
              "        [5. , 3.4, 1.5, 0.2],\n",
              "        [6.3, 3.3, 6. , 2.5],\n",
              "        [5. , 3.5, 1.3, 0.3],\n",
              "        [6.7, 3.1, 4.7, 1.5],\n",
              "        [6.8, 2.8, 4.8, 1.4],\n",
              "        [6.1, 2.8, 4. , 1.3],\n",
              "        [6.1, 2.6, 5.6, 1.4],\n",
              "        [6.4, 3.2, 4.5, 1.5],\n",
              "        [6.1, 2.8, 4.7, 1.2],\n",
              "        [6.5, 2.8, 4.6, 1.5],\n",
              "        [6.1, 2.9, 4.7, 1.4],\n",
              "        [4.9, 3.6, 1.4, 0.1],\n",
              "        [6. , 2.9, 4.5, 1.5],\n",
              "        [5.5, 2.6, 4.4, 1.2],\n",
              "        [4.8, 3. , 1.4, 0.3],\n",
              "        [5.4, 3.9, 1.3, 0.4],\n",
              "        [5.6, 2.8, 4.9, 2. ],\n",
              "        [5.6, 3. , 4.5, 1.5],\n",
              "        [4.8, 3.4, 1.9, 0.2],\n",
              "        [4.4, 2.9, 1.4, 0.2],\n",
              "        [6.2, 2.8, 4.8, 1.8],\n",
              "        [4.6, 3.6, 1. , 0.2],\n",
              "        [5.1, 3.8, 1.9, 0.4],\n",
              "        [6.2, 2.9, 4.3, 1.3],\n",
              "        [5. , 2.3, 3.3, 1. ],\n",
              "        [5. , 3.4, 1.6, 0.4],\n",
              "        [6.4, 3.1, 5.5, 1.8],\n",
              "        [5.4, 3. , 4.5, 1.5],\n",
              "        [5.2, 3.5, 1.5, 0.2],\n",
              "        [6.1, 3. , 4.9, 1.8],\n",
              "        [6.4, 2.8, 5.6, 2.2],\n",
              "        [5.2, 2.7, 3.9, 1.4],\n",
              "        [5.7, 3.8, 1.7, 0.3],\n",
              "        [6. , 2.7, 5.1, 1.6]]), array([1, 1, 2, 0, 2, 0, 0, 1, 2, 2, 2, 2, 1, 2, 1, 1, 2, 2, 2, 2, 1, 2,\n",
              "        1, 0, 2, 1, 1, 1, 1, 2, 0, 0, 2, 1, 0, 0, 1, 0, 2, 1, 0, 1, 2, 1,\n",
              "        0, 2, 2, 2, 2, 0, 0, 2, 2, 0, 2, 0, 2, 2, 0, 0, 2, 0, 0, 0, 1, 2,\n",
              "        2, 0, 0, 0, 1, 1, 0, 0, 1, 0, 2, 1, 2, 1, 0, 2, 0, 2, 0, 0, 2, 0,\n",
              "        2, 1, 1, 1, 2, 2, 1, 1, 0, 1, 2, 2, 0, 1, 1, 1, 1, 0, 0, 0, 2, 1,\n",
              "        2, 0]), array([2, 1, 0, 2, 0, 2, 0, 1, 1, 1, 2, 1, 1, 1, 1, 0, 1, 1, 0, 0, 2, 1,\n",
              "        0, 0, 2, 0, 0, 1, 1, 0, 2, 1, 0, 2, 2, 1, 0, 1]))"
            ]
          },
          "metadata": {
            "tags": []
          },
          "execution_count": 5
        }
      ]
    },
    {
      "metadata": {
        "id": "TS-h6anmJc85",
        "colab_type": "text"
      },
      "cell_type": "markdown",
      "source": [
        "**a. Use GaussianNB -**"
      ]
    },
    {
      "metadata": {
        "id": "6HYgE-CHJb_s",
        "colab_type": "code",
        "colab": {
          "base_uri": "https://localhost:8080/",
          "height": 34
        },
        "outputId": "b0bb7cd8-6021-405a-c70c-6d4fdbfaa41e"
      },
      "cell_type": "code",
      "source": [
        "from sklearn.naive_bayes import GaussianNB\n",
        "nb=GaussianNB()\n",
        "nb.fit(X_train,Y_train)"
      ],
      "execution_count": 6,
      "outputs": [
        {
          "output_type": "execute_result",
          "data": {
            "text/plain": [
              "GaussianNB(priors=None, var_smoothing=1e-09)"
            ]
          },
          "metadata": {
            "tags": []
          },
          "execution_count": 6
        }
      ]
    },
    {
      "metadata": {
        "id": "577YeAgnJ7sy",
        "colab_type": "code",
        "colab": {
          "base_uri": "https://localhost:8080/",
          "height": 85
        },
        "outputId": "e8e3ef9d-6092-431e-becb-e277da7cf7be"
      },
      "cell_type": "code",
      "source": [
        "# predicting values \n",
        "Y_pre=nb.predict(X_test)\n",
        "print(\"Predicted Values:\",Y_pre,\"\\n\",\"Actual Values  :\",Y_test)"
      ],
      "execution_count": 10,
      "outputs": [
        {
          "output_type": "stream",
          "text": [
            "Predicted Values: [2 1 0 2 0 2 0 1 1 1 2 1 1 1 1 0 1 1 0 0 2 1 0 0 2 0 0 1 1 0 2 1 0 2 2 1 0\n",
            " 1] \n",
            " Actual Values  : [2 1 0 2 0 2 0 1 1 1 2 1 1 1 1 0 1 1 0 0 2 1 0 0 2 0 0 1 1 0 2 1 0 2 2 1 0\n",
            " 1]\n"
          ],
          "name": "stdout"
        }
      ]
    },
    {
      "metadata": {
        "id": "MWWMtT_xKgwb",
        "colab_type": "text"
      },
      "cell_type": "markdown",
      "source": [
        "**i. Confusion matrix - **"
      ]
    },
    {
      "metadata": {
        "id": "D66FD7waKjwV",
        "colab_type": "code",
        "colab": {
          "base_uri": "https://localhost:8080/",
          "height": 68
        },
        "outputId": "58f94abb-c7bb-451d-a533-5f68e97483dc"
      },
      "cell_type": "code",
      "source": [
        "from sklearn.metrics import confusion_matrix\n",
        "con=confusion_matrix(Y_test,Y_pre)\n",
        "con"
      ],
      "execution_count": 14,
      "outputs": [
        {
          "output_type": "execute_result",
          "data": {
            "text/plain": [
              "array([[13,  0,  0],\n",
              "       [ 0, 16,  0],\n",
              "       [ 0,  0,  9]])"
            ]
          },
          "metadata": {
            "tags": []
          },
          "execution_count": 14
        }
      ]
    },
    {
      "metadata": {
        "id": "mCfQVaesLO5j",
        "colab_type": "text"
      },
      "cell_type": "markdown",
      "source": [
        "**ii. Classification report -**"
      ]
    },
    {
      "metadata": {
        "id": "SDHaBNrPLTyl",
        "colab_type": "code",
        "colab": {
          "base_uri": "https://localhost:8080/",
          "height": 187
        },
        "outputId": "1a5287ae-b8c7-46d9-8611-b999bddc828f"
      },
      "cell_type": "code",
      "source": [
        "from sklearn import metrics \n",
        "print(metrics.classification_report(Y_test,Y_pre))"
      ],
      "execution_count": 16,
      "outputs": [
        {
          "output_type": "stream",
          "text": [
            "              precision    recall  f1-score   support\n",
            "\n",
            "           0       1.00      1.00      1.00        13\n",
            "           1       1.00      1.00      1.00        16\n",
            "           2       1.00      1.00      1.00         9\n",
            "\n",
            "   micro avg       1.00      1.00      1.00        38\n",
            "   macro avg       1.00      1.00      1.00        38\n",
            "weighted avg       1.00      1.00      1.00        38\n",
            "\n"
          ],
          "name": "stdout"
        }
      ]
    },
    {
      "metadata": {
        "id": "zAMUkTScMIxJ",
        "colab_type": "text"
      },
      "cell_type": "markdown",
      "source": [
        "**d) Use MultinomialNB -**"
      ]
    },
    {
      "metadata": {
        "id": "9ulGlzEYMJ-9",
        "colab_type": "code",
        "colab": {
          "base_uri": "https://localhost:8080/",
          "height": 34
        },
        "outputId": "7ca858d1-8997-4113-b541-6fd8adc95e9a"
      },
      "cell_type": "code",
      "source": [
        "from sklearn.naive_bayes import MultinomialNB \n",
        "mn=MultinomialNB()\n",
        "mn.fit(X_train,Y_train)"
      ],
      "execution_count": 17,
      "outputs": [
        {
          "output_type": "execute_result",
          "data": {
            "text/plain": [
              "MultinomialNB(alpha=1.0, class_prior=None, fit_prior=True)"
            ]
          },
          "metadata": {
            "tags": []
          },
          "execution_count": 17
        }
      ]
    },
    {
      "metadata": {
        "id": "rvS7zldBQC8v",
        "colab_type": "text"
      },
      "cell_type": "markdown",
      "source": [
        "**i. Confusion matrix -**"
      ]
    },
    {
      "metadata": {
        "id": "ygKQa64lQS32",
        "colab_type": "code",
        "colab": {}
      },
      "cell_type": "code",
      "source": [
        "Y_pre=mn.predict(X_test)"
      ],
      "execution_count": 0,
      "outputs": []
    },
    {
      "metadata": {
        "id": "BE0ZlXMEQY5C",
        "colab_type": "code",
        "colab": {
          "base_uri": "https://localhost:8080/",
          "height": 85
        },
        "outputId": "7d9f5499-5e37-43e3-b8d0-298bada84ffc"
      },
      "cell_type": "code",
      "source": [
        "print(\"Predicted Values:\",Y_pre)\n",
        "print(\"Actual Values   :\",Y_test)"
      ],
      "execution_count": 20,
      "outputs": [
        {
          "output_type": "stream",
          "text": [
            "Predicted Values: [2 2 0 2 0 2 0 2 2 2 2 2 2 2 2 0 2 2 0 0 2 2 0 0 2 0 0 2 2 0 2 2 0 2 2 2 0\n",
            " 2]\n",
            "Actual Values   : [2 1 0 2 0 2 0 1 1 1 2 1 1 1 1 0 1 1 0 0 2 1 0 0 2 0 0 1 1 0 2 1 0 2 2 1 0\n",
            " 1]\n"
          ],
          "name": "stdout"
        }
      ]
    },
    {
      "metadata": {
        "id": "Sh6di-8lQD-v",
        "colab_type": "code",
        "colab": {
          "base_uri": "https://localhost:8080/",
          "height": 68
        },
        "outputId": "c8526bb2-58b5-4604-c32a-20823237b6fe"
      },
      "cell_type": "code",
      "source": [
        "from sklearn.metrics import confusion_matrix \n",
        "con=confusion_matrix(Y_test,Y_pre)\n",
        "con"
      ],
      "execution_count": 21,
      "outputs": [
        {
          "output_type": "execute_result",
          "data": {
            "text/plain": [
              "array([[13,  0,  0],\n",
              "       [ 0,  0, 16],\n",
              "       [ 0,  0,  9]])"
            ]
          },
          "metadata": {
            "tags": []
          },
          "execution_count": 21
        }
      ]
    },
    {
      "metadata": {
        "id": "MozuKDC5Qks7",
        "colab_type": "text"
      },
      "cell_type": "markdown",
      "source": [
        "**ii. Classification report -**"
      ]
    },
    {
      "metadata": {
        "id": "VzD4my8HQrMF",
        "colab_type": "code",
        "colab": {
          "base_uri": "https://localhost:8080/",
          "height": 241
        },
        "outputId": "103c86f0-744a-4442-b37f-4a8552714b2e"
      },
      "cell_type": "code",
      "source": [
        "from sklearn import metrics \n",
        "print(metrics.classification_report(Y_test,Y_pre))"
      ],
      "execution_count": 22,
      "outputs": [
        {
          "output_type": "stream",
          "text": [
            "              precision    recall  f1-score   support\n",
            "\n",
            "           0       1.00      1.00      1.00        13\n",
            "           1       0.00      0.00      0.00        16\n",
            "           2       0.36      1.00      0.53         9\n",
            "\n",
            "   micro avg       0.58      0.58      0.58        38\n",
            "   macro avg       0.45      0.67      0.51        38\n",
            "weighted avg       0.43      0.58      0.47        38\n",
            "\n"
          ],
          "name": "stdout"
        },
        {
          "output_type": "stream",
          "text": [
            "/usr/local/lib/python3.6/dist-packages/sklearn/metrics/classification.py:1143: UndefinedMetricWarning: Precision and F-score are ill-defined and being set to 0.0 in labels with no predicted samples.\n",
            "  'precision', 'predicted', average, warn_for)\n"
          ],
          "name": "stderr"
        }
      ]
    }
  ]
}